{
 "cells": [
  {
   "cell_type": "markdown",
   "id": "a83c0992",
   "metadata": {},
   "source": [
    "### Incorporations (Embeddings)\n",
    "\n",
    "Les incorporations sont une méthode pour représenter des mots ou des tokens sous forme de vecteurs numériques dans un espace vectoriel. Ces vecteurs sont appris à partir des données d'entraînement du modèle. \n",
    "\n",
    "Supposons que nous ayons un vocabulaire de taille $V$ (c'est-à-dire, $V$ mots différents). Chaque mot est représenté par un vecteur de dimension $d$ (où $d$ est la dimension de l'incorporation). Ces vecteurs de mots sont organisés dans une matrice appelée matrice d'incorporation $E$ de taille $V \\times d$.\n",
    "\n",
    "Ainsi, si $w_i$ est le vecteur d'incorporation du mot $i$ (où $i$ est l'indice du mot dans le vocabulaire), alors $E[i]$ donne le vecteur d'incorporation du mot $i$."
   ]
  },
  {
   "cell_type": "code",
   "execution_count": 11,
   "id": "63f38d8c",
   "metadata": {},
   "outputs": [],
   "source": [
    "import torch\n",
    "import torch.nn as nn\n",
    "from torch.autograd import Variable\n",
    "import math"
   ]
  },
  {
   "cell_type": "code",
   "execution_count": 3,
   "id": "76d83bbb",
   "metadata": {},
   "outputs": [
    {
     "name": "stdout",
     "output_type": "stream",
     "text": [
      "Input:  torch.Size([1, 10])\n",
      "Output:  torch.Size([1, 10, 32])\n"
     ]
    }
   ],
   "source": [
    "# Définir la longueur maximale de la séquence et la dimension d'intégration\n",
    "max_len = 10\n",
    "d_model = 32\n",
    "vocab_size = 100  # Taille du vocabulaire\n",
    "\n",
    "# Générer des données aléatoires (batch_size=1, sequence_length=max_len)\n",
    "random_data = torch.randint(0, vocab_size, (1, max_len))  # Random integers as token IDs\n",
    "\n",
    "# Définir la couche d'intégration\n",
    "embedding_layer = nn.Embedding(vocab_size, d_model)\n",
    "\n",
    "# Appliquer la couche d'intégration pour obtenir l'intégration des mots\n",
    "word_embeddings = embedding_layer(random_data)\n",
    "print('Input: ',random_data.shape)\n",
    "print('Output: ',word_embeddings.shape)"
   ]
  },
  {
   "cell_type": "markdown",
   "id": "1f4fc3aa",
   "metadata": {},
   "source": [
    "L'équation de position utilisée dans les transformers NLP, comme l'architecture Transformer originale développée par Vaswani et al. (2017), est basée sur l'utilisation des fonctions sinus et cosinus. Cette équation est utilisée pour incorporer des informations de position dans les plongements d'entrée, permettant au modèle de distinguer entre différentes positions dans la séquence.\n",
    "\n",
    "Dans le modèle Transformer, les encodages de position sont ajoutés aux plongements d'entrée pour fournir des informations sur la position de chaque jeton dans la séquence. C'est crucial car contrairement aux réseaux neuronaux récurrents (RNN) ou aux réseaux neuronaux convolutifs (CNN), le Transformer traite l'ensemble de la séquence d'entrée en parallèle, ce qui signifie qu'il ne comprend pas intrinsèquement l'ordre ou la position des jetons dans une séquence.\n",
    "\n",
    "La position $p$ d'un jeton dans une séquence peut être représentée comme un vecteur $\\mathbf{p} \\in \\mathbb{R}^d$, où $d$ est la dimension de l'intégration. L'encodage de position $\\mathbf{PE}(p)$ est calculé comme suit :\n",
    "\n",
    "$$\n",
    "\\begin{align*}\n",
    "\\text{PE}(p, 2i) &= \\sin\\left(\\frac{p}{10000^{2i/d}}\\right) \\\\\n",
    "\\text{PE}(p, 2i+1) &= \\cos\\left(\\frac{p}{10000^{2i/d}}\\right)\n",
    "\\end{align*}\n",
    "$$\n",
    "\n",
    "Ici, $p$ fait référence à la position du jeton dans la séquence, $i$ représente l'indice de dimension dans l'intégration, et $d$ est la dimension de l'intégration.\n",
    "\n",
    "Cette formule garantit que chaque dimension de l'encodage de position correspond à une fonction sinusoidale de longueur d'onde différente. Cela permet au modèle de généraliser sur différentes longueurs de séquence.\n",
    "\n",
    "Ces encodages de position sont ensuite ajoutés aux plongements d'entrée avant d'être introduits dans le modèle. De cette manière, le modèle reçoit des informations sur la position des jetons, ce qui lui permet de comprendre l'ordre dans lequel ils apparaissent dans la séquence d'entrée.\n",
    "\n",
    "En incorporant des informations de position à travers les fonctions sinus et cosinus, les transformers sont capables de traiter efficacement et de comprendre des séquences de longueurs variables, ce qui constitue un avantage clé de cette architecture dans les tâches de traitement du langage naturel."
   ]
  },
  {
   "cell_type": "code",
   "execution_count": 12,
   "id": "b6e57206",
   "metadata": {},
   "outputs": [],
   "source": [
    "class Pos_Encoder(nn.Module):\n",
    "    def __init__(self,  max_len,d_model):\n",
    "        super(Pos_Encoder, self).__init__()\n",
    "        self.d_model = d_model\n",
    "        pe = torch.zeros(max_len, d_model)\n",
    "        for pos in range(max_len):\n",
    "            for i in range(0, d_model, 2):\n",
    "                \n",
    "                pe[pos, i] = math.sin(pos/(10000**((i)/d_model)))\n",
    "                pe[pos, i + 1] = math.cos(pos/(10000**(((i))/d_model)))\n",
    "        pe = pe.unsqueeze(0)\n",
    "        self.register_buffer('pe', pe)\n",
    "    \n",
    "    def forward(self, x):\n",
    "        # input = batch_size X seq_len X d_model\n",
    "        x = x + Variable(self.pe[:, :x.size(1)], requires_grad=False)\n",
    "        return x"
   ]
  },
  {
   "cell_type": "code",
   "execution_count": 13,
   "id": "d19447ff",
   "metadata": {},
   "outputs": [],
   "source": [
    "# Créer des encastrements positionnels\n",
    "pos_encodings = Pos_Encoder(max_len, d_model)"
   ]
  },
  {
   "cell_type": "code",
   "execution_count": 17,
   "id": "5cd0479d",
   "metadata": {},
   "outputs": [
    {
     "name": "stdout",
     "output_type": "stream",
     "text": [
      "Final Embedding:  torch.Size([1, 10, 32])\n"
     ]
    }
   ],
   "source": [
    "# Ajouter des embeddings positionnels aux embeddings de mots\n",
    "final_embeddings =pos_encodings(word_embeddings)\n",
    "print('Final Embedding: ',final_embeddings.shape)"
   ]
  },
  {
   "cell_type": "code",
   "execution_count": 19,
   "id": "6e9dbed1",
   "metadata": {},
   "outputs": [],
   "source": [
    "pe=pos_encodings.pe.detach().numpy()"
   ]
  },
  {
   "cell_type": "code",
   "execution_count": 22,
   "id": "d9b39ab7",
   "metadata": {},
   "outputs": [
    {
     "data": {
      "text/plain": [
       "<matplotlib.image.AxesImage at 0x22ebe29ef90>"
      ]
     },
     "execution_count": 22,
     "metadata": {},
     "output_type": "execute_result"
    },
    {
     "data": {
      "image/png": "[encoded data removed]",
      "text/plain": [
       "<Figure size 640x480 with 1 Axes>"
      ]
     },
     "metadata": {},
     "output_type": "display_data"
    }
   ],
   "source": [
    "import matplotlib.pyplot as plt\n",
    "plt.imshow(pe[0],'jet')"
   ]
  },
  {
   "cell_type": "code",
   "execution_count": null,
   "id": "35a7c0f7",
   "metadata": {},
   "outputs": [],
   "source": []
  }
 ],
 "metadata": {
  "kernelspec": {
   "display_name": "Python 3 (ipykernel)",
   "language": "python",
   "name": "python3"
  },
  "language_info": {
   "codemirror_mode": {
    "name": "ipython",
    "version": 3
   },
   "file_extension": ".py",
   "mimetype": "text/x-python",
   "name": "python",
   "nbconvert_exporter": "python",
   "pygments_lexer": "ipython3",
   "version": "3.11.5"
  }
 },
 "nbformat": 4,
 "nbformat_minor": 5
}
