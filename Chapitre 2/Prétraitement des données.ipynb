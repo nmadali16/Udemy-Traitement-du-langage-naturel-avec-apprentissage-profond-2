{
 "cells": [
  {
   "cell_type": "code",
   "execution_count": 7,
   "id": "ff95bcc9",
   "metadata": {
    "executionInfo": {
     "elapsed": 13900,
     "status": "ok",
     "timestamp": 1699118063601,
     "user": {
      "displayName": "nabil bcom",
      "userId": "04169804032469069549"
     },
     "user_tz": -60
    },
    "id": "ff95bcc9"
   },
   "outputs": [],
   "source": [
    "import pandas as pd\n",
    "import os\n",
    "import re\n",
    "import spacy\n",
    "import logging\n"
   ]
  },
  {
   "cell_type": "code",
   "execution_count": 1,
   "id": "_0D7x3a5SF3j",
   "metadata": {
    "executionInfo": {
     "elapsed": 14,
     "status": "ok",
     "timestamp": 1699118063601,
     "user": {
      "displayName": "nabil bcom",
      "userId": "04169804032469069549"
     },
     "user_tz": -60
    },
    "id": "_0D7x3a5SF3j"
   },
   "outputs": [
    {
     "name": "stdout",
     "output_type": "stream",
     "text": [
      "Collecting en-core-web-sm==3.7.0\n",
      "  Downloading https://github.com/explosion/spacy-models/releases/download/en_core_web_sm-3.7.0/en_core_web_sm-3.7.0-py3-none-any.whl (12.8 MB)\n",
      "     ---------------------------------------- 0.0/12.8 MB ? eta -:--:--\n",
      "     --------------------------------------- 0.0/12.8 MB 660.6 kB/s eta 0:00:20\n",
      "     - -------------------------------------- 0.4/12.8 MB 3.8 MB/s eta 0:00:04\n",
      "     -- ------------------------------------- 0.9/12.8 MB 7.4 MB/s eta 0:00:02\n",
      "     ---- ----------------------------------- 1.6/12.8 MB 9.1 MB/s eta 0:00:02\n",
      "     ------- -------------------------------- 2.5/12.8 MB 12.5 MB/s eta 0:00:01\n",
      "     ----------- ---------------------------- 3.6/12.8 MB 14.4 MB/s eta 0:00:01\n",
      "     ------------------ --------------------- 5.8/12.8 MB 20.6 MB/s eta 0:00:01\n",
      "     ----------------------- ---------------- 7.7/12.8 MB 23.4 MB/s eta 0:00:01\n",
      "     --------------------------------- ----- 11.0/12.8 MB 38.5 MB/s eta 0:00:01\n",
      "     --------------------------------------  12.8/12.8 MB 50.4 MB/s eta 0:00:01\n",
      "     --------------------------------------- 12.8/12.8 MB 43.7 MB/s eta 0:00:00\n",
      "Requirement already satisfied: spacy<3.8.0,>=3.7.0 in c:\\users\\nmadali\\appdata\\local\\anaconda3\\lib\\site-packages (from en-core-web-sm==3.7.0) (3.7.2)\n",
      "Requirement already satisfied: spacy-legacy<3.1.0,>=3.0.11 in c:\\users\\nmadali\\appdata\\local\\anaconda3\\lib\\site-packages (from spacy<3.8.0,>=3.7.0->en-core-web-sm==3.7.0) (3.0.12)\n",
      "Requirement already satisfied: spacy-loggers<2.0.0,>=1.0.0 in c:\\users\\nmadali\\appdata\\local\\anaconda3\\lib\\site-packages (from spacy<3.8.0,>=3.7.0->en-core-web-sm==3.7.0) (1.0.5)\n",
      "Requirement already satisfied: murmurhash<1.1.0,>=0.28.0 in c:\\users\\nmadali\\appdata\\local\\anaconda3\\lib\\site-packages (from spacy<3.8.0,>=3.7.0->en-core-web-sm==3.7.0) (1.0.10)\n",
      "Requirement already satisfied: cymem<2.1.0,>=2.0.2 in c:\\users\\nmadali\\appdata\\local\\anaconda3\\lib\\site-packages (from spacy<3.8.0,>=3.7.0->en-core-web-sm==3.7.0) (2.0.8)\n",
      "Requirement already satisfied: preshed<3.1.0,>=3.0.2 in c:\\users\\nmadali\\appdata\\local\\anaconda3\\lib\\site-packages (from spacy<3.8.0,>=3.7.0->en-core-web-sm==3.7.0) (3.0.9)\n",
      "Requirement already satisfied: thinc<8.3.0,>=8.1.8 in c:\\users\\nmadali\\appdata\\local\\anaconda3\\lib\\site-packages (from spacy<3.8.0,>=3.7.0->en-core-web-sm==3.7.0) (8.2.1)\n",
      "Requirement already satisfied: wasabi<1.2.0,>=0.9.1 in c:\\users\\nmadali\\appdata\\local\\anaconda3\\lib\\site-packages (from spacy<3.8.0,>=3.7.0->en-core-web-sm==3.7.0) (1.1.2)\n",
      "Requirement already satisfied: srsly<3.0.0,>=2.4.3 in c:\\users\\nmadali\\appdata\\local\\anaconda3\\lib\\site-packages (from spacy<3.8.0,>=3.7.0->en-core-web-sm==3.7.0) (2.4.8)\n",
      "Requirement already satisfied: catalogue<2.1.0,>=2.0.6 in c:\\users\\nmadali\\appdata\\local\\anaconda3\\lib\\site-packages (from spacy<3.8.0,>=3.7.0->en-core-web-sm==3.7.0) (2.0.10)\n",
      "Requirement already satisfied: weasel<0.4.0,>=0.1.0 in c:\\users\\nmadali\\appdata\\local\\anaconda3\\lib\\site-packages (from spacy<3.8.0,>=3.7.0->en-core-web-sm==3.7.0) (0.3.3)\n",
      "Requirement already satisfied: typer<0.10.0,>=0.3.0 in c:\\users\\nmadali\\appdata\\local\\anaconda3\\lib\\site-packages (from spacy<3.8.0,>=3.7.0->en-core-web-sm==3.7.0) (0.9.0)\n",
      "Requirement already satisfied: smart-open<7.0.0,>=5.2.1 in c:\\users\\nmadali\\appdata\\local\\anaconda3\\lib\\site-packages (from spacy<3.8.0,>=3.7.0->en-core-web-sm==3.7.0) (5.2.1)\n",
      "Requirement already satisfied: tqdm<5.0.0,>=4.38.0 in c:\\users\\nmadali\\appdata\\local\\anaconda3\\lib\\site-packages (from spacy<3.8.0,>=3.7.0->en-core-web-sm==3.7.0) (4.65.0)\n",
      "Requirement already satisfied: requests<3.0.0,>=2.13.0 in c:\\users\\nmadali\\appdata\\local\\anaconda3\\lib\\site-packages (from spacy<3.8.0,>=3.7.0->en-core-web-sm==3.7.0) (2.31.0)\n",
      "Requirement already satisfied: pydantic!=1.8,!=1.8.1,<3.0.0,>=1.7.4 in c:\\users\\nmadali\\appdata\\local\\anaconda3\\lib\\site-packages (from spacy<3.8.0,>=3.7.0->en-core-web-sm==3.7.0) (1.10.8)\n",
      "Requirement already satisfied: jinja2 in c:\\users\\nmadali\\appdata\\local\\anaconda3\\lib\\site-packages (from spacy<3.8.0,>=3.7.0->en-core-web-sm==3.7.0) (3.1.2)\n",
      "Requirement already satisfied: setuptools in c:\\users\\nmadali\\appdata\\local\\anaconda3\\lib\\site-packages (from spacy<3.8.0,>=3.7.0->en-core-web-sm==3.7.0) (68.0.0)\n",
      "Requirement already satisfied: packaging>=20.0 in c:\\users\\nmadali\\appdata\\local\\anaconda3\\lib\\site-packages (from spacy<3.8.0,>=3.7.0->en-core-web-sm==3.7.0) (23.1)\n",
      "Requirement already satisfied: langcodes<4.0.0,>=3.2.0 in c:\\users\\nmadali\\appdata\\local\\anaconda3\\lib\\site-packages (from spacy<3.8.0,>=3.7.0->en-core-web-sm==3.7.0) (3.3.0)\n",
      "Requirement already satisfied: numpy>=1.19.0 in c:\\users\\nmadali\\appdata\\local\\anaconda3\\lib\\site-packages (from spacy<3.8.0,>=3.7.0->en-core-web-sm==3.7.0) (1.24.3)\n",
      "Requirement already satisfied: typing-extensions>=4.2.0 in c:\\users\\nmadali\\appdata\\local\\anaconda3\\lib\\site-packages (from pydantic!=1.8,!=1.8.1,<3.0.0,>=1.7.4->spacy<3.8.0,>=3.7.0->en-core-web-sm==3.7.0) (4.7.1)\n",
      "Requirement already satisfied: charset-normalizer<4,>=2 in c:\\users\\nmadali\\appdata\\local\\anaconda3\\lib\\site-packages (from requests<3.0.0,>=2.13.0->spacy<3.8.0,>=3.7.0->en-core-web-sm==3.7.0) (2.0.4)\n",
      "Requirement already satisfied: idna<4,>=2.5 in c:\\users\\nmadali\\appdata\\local\\anaconda3\\lib\\site-packages (from requests<3.0.0,>=2.13.0->spacy<3.8.0,>=3.7.0->en-core-web-sm==3.7.0) (3.4)\n",
      "Requirement already satisfied: urllib3<3,>=1.21.1 in c:\\users\\nmadali\\appdata\\local\\anaconda3\\lib\\site-packages (from requests<3.0.0,>=2.13.0->spacy<3.8.0,>=3.7.0->en-core-web-sm==3.7.0) (1.26.16)\n",
      "Requirement already satisfied: certifi>=2017.4.17 in c:\\users\\nmadali\\appdata\\local\\anaconda3\\lib\\site-packages (from requests<3.0.0,>=2.13.0->spacy<3.8.0,>=3.7.0->en-core-web-sm==3.7.0) (2023.7.22)\n",
      "Requirement already satisfied: blis<0.8.0,>=0.7.8 in c:\\users\\nmadali\\appdata\\local\\anaconda3\\lib\\site-packages (from thinc<8.3.0,>=8.1.8->spacy<3.8.0,>=3.7.0->en-core-web-sm==3.7.0) (0.7.11)\n",
      "Requirement already satisfied: confection<1.0.0,>=0.0.1 in c:\\users\\nmadali\\appdata\\local\\anaconda3\\lib\\site-packages (from thinc<8.3.0,>=8.1.8->spacy<3.8.0,>=3.7.0->en-core-web-sm==3.7.0) (0.1.3)\n",
      "Requirement already satisfied: colorama in c:\\users\\nmadali\\appdata\\local\\anaconda3\\lib\\site-packages (from tqdm<5.0.0,>=4.38.0->spacy<3.8.0,>=3.7.0->en-core-web-sm==3.7.0) (0.4.6)\n",
      "Requirement already satisfied: click<9.0.0,>=7.1.1 in c:\\users\\nmadali\\appdata\\local\\anaconda3\\lib\\site-packages (from typer<0.10.0,>=0.3.0->spacy<3.8.0,>=3.7.0->en-core-web-sm==3.7.0) (8.0.4)\n",
      "Requirement already satisfied: cloudpathlib<0.17.0,>=0.7.0 in c:\\users\\nmadali\\appdata\\local\\anaconda3\\lib\\site-packages (from weasel<0.4.0,>=0.1.0->spacy<3.8.0,>=3.7.0->en-core-web-sm==3.7.0) (0.16.0)\n",
      "Requirement already satisfied: MarkupSafe>=2.0 in c:\\users\\nmadali\\appdata\\local\\anaconda3\\lib\\site-packages (from jinja2->spacy<3.8.0,>=3.7.0->en-core-web-sm==3.7.0) (2.1.1)\n",
      "\u001b[38;5;2m[+] Download and installation successful\u001b[0m\n",
      "You can now load the package via spacy.load('en_core_web_sm')\n"
     ]
    },
    {
     "name": "stderr",
     "output_type": "stream",
     "text": [
      "DEPRECATION: Loading egg at c:\\users\\nmadali\\appdata\\local\\anaconda3\\lib\\site-packages\\pyasn1_modules-0.3.0-py3.11.egg is deprecated. pip 23.3 will enforce this behaviour change. A possible replacement is to use pip for package installation..\n"
     ]
    },
    {
     "name": "stdout",
     "output_type": "stream",
     "text": [
      "Collecting fr-core-news-sm==3.7.0\n",
      "  Downloading https://github.com/explosion/spacy-models/releases/download/fr_core_news_sm-3.7.0/fr_core_news_sm-3.7.0-py3-none-any.whl (16.3 MB)\n",
      "     ---------------------------------------- 0.0/16.3 MB ? eta -:--:--\n",
      "     --------------------------------------- 0.0/16.3 MB 640.0 kB/s eta 0:00:26\n",
      "     ---------------------------------------- 0.1/16.3 MB 1.4 MB/s eta 0:00:12\n",
      "      --------------------------------------- 0.3/16.3 MB 3.1 MB/s eta 0:00:06\n",
      "     - -------------------------------------- 0.8/16.3 MB 4.9 MB/s eta 0:00:04\n",
      "     --- ------------------------------------ 1.4/16.3 MB 6.9 MB/s eta 0:00:03\n",
      "     ----- ---------------------------------- 2.1/16.3 MB 8.2 MB/s eta 0:00:02\n",
      "     ------- -------------------------------- 3.0/16.3 MB 10.8 MB/s eta 0:00:02\n",
      "     --------- ------------------------------ 4.0/16.3 MB 12.3 MB/s eta 0:00:01\n",
      "     -------------- ------------------------- 5.8/16.3 MB 15.5 MB/s eta 0:00:01\n",
      "     -------------------- ------------------- 8.3/16.3 MB 19.7 MB/s eta 0:00:01\n",
      "     ---------------------------- ---------- 11.9/16.3 MB 40.9 MB/s eta 0:00:01\n",
      "     --------------------------------------  16.3/16.3 MB 72.6 MB/s eta 0:00:01\n",
      "     --------------------------------------- 16.3/16.3 MB 54.7 MB/s eta 0:00:00\n",
      "Requirement already satisfied: spacy<3.8.0,>=3.7.0 in c:\\users\\nmadali\\appdata\\local\\anaconda3\\lib\\site-packages (from fr-core-news-sm==3.7.0) (3.7.2)\n",
      "Requirement already satisfied: spacy-legacy<3.1.0,>=3.0.11 in c:\\users\\nmadali\\appdata\\local\\anaconda3\\lib\\site-packages (from spacy<3.8.0,>=3.7.0->fr-core-news-sm==3.7.0) (3.0.12)\n",
      "Requirement already satisfied: spacy-loggers<2.0.0,>=1.0.0 in c:\\users\\nmadali\\appdata\\local\\anaconda3\\lib\\site-packages (from spacy<3.8.0,>=3.7.0->fr-core-news-sm==3.7.0) (1.0.5)\n",
      "Requirement already satisfied: murmurhash<1.1.0,>=0.28.0 in c:\\users\\nmadali\\appdata\\local\\anaconda3\\lib\\site-packages (from spacy<3.8.0,>=3.7.0->fr-core-news-sm==3.7.0) (1.0.10)\n",
      "Requirement already satisfied: cymem<2.1.0,>=2.0.2 in c:\\users\\nmadali\\appdata\\local\\anaconda3\\lib\\site-packages (from spacy<3.8.0,>=3.7.0->fr-core-news-sm==3.7.0) (2.0.8)\n",
      "Requirement already satisfied: preshed<3.1.0,>=3.0.2 in c:\\users\\nmadali\\appdata\\local\\anaconda3\\lib\\site-packages (from spacy<3.8.0,>=3.7.0->fr-core-news-sm==3.7.0) (3.0.9)\n",
      "Requirement already satisfied: thinc<8.3.0,>=8.1.8 in c:\\users\\nmadali\\appdata\\local\\anaconda3\\lib\\site-packages (from spacy<3.8.0,>=3.7.0->fr-core-news-sm==3.7.0) (8.2.1)\n",
      "Requirement already satisfied: wasabi<1.2.0,>=0.9.1 in c:\\users\\nmadali\\appdata\\local\\anaconda3\\lib\\site-packages (from spacy<3.8.0,>=3.7.0->fr-core-news-sm==3.7.0) (1.1.2)\n",
      "Requirement already satisfied: srsly<3.0.0,>=2.4.3 in c:\\users\\nmadali\\appdata\\local\\anaconda3\\lib\\site-packages (from spacy<3.8.0,>=3.7.0->fr-core-news-sm==3.7.0) (2.4.8)\n",
      "Requirement already satisfied: catalogue<2.1.0,>=2.0.6 in c:\\users\\nmadali\\appdata\\local\\anaconda3\\lib\\site-packages (from spacy<3.8.0,>=3.7.0->fr-core-news-sm==3.7.0) (2.0.10)\n",
      "Requirement already satisfied: weasel<0.4.0,>=0.1.0 in c:\\users\\nmadali\\appdata\\local\\anaconda3\\lib\\site-packages (from spacy<3.8.0,>=3.7.0->fr-core-news-sm==3.7.0) (0.3.3)\n",
      "Requirement already satisfied: typer<0.10.0,>=0.3.0 in c:\\users\\nmadali\\appdata\\local\\anaconda3\\lib\\site-packages (from spacy<3.8.0,>=3.7.0->fr-core-news-sm==3.7.0) (0.9.0)\n",
      "Requirement already satisfied: smart-open<7.0.0,>=5.2.1 in c:\\users\\nmadali\\appdata\\local\\anaconda3\\lib\\site-packages (from spacy<3.8.0,>=3.7.0->fr-core-news-sm==3.7.0) (5.2.1)\n",
      "Requirement already satisfied: tqdm<5.0.0,>=4.38.0 in c:\\users\\nmadali\\appdata\\local\\anaconda3\\lib\\site-packages (from spacy<3.8.0,>=3.7.0->fr-core-news-sm==3.7.0) (4.65.0)\n",
      "Requirement already satisfied: requests<3.0.0,>=2.13.0 in c:\\users\\nmadali\\appdata\\local\\anaconda3\\lib\\site-packages (from spacy<3.8.0,>=3.7.0->fr-core-news-sm==3.7.0) (2.31.0)\n",
      "Requirement already satisfied: pydantic!=1.8,!=1.8.1,<3.0.0,>=1.7.4 in c:\\users\\nmadali\\appdata\\local\\anaconda3\\lib\\site-packages (from spacy<3.8.0,>=3.7.0->fr-core-news-sm==3.7.0) (1.10.8)\n",
      "Requirement already satisfied: jinja2 in c:\\users\\nmadali\\appdata\\local\\anaconda3\\lib\\site-packages (from spacy<3.8.0,>=3.7.0->fr-core-news-sm==3.7.0) (3.1.2)\n",
      "Requirement already satisfied: setuptools in c:\\users\\nmadali\\appdata\\local\\anaconda3\\lib\\site-packages (from spacy<3.8.0,>=3.7.0->fr-core-news-sm==3.7.0) (68.0.0)\n",
      "Requirement already satisfied: packaging>=20.0 in c:\\users\\nmadali\\appdata\\local\\anaconda3\\lib\\site-packages (from spacy<3.8.0,>=3.7.0->fr-core-news-sm==3.7.0) (23.1)\n",
      "Requirement already satisfied: langcodes<4.0.0,>=3.2.0 in c:\\users\\nmadali\\appdata\\local\\anaconda3\\lib\\site-packages (from spacy<3.8.0,>=3.7.0->fr-core-news-sm==3.7.0) (3.3.0)\n",
      "Requirement already satisfied: numpy>=1.19.0 in c:\\users\\nmadali\\appdata\\local\\anaconda3\\lib\\site-packages (from spacy<3.8.0,>=3.7.0->fr-core-news-sm==3.7.0) (1.24.3)\n",
      "Requirement already satisfied: typing-extensions>=4.2.0 in c:\\users\\nmadali\\appdata\\local\\anaconda3\\lib\\site-packages (from pydantic!=1.8,!=1.8.1,<3.0.0,>=1.7.4->spacy<3.8.0,>=3.7.0->fr-core-news-sm==3.7.0) (4.7.1)\n",
      "Requirement already satisfied: charset-normalizer<4,>=2 in c:\\users\\nmadali\\appdata\\local\\anaconda3\\lib\\site-packages (from requests<3.0.0,>=2.13.0->spacy<3.8.0,>=3.7.0->fr-core-news-sm==3.7.0) (2.0.4)\n",
      "Requirement already satisfied: idna<4,>=2.5 in c:\\users\\nmadali\\appdata\\local\\anaconda3\\lib\\site-packages (from requests<3.0.0,>=2.13.0->spacy<3.8.0,>=3.7.0->fr-core-news-sm==3.7.0) (3.4)\n",
      "Requirement already satisfied: urllib3<3,>=1.21.1 in c:\\users\\nmadali\\appdata\\local\\anaconda3\\lib\\site-packages (from requests<3.0.0,>=2.13.0->spacy<3.8.0,>=3.7.0->fr-core-news-sm==3.7.0) (1.26.16)\n",
      "Requirement already satisfied: certifi>=2017.4.17 in c:\\users\\nmadali\\appdata\\local\\anaconda3\\lib\\site-packages (from requests<3.0.0,>=2.13.0->spacy<3.8.0,>=3.7.0->fr-core-news-sm==3.7.0) (2023.7.22)\n",
      "Requirement already satisfied: blis<0.8.0,>=0.7.8 in c:\\users\\nmadali\\appdata\\local\\anaconda3\\lib\\site-packages (from thinc<8.3.0,>=8.1.8->spacy<3.8.0,>=3.7.0->fr-core-news-sm==3.7.0) (0.7.11)\n",
      "Requirement already satisfied: confection<1.0.0,>=0.0.1 in c:\\users\\nmadali\\appdata\\local\\anaconda3\\lib\\site-packages (from thinc<8.3.0,>=8.1.8->spacy<3.8.0,>=3.7.0->fr-core-news-sm==3.7.0) (0.1.3)\n",
      "Requirement already satisfied: colorama in c:\\users\\nmadali\\appdata\\local\\anaconda3\\lib\\site-packages (from tqdm<5.0.0,>=4.38.0->spacy<3.8.0,>=3.7.0->fr-core-news-sm==3.7.0) (0.4.6)\n",
      "Requirement already satisfied: click<9.0.0,>=7.1.1 in c:\\users\\nmadali\\appdata\\local\\anaconda3\\lib\\site-packages (from typer<0.10.0,>=0.3.0->spacy<3.8.0,>=3.7.0->fr-core-news-sm==3.7.0) (8.0.4)\n",
      "Requirement already satisfied: cloudpathlib<0.17.0,>=0.7.0 in c:\\users\\nmadali\\appdata\\local\\anaconda3\\lib\\site-packages (from weasel<0.4.0,>=0.1.0->spacy<3.8.0,>=3.7.0->fr-core-news-sm==3.7.0) (0.16.0)\n",
      "Requirement already satisfied: MarkupSafe>=2.0 in c:\\users\\nmadali\\appdata\\local\\anaconda3\\lib\\site-packages (from jinja2->spacy<3.8.0,>=3.7.0->fr-core-news-sm==3.7.0) (2.1.1)\n",
      "Installing collected packages: fr-core-news-sm\n",
      "Successfully installed fr-core-news-sm-3.7.0\n",
      "\u001b[38;5;2m[+] Download and installation successful\u001b[0m\n",
      "You can now load the package via spacy.load('fr_core_news_sm')\n"
     ]
    },
    {
     "name": "stderr",
     "output_type": "stream",
     "text": [
      "DEPRECATION: Loading egg at c:\\users\\nmadali\\appdata\\local\\anaconda3\\lib\\site-packages\\pyasn1_modules-0.3.0-py3.11.egg is deprecated. pip 23.3 will enforce this behaviour change. A possible replacement is to use pip for package installation..\n"
     ]
    }
   ],
   "source": [
    "#!python -m spacy download en_core_web_sm\n",
    "#!python -m spacy download fr_core_news_sm"
   ]
  },
  {
   "cell_type": "code",
   "execution_count": 8,
   "id": "72e653e1",
   "metadata": {
    "executionInfo": {
     "elapsed": 13,
     "status": "ok",
     "timestamp": 1699118063601,
     "user": {
      "displayName": "nabil bcom",
      "userId": "04169804032469069549"
     },
     "user_tz": -60
    },
    "id": "72e653e1"
   },
   "outputs": [],
   "source": [
    "class tokener(object):\n",
    "    def __init__(self, lang):\n",
    "        d = {\"en\":\"en_core_web_sm\", \"fr\":\"fr_core_news_sm\"}\n",
    "        self.ob = spacy.load(d[lang])\n",
    "\n",
    "    def tokenize(self, sent):\n",
    "        sent = re.sub(r\"[\\*\\\"“”\\n\\\\…\\+\\-\\/\\=\\(\\)‘•:\\[\\]\\|’\\!;]\", \" \", str(sent))\n",
    "        sent = re.sub(r\"\\!+\", \"!\", sent)\n",
    "        sent = re.sub(r\"\\,+\", \",\", sent)\n",
    "        sent = re.sub(r\"\\?+\", \"?\", sent)\n",
    "        sent = re.sub(r\"[ ]+\", \" \", sent)\n",
    "        sent = sent.lower()\n",
    "        sent = [token.text for token in self.ob.tokenizer(sent) if token.text != \" \"]\n",
    "        sent = \" \".join(sent)\n",
    "        return sent"
   ]
  },
  {
   "cell_type": "code",
   "execution_count": 9,
   "id": "18c957ce",
   "metadata": {
    "executionInfo": {
     "elapsed": 13,
     "status": "ok",
     "timestamp": 1699118063601,
     "user": {
      "displayName": "nabil bcom",
      "userId": "04169804032469069549"
     },
     "user_tz": -60
    },
    "id": "18c957ce"
   },
   "outputs": [],
   "source": [
    "def dum_tokenizer(sent):\n",
    "    return sent.split()"
   ]
  },
  {
   "cell_type": "code",
   "execution_count": 11,
   "id": "f8d2ca6f",
   "metadata": {
    "colab": {
     "base_uri": "https://localhost:8080/",
     "height": 206
    },
    "executionInfo": {
     "elapsed": 444,
     "status": "ok",
     "timestamp": 1699118064032,
     "user": {
      "displayName": "nabil bcom",
      "userId": "04169804032469069549"
     },
     "user_tz": -60
    },
    "id": "f8d2ca6f",
    "outputId": "e9709a66-b65a-4388-cffe-5867c2f5e4c4"
   },
   "outputs": [
    {
     "data": {
      "text/html": [
       "<div>\n",
       "<style scoped>\n",
       "    .dataframe tbody tr th:only-of-type {\n",
       "        vertical-align: middle;\n",
       "    }\n",
       "\n",
       "    .dataframe tbody tr th {\n",
       "        vertical-align: top;\n",
       "    }\n",
       "\n",
       "    .dataframe thead th {\n",
       "        text-align: right;\n",
       "    }\n",
       "</style>\n",
       "<table border=\"1\" class=\"dataframe\">\n",
       "  <thead>\n",
       "    <tr style=\"text-align: right;\">\n",
       "      <th></th>\n",
       "      <th>English</th>\n",
       "      <th>French</th>\n",
       "    </tr>\n",
       "  </thead>\n",
       "  <tbody>\n",
       "    <tr>\n",
       "      <th>0</th>\n",
       "      <td>Go.</td>\n",
       "      <td>Va !</td>\n",
       "    </tr>\n",
       "    <tr>\n",
       "      <th>1</th>\n",
       "      <td>Run!</td>\n",
       "      <td>Cours !</td>\n",
       "    </tr>\n",
       "    <tr>\n",
       "      <th>2</th>\n",
       "      <td>Run!</td>\n",
       "      <td>Courez !</td>\n",
       "    </tr>\n",
       "    <tr>\n",
       "      <th>3</th>\n",
       "      <td>Fire!</td>\n",
       "      <td>Au feu !</td>\n",
       "    </tr>\n",
       "    <tr>\n",
       "      <th>4</th>\n",
       "      <td>Help!</td>\n",
       "      <td>À l'aide !</td>\n",
       "    </tr>\n",
       "  </tbody>\n",
       "</table>\n",
       "</div>"
      ],
      "text/plain": [
       "  English      French\n",
       "0     Go.        Va !\n",
       "1    Run!     Cours !\n",
       "2    Run!    Courez !\n",
       "3   Fire!    Au feu !\n",
       "4   Help!  À l'aide !"
      ]
     },
     "execution_count": 11,
     "metadata": {},
     "output_type": "execute_result"
    }
   ],
   "source": [
    "df = pd.read_csv(os.path.join('..',\"data/\", \"english.txt\"), names=[\"English\"], on_bad_lines='skip')\n",
    "df[\"French\"] = pd.read_csv(os.path.join('..',\"data/\", \"french.txt\"), names=[\"French\"], on_bad_lines='skip')[\"French\"]\n",
    "\n",
    "\n",
    "df.head()"
   ]
  },
  {
   "cell_type": "code",
   "execution_count": 12,
   "id": "wMfGlbRBR6wl",
   "metadata": {
    "executionInfo": {
     "elapsed": 23156,
     "status": "ok",
     "timestamp": 1699118087185,
     "user": {
      "displayName": "nabil bcom",
      "userId": "04169804032469069549"
     },
     "user_tz": -60
    },
    "id": "wMfGlbRBR6wl"
   },
   "outputs": [],
   "source": [
    "tokenizer_fr = tokener(\"fr\")\n",
    "tokenizer_en = tokener(\"en\")\n",
    "df[\"English\"] = df[\"English\"].apply(lambda x: tokenizer_en.tokenize(x))\n",
    "df[\"French\"] = df[\"French\"].apply(lambda x: tokenizer_fr.tokenize(x))\n"
   ]
  },
  {
   "cell_type": "code",
   "execution_count": 13,
   "id": "UeMLKUs7TVA7",
   "metadata": {
    "colab": {
     "base_uri": "https://localhost:8080/",
     "height": 206
    },
    "executionInfo": {
     "elapsed": 26,
     "status": "ok",
     "timestamp": 1699118087185,
     "user": {
      "displayName": "nabil bcom",
      "userId": "04169804032469069549"
     },
     "user_tz": -60
    },
    "id": "UeMLKUs7TVA7",
    "outputId": "9381e8fc-fef0-4251-b678-13290df84a61"
   },
   "outputs": [
    {
     "data": {
      "text/html": [
       "<div>\n",
       "<style scoped>\n",
       "    .dataframe tbody tr th:only-of-type {\n",
       "        vertical-align: middle;\n",
       "    }\n",
       "\n",
       "    .dataframe tbody tr th {\n",
       "        vertical-align: top;\n",
       "    }\n",
       "\n",
       "    .dataframe thead th {\n",
       "        text-align: right;\n",
       "    }\n",
       "</style>\n",
       "<table border=\"1\" class=\"dataframe\">\n",
       "  <thead>\n",
       "    <tr style=\"text-align: right;\">\n",
       "      <th></th>\n",
       "      <th>English</th>\n",
       "      <th>French</th>\n",
       "    </tr>\n",
       "  </thead>\n",
       "  <tbody>\n",
       "    <tr>\n",
       "      <th>0</th>\n",
       "      <td>go .</td>\n",
       "      <td>va</td>\n",
       "    </tr>\n",
       "    <tr>\n",
       "      <th>1</th>\n",
       "      <td>run</td>\n",
       "      <td>cours</td>\n",
       "    </tr>\n",
       "    <tr>\n",
       "      <th>2</th>\n",
       "      <td>run</td>\n",
       "      <td>courez</td>\n",
       "    </tr>\n",
       "    <tr>\n",
       "      <th>3</th>\n",
       "      <td>fire</td>\n",
       "      <td>au feu</td>\n",
       "    </tr>\n",
       "    <tr>\n",
       "      <th>4</th>\n",
       "      <td>help</td>\n",
       "      <td>à l' aide</td>\n",
       "    </tr>\n",
       "  </tbody>\n",
       "</table>\n",
       "</div>"
      ],
      "text/plain": [
       "  English        French\n",
       "0    go .            va\n",
       "1     run      cours   \n",
       "2     run     courez   \n",
       "3    fire        au feu\n",
       "4    help  à l' aide   "
      ]
     },
     "execution_count": 13,
     "metadata": {},
     "output_type": "execute_result"
    }
   ],
   "source": [
    "df.head()"
   ]
  },
  {
   "cell_type": "code",
   "execution_count": 15,
   "id": "YdfwbX6LTveY",
   "metadata": {
    "executionInfo": {
     "elapsed": 363,
     "status": "ok",
     "timestamp": 1699118087524,
     "user": {
      "displayName": "nabil bcom",
      "userId": "04169804032469069549"
     },
     "user_tz": -60
    },
    "id": "YdfwbX6LTveY"
   },
   "outputs": [],
   "source": [
    "df.to_csv(os.path.join('..',\"data\", \"df.csv\"), index=False)"
   ]
  },
  {
   "cell_type": "code",
   "execution_count": 16,
   "id": "-0LDEFAgUae6",
   "metadata": {
    "id": "-0LDEFAgUae6"
   },
   "outputs": [
    {
     "name": "stdout",
     "output_type": "stream",
     "text": [
      "Requirement already satisfied: torchtext==0.6 in c:\\users\\nmadali\\appdata\\local\\anaconda3\\lib\\site-packages (0.6.0)\n",
      "Requirement already satisfied: tqdm in c:\\users\\nmadali\\appdata\\local\\anaconda3\\lib\\site-packages (from torchtext==0.6) (4.65.0)\n",
      "Requirement already satisfied: requests in c:\\users\\nmadali\\appdata\\local\\anaconda3\\lib\\site-packages (from torchtext==0.6) (2.31.0)\n",
      "Requirement already satisfied: torch in c:\\users\\nmadali\\appdata\\local\\anaconda3\\lib\\site-packages (from torchtext==0.6) (2.1.0)\n",
      "Requirement already satisfied: numpy in c:\\users\\nmadali\\appdata\\local\\anaconda3\\lib\\site-packages (from torchtext==0.6) (1.24.3)\n",
      "Requirement already satisfied: six in c:\\users\\nmadali\\appdata\\local\\anaconda3\\lib\\site-packages (from torchtext==0.6) (1.16.0)\n",
      "Requirement already satisfied: sentencepiece in c:\\users\\nmadali\\appdata\\local\\anaconda3\\lib\\site-packages (from torchtext==0.6) (0.1.99)\n",
      "Requirement already satisfied: charset-normalizer<4,>=2 in c:\\users\\nmadali\\appdata\\local\\anaconda3\\lib\\site-packages (from requests->torchtext==0.6) (2.0.4)\n",
      "Requirement already satisfied: idna<4,>=2.5 in c:\\users\\nmadali\\appdata\\local\\anaconda3\\lib\\site-packages (from requests->torchtext==0.6) (3.4)\n",
      "Requirement already satisfied: urllib3<3,>=1.21.1 in c:\\users\\nmadali\\appdata\\local\\anaconda3\\lib\\site-packages (from requests->torchtext==0.6) (1.26.16)\n",
      "Requirement already satisfied: certifi>=2017.4.17 in c:\\users\\nmadali\\appdata\\local\\anaconda3\\lib\\site-packages (from requests->torchtext==0.6) (2023.7.22)\n",
      "Requirement already satisfied: filelock in c:\\users\\nmadali\\appdata\\local\\anaconda3\\lib\\site-packages (from torch->torchtext==0.6) (3.9.0)\n",
      "Requirement already satisfied: typing-extensions in c:\\users\\nmadali\\appdata\\local\\anaconda3\\lib\\site-packages (from torch->torchtext==0.6) (4.7.1)\n",
      "Requirement already satisfied: sympy in c:\\users\\nmadali\\appdata\\local\\anaconda3\\lib\\site-packages (from torch->torchtext==0.6) (1.11.1)\n",
      "Requirement already satisfied: networkx in c:\\users\\nmadali\\appdata\\local\\anaconda3\\lib\\site-packages (from torch->torchtext==0.6) (3.1)\n",
      "Requirement already satisfied: jinja2 in c:\\users\\nmadali\\appdata\\local\\anaconda3\\lib\\site-packages (from torch->torchtext==0.6) (3.1.2)\n",
      "Requirement already satisfied: fsspec in c:\\users\\nmadali\\appdata\\local\\anaconda3\\lib\\site-packages (from torch->torchtext==0.6) (2023.4.0)\n",
      "Requirement already satisfied: colorama in c:\\users\\nmadali\\appdata\\local\\anaconda3\\lib\\site-packages (from tqdm->torchtext==0.6) (0.4.6)\n",
      "Requirement already satisfied: MarkupSafe>=2.0 in c:\\users\\nmadali\\appdata\\local\\anaconda3\\lib\\site-packages (from jinja2->torch->torchtext==0.6) (2.1.1)\n",
      "Requirement already satisfied: mpmath>=0.19 in c:\\users\\nmadali\\appdata\\local\\anaconda3\\lib\\site-packages (from sympy->torch->torchtext==0.6) (1.3.0)\n"
     ]
    },
    {
     "name": "stderr",
     "output_type": "stream",
     "text": [
      "DEPRECATION: Loading egg at c:\\users\\nmadali\\appdata\\local\\anaconda3\\lib\\site-packages\\pyasn1_modules-0.3.0-py3.11.egg is deprecated. pip 23.3 will enforce this behaviour change. A possible replacement is to use pip for package installation..\n"
     ]
    }
   ],
   "source": [
    "#!pip install torchtext==0.6"
   ]
  },
  {
   "cell_type": "code",
   "execution_count": 17,
   "id": "18OLsh-DTz-2",
   "metadata": {
    "executionInfo": {
     "elapsed": 16,
     "status": "ok",
     "timestamp": 1699118093644,
     "user": {
      "displayName": "nabil bcom",
      "userId": "04169804032469069549"
     },
     "user_tz": -60
    },
    "id": "18OLsh-DTz-2"
   },
   "outputs": [],
   "source": [
    "import torchtext"
   ]
  },
  {
   "cell_type": "code",
   "execution_count": 19,
   "id": "NU4QzKCxT1zh",
   "metadata": {
    "executionInfo": {
     "elapsed": 5075,
     "status": "ok",
     "timestamp": 1699118098704,
     "user": {
      "displayName": "nabil bcom",
      "userId": "04169804032469069549"
     },
     "user_tz": -60
    },
    "id": "NU4QzKCxT1zh"
   },
   "outputs": [],
   "source": [
    "FR = torchtext.data.Field(tokenize=dum_tokenizer, lower=True, init_token=\"<sos>\", eos_token=\"<eos>\",\\\n",
    "                              batch_first=True)\n",
    "EN = torchtext.data.Field(tokenize=dum_tokenizer, lower=True, batch_first=True)\n",
    "\n",
    "\n",
    "train = torchtext.data.TabularDataset(os.path.join('..',\"data\", \"df.csv\"), format=\"csv\", fields=[(\"EN\", EN), (\"FR\", FR)])\n",
    "\n",
    "FR.build_vocab(train)\n",
    "EN.build_vocab(train)\n",
    "\n"
   ]
  },
  {
   "cell_type": "code",
   "execution_count": 20,
   "id": "oVpKU1TfVQqC",
   "metadata": {
    "executionInfo": {
     "elapsed": 284,
     "status": "ok",
     "timestamp": 1699118183025,
     "user": {
      "displayName": "nabil bcom",
      "userId": "04169804032469069549"
     },
     "user_tz": -60
    },
    "id": "oVpKU1TfVQqC"
   },
   "outputs": [],
   "source": [
    "src_vocab = len(EN.vocab)\n",
    "trg_vocab = len(FR.vocab)"
   ]
  },
  {
   "cell_type": "code",
   "execution_count": 21,
   "id": "OxbtxyQTZN94",
   "metadata": {
    "colab": {
     "base_uri": "https://localhost:8080/"
    },
    "executionInfo": {
     "elapsed": 227,
     "status": "ok",
     "timestamp": 1699119169391,
     "user": {
      "displayName": "nabil bcom",
      "userId": "04169804032469069549"
     },
     "user_tz": -60
    },
    "id": "OxbtxyQTZN94",
    "outputId": "98f2fc10-8602-4dc9-9c50-009b7dee4a33"
   },
   "outputs": [
    {
     "data": {
      "text/plain": [
       "(13211, 22489)"
      ]
     },
     "execution_count": 21,
     "metadata": {},
     "output_type": "execute_result"
    }
   ],
   "source": [
    "src_vocab,trg_vocab"
   ]
  },
  {
   "cell_type": "code",
   "execution_count": 22,
   "id": "Cmu-F0wjVVpB",
   "metadata": {
    "executionInfo": {
     "elapsed": 416,
     "status": "ok",
     "timestamp": 1699119226414,
     "user": {
      "displayName": "nabil bcom",
      "userId": "04169804032469069549"
     },
     "user_tz": -60
    },
    "id": "Cmu-F0wjVVpB"
   },
   "outputs": [],
   "source": [
    "sent = 'I stayed.'\n",
    "sent = tokenizer_en.tokenize(sent).split()\n"
   ]
  },
  {
   "cell_type": "code",
   "execution_count": 23,
   "id": "IV7UN6KCZeSZ",
   "metadata": {
    "colab": {
     "base_uri": "https://localhost:8080/"
    },
    "executionInfo": {
     "elapsed": 329,
     "status": "ok",
     "timestamp": 1699119229676,
     "user": {
      "displayName": "nabil bcom",
      "userId": "04169804032469069549"
     },
     "user_tz": -60
    },
    "id": "IV7UN6KCZeSZ",
    "outputId": "f5272e39-0266-4091-e518-c4b927889461"
   },
   "outputs": [
    {
     "data": {
      "text/plain": [
       "['i', 'stayed', '.']"
      ]
     },
     "execution_count": 23,
     "metadata": {},
     "output_type": "execute_result"
    }
   ],
   "source": [
    "sent"
   ]
  },
  {
   "cell_type": "code",
   "execution_count": 24,
   "id": "s-1tNFYpZdgK",
   "metadata": {
    "colab": {
     "base_uri": "https://localhost:8080/"
    },
    "executionInfo": {
     "elapsed": 316,
     "status": "ok",
     "timestamp": 1699119253292,
     "user": {
      "displayName": "nabil bcom",
      "userId": "04169804032469069549"
     },
     "user_tz": -60
    },
    "id": "s-1tNFYpZdgK",
    "outputId": "728859e2-496e-4267-82f4-005708b5e836"
   },
   "outputs": [
    {
     "data": {
      "text/plain": [
       "[3, 590, 2]"
      ]
     },
     "execution_count": 24,
     "metadata": {},
     "output_type": "execute_result"
    }
   ],
   "source": [
    "[EN.vocab.stoi[tok] for tok in sent]"
   ]
  },
  {
   "cell_type": "code",
   "execution_count": 25,
   "id": "uN-b_zqxVf-u",
   "metadata": {
    "colab": {
     "base_uri": "https://localhost:8080/"
    },
    "executionInfo": {
     "elapsed": 256,
     "status": "ok",
     "timestamp": 1699119282694,
     "user": {
      "displayName": "nabil bcom",
      "userId": "04169804032469069549"
     },
     "user_tz": -60
    },
    "id": "uN-b_zqxVf-u",
    "outputId": "a810a6cb-5ce5-4a4b-e921-c4a2b2392401"
   },
   "outputs": [
    {
     "data": {
      "text/plain": [
       "['i', 'stayed', '.']"
      ]
     },
     "execution_count": 25,
     "metadata": {},
     "output_type": "execute_result"
    }
   ],
   "source": [
    "[EN.vocab.itos[tok] for tok in [3, 590, 2]]"
   ]
  },
  {
   "cell_type": "code",
   "execution_count": 26,
   "id": "T6J1zL2PV849",
   "metadata": {
    "colab": {
     "base_uri": "https://localhost:8080/"
    },
    "executionInfo": {
     "elapsed": 5,
     "status": "ok",
     "timestamp": 1699118340309,
     "user": {
      "displayName": "nabil bcom",
      "userId": "04169804032469069549"
     },
     "user_tz": -60
    },
    "id": "T6J1zL2PV849",
    "outputId": "61778fd5-8307-409f-a3c4-07a725318ce8"
   },
   "outputs": [
    {
     "data": {
      "text/plain": [
       "(2, 3)"
      ]
     },
     "execution_count": 26,
     "metadata": {},
     "output_type": "execute_result"
    }
   ],
   "source": [
    "FR.vocab.stoi[\"<sos>\"],FR.vocab.stoi[\"<eos>\"]"
   ]
  },
  {
   "cell_type": "code",
   "execution_count": 27,
   "id": "0uqavtpkWQdB",
   "metadata": {
    "executionInfo": {
     "elapsed": 254,
     "status": "ok",
     "timestamp": 1699118621019,
     "user": {
      "displayName": "nabil bcom",
      "userId": "04169804032469069549"
     },
     "user_tz": -60
    },
    "id": "0uqavtpkWQdB"
   },
   "outputs": [],
   "source": [
    "batch_size=32\n",
    "train_iter = torchtext.data.BucketIterator(train, batch_size=batch_size, repeat=False, sort_key=lambda x: (len(x[\"EN\"]), len(x[\"FR\"])),shuffle=True, train=True)\n",
    "train_length = len(train)"
   ]
  },
  {
   "cell_type": "code",
   "execution_count": 28,
   "id": "4hAsaNCDWigN",
   "metadata": {
    "executionInfo": {
     "elapsed": 659,
     "status": "ok",
     "timestamp": 1699118624114,
     "user": {
      "displayName": "nabil bcom",
      "userId": "04169804032469069549"
     },
     "user_tz": -60
    },
    "id": "4hAsaNCDWigN"
   },
   "outputs": [],
   "source": [
    "for i, data in enumerate(train_iter):\n",
    "  break"
   ]
  },
  {
   "cell_type": "code",
   "execution_count": 29,
   "id": "j3T-EQWaWuow",
   "metadata": {
    "colab": {
     "base_uri": "https://localhost:8080/"
    },
    "executionInfo": {
     "elapsed": 4,
     "status": "ok",
     "timestamp": 1699118625182,
     "user": {
      "displayName": "nabil bcom",
      "userId": "04169804032469069549"
     },
     "user_tz": -60
    },
    "id": "j3T-EQWaWuow",
    "outputId": "7e417724-eb0d-4237-96af-3a5e627cfc40"
   },
   "outputs": [
    {
     "data": {
      "text/plain": [
       "(torch.Size([32, 21]), torch.Size([32, 12]))"
      ]
     },
     "execution_count": 29,
     "metadata": {},
     "output_type": "execute_result"
    }
   ],
   "source": [
    "data.FR.shape,data.EN.shape"
   ]
  },
  {
   "cell_type": "code",
   "execution_count": 30,
   "id": "x_mcXx6bWmPS",
   "metadata": {
    "executionInfo": {
     "elapsed": 376,
     "status": "ok",
     "timestamp": 1699118664947,
     "user": {
      "displayName": "nabil bcom",
      "userId": "04169804032469069549"
     },
     "user_tz": -60
    },
    "id": "x_mcXx6bWmPS"
   },
   "outputs": [],
   "source": [
    "trg_input = data.FR[:,:-1]\n",
    "labels = data.FR[:,1:]"
   ]
  },
  {
   "cell_type": "code",
   "execution_count": 31,
   "id": "8U2xB7zRWyNK",
   "metadata": {
    "executionInfo": {
     "elapsed": 2,
     "status": "ok",
     "timestamp": 1699118709620,
     "user": {
      "displayName": "nabil bcom",
      "userId": "04169804032469069549"
     },
     "user_tz": -60
    },
    "id": "8U2xB7zRWyNK"
   },
   "outputs": [],
   "source": [
    "sample_en=data.EN[0,:].numpy()\n",
    "sample_fr=data.FR[0,:].numpy()"
   ]
  },
  {
   "cell_type": "code",
   "execution_count": 32,
   "id": "73mck5eOXXBb",
   "metadata": {
    "colab": {
     "base_uri": "https://localhost:8080/"
    },
    "executionInfo": {
     "elapsed": 256,
     "status": "ok",
     "timestamp": 1699118731960,
     "user": {
      "displayName": "nabil bcom",
      "userId": "04169804032469069549"
     },
     "user_tz": -60
    },
    "id": "73mck5eOXXBb",
    "outputId": "57a6b98b-317a-4d25-ae3d-62b760e225f2"
   },
   "outputs": [
    {
     "data": {
      "text/plain": [
       "(array([   2,   31,   18, 3166,   62,  246,   57,  932,    4,    3,    1,\n",
       "           1,    1,    1,    1,    1,    1,    1,    1,    1,    1],\n",
       "       dtype=int64),\n",
       " array([  3, 211, 425, 233,  19, 386, 152,   2,   1,   1,   1,   1],\n",
       "       dtype=int64))"
      ]
     },
     "execution_count": 32,
     "metadata": {},
     "output_type": "execute_result"
    }
   ],
   "source": [
    "sample_fr,sample_en"
   ]
  },
  {
   "cell_type": "code",
   "execution_count": 33,
   "id": "OpjXuK5TW5OV",
   "metadata": {
    "colab": {
     "base_uri": "https://localhost:8080/"
    },
    "executionInfo": {
     "elapsed": 241,
     "status": "ok",
     "timestamp": 1699118723668,
     "user": {
      "displayName": "nabil bcom",
      "userId": "04169804032469069549"
     },
     "user_tz": -60
    },
    "id": "OpjXuK5TW5OV",
    "outputId": "ae232ce8-d162-4f42-df98-d6c70fe47070"
   },
   "outputs": [
    {
     "data": {
      "text/plain": [
       "['i',\n",
       " 'remember',\n",
       " 'having',\n",
       " 'seen',\n",
       " 'this',\n",
       " 'movie',\n",
       " 'before',\n",
       " '.',\n",
       " '<pad>',\n",
       " '<pad>',\n",
       " '<pad>',\n",
       " '<pad>']"
      ]
     },
     "execution_count": 33,
     "metadata": {},
     "output_type": "execute_result"
    }
   ],
   "source": [
    "[EN.vocab.itos[tok] for tok in sample_en]"
   ]
  },
  {
   "cell_type": "code",
   "execution_count": 34,
   "id": "xQqO3MSVXa9f",
   "metadata": {
    "colab": {
     "base_uri": "https://localhost:8080/"
    },
    "executionInfo": {
     "elapsed": 277,
     "status": "ok",
     "timestamp": 1699118735269,
     "user": {
      "displayName": "nabil bcom",
      "userId": "04169804032469069549"
     },
     "user_tz": -60
    },
    "id": "xQqO3MSVXa9f",
    "outputId": "09cf935d-2de1-4a28-acfd-a95492ca3165"
   },
   "outputs": [
    {
     "data": {
      "text/plain": [
       "['<sos>',\n",
       " 'elle',\n",
       " 'a',\n",
       " 'accompagné',\n",
       " 'son',\n",
       " 'ami',\n",
       " 'au',\n",
       " 'concert',\n",
       " '.',\n",
       " '<eos>',\n",
       " '<pad>',\n",
       " '<pad>',\n",
       " '<pad>',\n",
       " '<pad>',\n",
       " '<pad>',\n",
       " '<pad>',\n",
       " '<pad>',\n",
       " '<pad>',\n",
       " '<pad>',\n",
       " '<pad>',\n",
       " '<pad>']"
      ]
     },
     "execution_count": 34,
     "metadata": {},
     "output_type": "execute_result"
    }
   ],
   "source": [
    "[FR.vocab.itos[tok] for tok in sample_fr]"
   ]
  },
  {
   "cell_type": "code",
   "execution_count": null,
   "id": "149d7796",
   "metadata": {},
   "outputs": [],
   "source": []
  },
  {
   "cell_type": "code",
   "execution_count": null,
   "id": "d124f0e4",
   "metadata": {},
   "outputs": [],
   "source": []
  },
  {
   "cell_type": "code",
   "execution_count": null,
   "id": "29b636a8",
   "metadata": {},
   "outputs": [],
   "source": []
  }
 ],
 "metadata": {
  "colab": {
   "provenance": []
  },
  "kernelspec": {
   "display_name": "Python 3 (ipykernel)",
   "language": "python",
   "name": "python3"
  },
  "language_info": {
   "codemirror_mode": {
    "name": "ipython",
    "version": 3
   },
   "file_extension": ".py",
   "mimetype": "text/x-python",
   "name": "python",
   "nbconvert_exporter": "python",
   "pygments_lexer": "ipython3",
   "version": "3.11.5"
  }
 },
 "nbformat": 4,
 "nbformat_minor": 5
}
