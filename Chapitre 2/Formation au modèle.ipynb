{
 "cells": [
  {
   "cell_type": "markdown",
   "id": "8c49db26",
   "metadata": {
    "id": "8c49db26"
   },
   "source": [
    "# Transformer\n",
    "Le modèle NLP transformer, faisant référence spécifiquement aux modèles comme le Transformer original introduit dans l'article \"Attention is All You Need\" de Vaswani et al., est un type d'architecture de réseau neuronal qui a connu un grand succès dans des tâches telles que la traduction automatique.\n",
    "\n",
    "Voici un aperçu de la façon dont un modèle transformer est entraîné pour la traduction automatique :\n",
    "\n",
    "1. **Préparation des données** :\n",
    "   - Rassemblez un grand ensemble de données de phrases parallèles dans les deux langues source et cible. Par exemple, si vous traduisez de l'anglais vers le français, vous aurez besoin d'un ensemble de données avec des phrases en anglais et leurs traductions correspondantes en français.\n",
    "\n",
    "2. **Tokenisation** :\n",
    "   - Divisez le texte en unités plus petites appelées tokens. En NLP, les tokens peuvent être des mots, des sous-mots (comme 'un-' et '-heureux' dans 'malheureux'), ou même des caractères.\n",
    "\n",
    "3. **Incorporation** :\n",
    "   - Convertissez les tokens en vecteurs numériques à l'aide d'une couche d'incorporation. Chaque token est représenté sous forme de vecteur de grande dimension.\n",
    "\n",
    "4. **Encodage positionnel** :\n",
    "   - Étant donné que les transformers n'ont pas de connaissance inhérente de l'ordre des tokens, des encodages positionnels sont ajoutés aux embeddings des tokens pour fournir des informations sur la position de chaque token dans une séquence.\n",
    "\n",
    "5. **Architecture du modèle** :\n",
    "   - Un transformer se compose d'un encodeur et d'un décodeur. L'encodeur et le décodeur ont tous deux plusieurs couches de mécanismes d'attention et de réseaux neuronaux feedforward.\n",
    "\n",
    "6. **Encodeur** :\n",
    "   - L'encodeur prend les tokens de la langue source en entrée et les traite à travers plusieurs couches d'auto-attention et de réseaux neuronaux feedforward. Cela permet au modèle d'apprendre des informations contextuelles à partir de l'entrée.\n",
    "\n",
    "7. **Décodeur** :\n",
    "   - Le décodeur a également plusieurs couches, mais il utilise en plus une attention sur la sortie de l'encodeur. Il prend la dernière couche de l'encodeur et ses propres prédictions précédentes en entrée.\n",
    "\n",
    "8. **Objectif d'entraînement** :\n",
    "   - L'objectif pendant l'entraînement est de minimiser la différence entre les phrases de langue cible prédites et les phrases de langue cible réelles.\n",
    "\n",
    "9. **Fonction de perte** :\n",
    "   - Une fonction de perte courante pour la traduction automatique est la perte de cross-entropie, qui mesure la dissimilarité entre les probabilités prédites (générées par le modèle) et les probabilités réelles (les vraies étiquettes cibles).\n",
    "\n",
    "10. **Processus d'entraînement** :\n",
    "    - Pendant l'entraînement, les paramètres (poids) du modèle sont mis à jour par rétropropagation et descente de gradient. Les gradients sont calculés par rapport à la fonction de perte, et les poids sont ajustés dans la direction qui minimise la perte.\n",
    "\n",
    "11. **Entraînement en mini-lots** :\n",
    "    - L'entraînement est généralement effectué en mini-lots, où un petit sous-ensemble des données est traité à la fois. Cela permet un calcul plus efficace et une meilleure utilisation des ressources.\n",
    "\n",
    "12. **Validation et Test** :\n",
    "    - La performance du modèle est évaluée sur un ensemble de validation distinct pour surveiller sa progression et éviter le surajustement. Une fois que le modèle est entraîné, il est évalué sur un ensemble de test qu'il n'a jamais vu auparavant.\n",
    "\n",
    "13. **Inférence** :\n",
    "    - Après l'entraînement, le modèle peut être utilisé pour la traduction. Lors de l'inférence, le modèle prend une phrase source, la traite à travers l'encodeur et génère la phrase cible correspondante en utilisant le décodeur.\n",
    "\n",
    "Ce processus est répété sur plusieurs époques (passes à travers l'ensemble de données complet) jusqu'à ce que la performance du modèle sur l'ensemble de validation atteigne un plateau. Le modèle final entraîné peut ensuite être utilisé pour traduire de nouvelles phrases de la langue source vers la langue cible."
   ]
  },
  {
   "cell_type": "code",
   "execution_count": 12,
   "id": "0f0d7170",
   "metadata": {
    "id": "0f0d7170"
   },
   "outputs": [],
   "source": [
    "import os\n",
    "import logging\n",
    "import pickle\n",
    "from tqdm.notebook import tqdm\n",
    "from argparse import ArgumentParser\n",
    "import torch\n",
    "import torch.nn as nn\n",
    "import torch.optim as optim\n",
    "from torch.nn.utils import clip_grad_norm_\n",
    "import torchtext\n",
    "from torchtext.data import BucketIterator\n",
    "#from utils import CosineWithRestarts\n",
    "from models import Transformer, create_masks\n",
    "#from process_data import tokenize_data\n",
    "import matplotlib.pyplot as plt"
   ]
  },
  {
   "cell_type": "code",
   "execution_count": 13,
   "id": "e75d8bb2",
   "metadata": {
    "id": "e75d8bb2"
   },
   "outputs": [],
   "source": [
    "from tqdm import tqdm"
   ]
  },
  {
   "cell_type": "code",
   "execution_count": 14,
   "id": "16fc1daf",
   "metadata": {
    "id": "16fc1daf"
   },
   "outputs": [],
   "source": [
    "def dum_tokenizer(sent):\n",
    "    return sent.split()"
   ]
  },
  {
   "cell_type": "code",
   "execution_count": 15,
   "id": "d992c1b8",
   "metadata": {
    "id": "d992c1b8"
   },
   "outputs": [],
   "source": [
    "batch_size=50"
   ]
  },
  {
   "cell_type": "code",
   "execution_count": 16,
   "id": "68c6e8b0",
   "metadata": {
    "id": "68c6e8b0"
   },
   "outputs": [],
   "source": [
    "#Preparing dataloaders\n",
    "FR = torchtext.data.Field(tokenize=dum_tokenizer, lower=True, init_token=\"<sos>\", eos_token=\"<eos>\",batch_first=True)\n",
    "EN = torchtext.data.Field(tokenize=dum_tokenizer, lower=True, batch_first=True)"
   ]
  },
  {
   "cell_type": "code",
   "execution_count": 17,
   "id": "1d152c4b",
   "metadata": {
    "id": "1d152c4b"
   },
   "outputs": [],
   "source": [
    "train_path = os.path.join(\"..\",\"data\", \"df.csv\")"
   ]
  },
  {
   "cell_type": "code",
   "execution_count": 18,
   "id": "43f4d9ef",
   "metadata": {
    "id": "43f4d9ef"
   },
   "outputs": [],
   "source": [
    "\n",
    "train = torchtext.data.TabularDataset(train_path, format=\"csv\", fields=[(\"EN\", EN), (\"FR\", FR)])\n",
    "FR.build_vocab(train)\n",
    "EN.build_vocab(train)\n",
    "\n",
    "train_iter = BucketIterator(train, batch_size=batch_size, repeat=False, sort_key=lambda x: (len(x[\"EN\"]), len(x[\"FR\"])),shuffle=True, train=True)\n",
    "train_length = len(train)"
   ]
  },
  {
   "cell_type": "code",
   "execution_count": 19,
   "id": "463aedad",
   "metadata": {
    "id": "463aedad",
    "outputId": "c3657a20-1fbb-425c-b113-2ee58ba94292"
   },
   "outputs": [
    {
     "name": "stdout",
     "output_type": "stream",
     "text": [
      "13211   22489\n"
     ]
    }
   ],
   "source": [
    "\n",
    "src_vocab = len(EN.vocab)\n",
    "trg_vocab = len(FR.vocab)\n",
    "print(src_vocab,\" \",trg_vocab)"
   ]
  },
  {
   "cell_type": "code",
   "execution_count": 20,
   "id": "ac183984",
   "metadata": {
    "id": "ac183984"
   },
   "outputs": [],
   "source": [
    "d_model=512\n",
    "num_layers=6\n",
    "n_heads=8"
   ]
  },
  {
   "cell_type": "code",
   "execution_count": 21,
   "id": "42750f13",
   "metadata": {
    "id": "42750f13"
   },
   "outputs": [],
   "source": [
    "net = Transformer(src_vocab=src_vocab, trg_vocab=trg_vocab, d_model=d_model, num=num_layers, n_heads=n_heads).cuda()"
   ]
  },
  {
   "cell_type": "code",
   "execution_count": 22,
   "id": "d99cd353",
   "metadata": {
    "id": "d99cd353"
   },
   "outputs": [],
   "source": [
    "criterion = nn.CrossEntropyLoss(reduction=\"mean\", ignore_index=1)\n",
    "optimizer = optim.Adam(net.parameters(), lr=0.00015, betas=(0.9, 0.98), eps=1e-9)"
   ]
  },
  {
   "cell_type": "code",
   "execution_count": 23,
   "id": "0a961b9d",
   "metadata": {
    "id": "0a961b9d"
   },
   "outputs": [],
   "source": [
    "num_epochs=350\n",
    "model_no=0"
   ]
  },
  {
   "cell_type": "code",
   "execution_count": 24,
   "id": "c342ee30",
   "metadata": {
    "id": "c342ee30"
   },
   "outputs": [],
   "source": [
    "def evaluate(output, labels):\n",
    "    ### ignore index 1 (padding) when calculating accuracy\n",
    "    idxs = (labels != 1).nonzero().squeeze()\n",
    "    o_labels = torch.softmax(output, dim=1).max(1)[1]\n",
    "    if len(idxs) > 1:\n",
    "        return (labels[idxs] == o_labels[idxs]).sum().item()/len(idxs)\n",
    "    else:\n",
    "        return (labels[idxs] == o_labels[idxs]).sum().item()\n",
    "\n"
   ]
  },
  {
   "cell_type": "code",
   "execution_count": 25,
   "id": "ea9ef66f",
   "metadata": {
    "id": "ea9ef66f",
    "outputId": "6f31c8c9-b2f8-40b5-afa2-7b9149c83a2e"
   },
   "outputs": [
    {
     "name": "stderr",
     "output_type": "stream",
     "text": [
      "\r",
      "  0%|                                                                                          | 0/350 [00:00<?, ?it/s]"
     ]
    },
    {
     "name": "stdout",
     "output_type": "stream",
     "text": [
      "Évaluation...\n"
     ]
    },
    {
     "name": "stderr",
     "output_type": "stream",
     "text": [
      "\r",
      "  0%|▏                                                                             | 1/350 [10:24<60:30:05, 624.08s/it]"
     ]
    },
    {
     "name": "stdout",
     "output_type": "stream",
     "text": [
      "Pertes à Epoch 0: 3.8206594\n",
      "Précision à Epoch 0: 0.3945095\n",
      "Évaluation...\n"
     ]
    },
    {
     "name": "stderr",
     "output_type": "stream",
     "text": [
      "\r",
      "  1%|▍                                                                             | 2/350 [20:44<60:07:54, 622.05s/it]"
     ]
    },
    {
     "name": "stdout",
     "output_type": "stream",
     "text": [
      "Pertes à Epoch 1: 3.2964759\n",
      "Précision à Epoch 1: 0.4198534\n",
      "Évaluation...\n"
     ]
    },
    {
     "name": "stderr",
     "output_type": "stream",
     "text": [
      "\r",
      "  1%|▋                                                                             | 3/350 [31:05<59:54:54, 621.60s/it]"
     ]
    },
    {
     "name": "stdout",
     "output_type": "stream",
     "text": [
      "Pertes à Epoch 2: 3.1319003\n",
      "Précision à Epoch 2: 0.4364031\n",
      "Évaluation...\n"
     ]
    },
    {
     "name": "stderr",
     "output_type": "stream",
     "text": [
      "\r",
      "  1%|▉                                                                             | 4/350 [41:28<59:46:12, 621.89s/it]"
     ]
    },
    {
     "name": "stdout",
     "output_type": "stream",
     "text": [
      "Pertes à Epoch 3: 3.0234483\n",
      "Précision à Epoch 3: 0.4494165\n",
      "Évaluation...\n"
     ]
    },
    {
     "name": "stderr",
     "output_type": "stream",
     "text": [
      "\r",
      "  1%|█                                                                             | 5/350 [51:53<59:42:42, 623.08s/it]"
     ]
    },
    {
     "name": "stdout",
     "output_type": "stream",
     "text": [
      "Pertes à Epoch 4: 2.9359329\n",
      "Précision à Epoch 4: 0.4603404\n",
      "Évaluation...\n"
     ]
    },
    {
     "name": "stderr",
     "output_type": "stream",
     "text": [
      "\r",
      "  2%|█▎                                                                          | 6/350 [1:02:23<59:45:16, 625.34s/it]"
     ]
    },
    {
     "name": "stdout",
     "output_type": "stream",
     "text": [
      "Pertes à Epoch 5: 2.8616603\n",
      "Précision à Epoch 5: 0.4716270\n",
      "Évaluation...\n"
     ]
    },
    {
     "name": "stderr",
     "output_type": "stream",
     "text": [
      "\r",
      "  2%|█▌                                                                          | 7/350 [1:12:50<59:39:06, 626.08s/it]"
     ]
    },
    {
     "name": "stdout",
     "output_type": "stream",
     "text": [
      "Pertes à Epoch 6: 2.7920853\n",
      "Précision à Epoch 6: 0.4813081\n",
      "Évaluation...\n"
     ]
    },
    {
     "name": "stderr",
     "output_type": "stream",
     "text": [
      "\r",
      "  2%|█▋                                                                          | 8/350 [1:23:20<59:34:39, 627.13s/it]"
     ]
    },
    {
     "name": "stdout",
     "output_type": "stream",
     "text": [
      "Pertes à Epoch 7: 2.7360918\n",
      "Précision à Epoch 7: 0.4908431\n",
      "Évaluation...\n"
     ]
    },
    {
     "name": "stderr",
     "output_type": "stream",
     "text": [
      "\r",
      "  3%|█▉                                                                          | 9/350 [1:33:49<59:28:25, 627.87s/it]"
     ]
    },
    {
     "name": "stdout",
     "output_type": "stream",
     "text": [
      "Pertes à Epoch 8: 2.6831957\n",
      "Précision à Epoch 8: 0.5009895\n",
      "Évaluation...\n"
     ]
    },
    {
     "name": "stderr",
     "output_type": "stream",
     "text": [
      "\r",
      "  3%|██▏                                                                        | 10/350 [1:44:16<59:15:53, 627.51s/it]"
     ]
    },
    {
     "name": "stdout",
     "output_type": "stream",
     "text": [
      "Pertes à Epoch 9: 2.6274846\n",
      "Précision à Epoch 9: 0.5102734\n",
      "Évaluation...\n"
     ]
    },
    {
     "name": "stderr",
     "output_type": "stream",
     "text": [
      "\r",
      "  3%|██▎                                                                        | 11/350 [1:54:38<58:57:06, 626.04s/it]"
     ]
    },
    {
     "name": "stdout",
     "output_type": "stream",
     "text": [
      "Pertes à Epoch 10: 2.5827788\n",
      "Précision à Epoch 10: 0.5182226\n",
      "Évaluation...\n"
     ]
    },
    {
     "name": "stderr",
     "output_type": "stream",
     "text": [
      "\r",
      "  3%|██▌                                                                        | 12/350 [2:05:08<58:51:56, 626.97s/it]"
     ]
    },
    {
     "name": "stdout",
     "output_type": "stream",
     "text": [
      "Pertes à Epoch 11: 2.5374632\n",
      "Précision à Epoch 11: 0.5295363\n",
      "Évaluation...\n"
     ]
    },
    {
     "name": "stderr",
     "output_type": "stream",
     "text": [
      "\r",
      "  4%|██▊                                                                        | 13/350 [2:15:37<58:45:30, 627.69s/it]"
     ]
    },
    {
     "name": "stdout",
     "output_type": "stream",
     "text": [
      "Pertes à Epoch 12: 2.4972038\n",
      "Précision à Epoch 12: 0.5352639\n",
      "Évaluation...\n"
     ]
    },
    {
     "name": "stderr",
     "output_type": "stream",
     "text": [
      "\r",
      "  4%|███                                                                        | 14/350 [2:25:59<58:24:52, 625.87s/it]"
     ]
    },
    {
     "name": "stdout",
     "output_type": "stream",
     "text": [
      "Pertes à Epoch 13: 2.4616877\n",
      "Précision à Epoch 13: 0.5453522\n",
      "Évaluation...\n"
     ]
    },
    {
     "name": "stderr",
     "output_type": "stream",
     "text": [
      "\r",
      "  4%|███▏                                                                       | 15/350 [2:36:26<58:16:52, 626.31s/it]"
     ]
    },
    {
     "name": "stdout",
     "output_type": "stream",
     "text": [
      "Pertes à Epoch 14: 2.4420582\n",
      "Précision à Epoch 14: 0.5511511\n",
      "Évaluation...\n"
     ]
    },
    {
     "name": "stderr",
     "output_type": "stream",
     "text": [
      "\r",
      "  5%|███▍                                                                       | 16/350 [2:46:55<58:10:57, 627.12s/it]"
     ]
    },
    {
     "name": "stdout",
     "output_type": "stream",
     "text": [
      "Pertes à Epoch 15: 2.4360223\n",
      "Précision à Epoch 15: 0.5570300\n",
      "Évaluation...\n"
     ]
    },
    {
     "name": "stderr",
     "output_type": "stream",
     "text": [
      "\r",
      "  5%|███▋                                                                       | 17/350 [2:57:18<57:54:32, 626.04s/it]"
     ]
    },
    {
     "name": "stdout",
     "output_type": "stream",
     "text": [
      "Pertes à Epoch 16: 2.4143337\n",
      "Précision à Epoch 16: 0.5645861\n",
      "Évaluation...\n"
     ]
    },
    {
     "name": "stderr",
     "output_type": "stream",
     "text": [
      "\r",
      "  5%|███▊                                                                       | 18/350 [3:07:42<57:39:19, 625.18s/it]"
     ]
    },
    {
     "name": "stdout",
     "output_type": "stream",
     "text": [
      "Pertes à Epoch 17: 2.3947199\n",
      "Précision à Epoch 17: 0.5712038\n",
      "Évaluation...\n"
     ]
    },
    {
     "name": "stderr",
     "output_type": "stream",
     "text": [
      "\r",
      "  5%|████                                                                       | 19/350 [3:18:06<57:27:50, 624.99s/it]"
     ]
    },
    {
     "name": "stdout",
     "output_type": "stream",
     "text": [
      "Pertes à Epoch 18: 2.3629718\n",
      "Précision à Epoch 18: 0.5777451\n",
      "Évaluation...\n"
     ]
    },
    {
     "name": "stderr",
     "output_type": "stream",
     "text": [
      "\r",
      "  6%|████▎                                                                      | 20/350 [3:28:28<57:12:57, 624.17s/it]"
     ]
    },
    {
     "name": "stdout",
     "output_type": "stream",
     "text": [
      "Pertes à Epoch 19: 2.3507094\n",
      "Précision à Epoch 19: 0.5831425\n",
      "Évaluation...\n"
     ]
    },
    {
     "name": "stderr",
     "output_type": "stream",
     "text": [
      "\r",
      "  6%|████▌                                                                      | 21/350 [3:38:54<57:05:01, 624.62s/it]"
     ]
    },
    {
     "name": "stdout",
     "output_type": "stream",
     "text": [
      "Pertes à Epoch 20: 2.3285113\n",
      "Précision à Epoch 20: 0.5868376\n",
      "Évaluation...\n"
     ]
    },
    {
     "name": "stderr",
     "output_type": "stream",
     "text": [
      "\r",
      "  6%|████▋                                                                      | 22/350 [3:49:19<56:55:28, 624.78s/it]"
     ]
    },
    {
     "name": "stdout",
     "output_type": "stream",
     "text": [
      "Pertes à Epoch 21: 2.3084944\n",
      "Précision à Epoch 21: 0.5924410\n",
      "Évaluation...\n"
     ]
    },
    {
     "name": "stderr",
     "output_type": "stream",
     "text": [
      "\r",
      "  7%|████▉                                                                      | 23/350 [3:59:41<56:40:41, 623.98s/it]"
     ]
    },
    {
     "name": "stdout",
     "output_type": "stream",
     "text": [
      "Pertes à Epoch 22: 2.2923410\n",
      "Précision à Epoch 22: 0.5993819\n",
      "Évaluation...\n"
     ]
    },
    {
     "name": "stderr",
     "output_type": "stream",
     "text": [
      "\r",
      "  7%|█████▏                                                                     | 24/350 [4:10:09<56:36:28, 625.12s/it]"
     ]
    },
    {
     "name": "stdout",
     "output_type": "stream",
     "text": [
      "Pertes à Epoch 23: 2.2683933\n",
      "Précision à Epoch 23: 0.6021612\n",
      "Évaluation...\n"
     ]
    },
    {
     "name": "stderr",
     "output_type": "stream",
     "text": [
      "\r",
      "  7%|█████▎                                                                     | 25/350 [4:20:33<56:23:28, 624.64s/it]"
     ]
    },
    {
     "name": "stdout",
     "output_type": "stream",
     "text": [
      "Pertes à Epoch 24: 2.2589241\n",
      "Précision à Epoch 24: 0.6083096\n",
      "Évaluation...\n"
     ]
    },
    {
     "name": "stderr",
     "output_type": "stream",
     "text": [
      "\r",
      "  7%|█████▌                                                                     | 26/350 [4:30:56<56:11:39, 624.38s/it]"
     ]
    },
    {
     "name": "stdout",
     "output_type": "stream",
     "text": [
      "Pertes à Epoch 25: 2.2429386\n",
      "Précision à Epoch 25: 0.6132701\n",
      "Évaluation...\n"
     ]
    },
    {
     "name": "stderr",
     "output_type": "stream",
     "text": [
      "\r",
      "  8%|█████▊                                                                     | 27/350 [4:41:23<56:05:18, 625.13s/it]"
     ]
    },
    {
     "name": "stdout",
     "output_type": "stream",
     "text": [
      "Pertes à Epoch 26: 2.2232203\n",
      "Précision à Epoch 26: 0.6164969\n",
      "Évaluation...\n"
     ]
    },
    {
     "name": "stderr",
     "output_type": "stream",
     "text": [
      "\r",
      "  8%|██████                                                                     | 28/350 [4:51:56<56:07:10, 627.42s/it]"
     ]
    },
    {
     "name": "stdout",
     "output_type": "stream",
     "text": [
      "Pertes à Epoch 27: 2.2233789\n",
      "Précision à Epoch 27: 0.6220800\n",
      "Évaluation...\n"
     ]
    },
    {
     "name": "stderr",
     "output_type": "stream",
     "text": [
      "\r",
      "  8%|██████▏                                                                    | 29/350 [5:02:21<55:52:06, 626.56s/it]"
     ]
    },
    {
     "name": "stdout",
     "output_type": "stream",
     "text": [
      "Pertes à Epoch 28: 2.2113213\n",
      "Précision à Epoch 28: 0.6248520\n",
      "Évaluation...\n"
     ]
    },
    {
     "name": "stderr",
     "output_type": "stream",
     "text": [
      "\r",
      "  9%|██████▍                                                                    | 30/350 [5:12:44<55:36:04, 625.51s/it]"
     ]
    },
    {
     "name": "stdout",
     "output_type": "stream",
     "text": [
      "Pertes à Epoch 29: 2.1906767\n",
      "Précision à Epoch 29: 0.6296669\n",
      "Évaluation...\n"
     ]
    },
    {
     "name": "stderr",
     "output_type": "stream",
     "text": [
      "\r",
      "  9%|██████▋                                                                    | 31/350 [5:23:08<55:23:06, 625.04s/it]"
     ]
    },
    {
     "name": "stdout",
     "output_type": "stream",
     "text": [
      "Pertes à Epoch 30: 2.1741250\n",
      "Précision à Epoch 30: 0.6320256\n",
      "Évaluation...\n"
     ]
    },
    {
     "name": "stderr",
     "output_type": "stream",
     "text": [
      "\r",
      "  9%|██████▊                                                                    | 32/350 [5:33:43<55:28:48, 628.08s/it]"
     ]
    },
    {
     "name": "stdout",
     "output_type": "stream",
     "text": [
      "Pertes à Epoch 31: 2.1652879\n",
      "Précision à Epoch 31: 0.6349274\n",
      "Évaluation...\n"
     ]
    },
    {
     "name": "stderr",
     "output_type": "stream",
     "text": [
      "\r",
      "  9%|███████                                                                    | 33/350 [5:44:07<55:11:51, 626.85s/it]"
     ]
    },
    {
     "name": "stdout",
     "output_type": "stream",
     "text": [
      "Pertes à Epoch 32: 2.1545184\n",
      "Précision à Epoch 32: 0.6401319\n",
      "Évaluation...\n"
     ]
    },
    {
     "name": "stderr",
     "output_type": "stream",
     "text": [
      "\r",
      " 10%|███████▎                                                                   | 34/350 [5:54:32<54:58:24, 626.28s/it]"
     ]
    },
    {
     "name": "stdout",
     "output_type": "stream",
     "text": [
      "Pertes à Epoch 33: 2.1416482\n",
      "Précision à Epoch 33: 0.6436909\n",
      "Évaluation...\n"
     ]
    },
    {
     "name": "stderr",
     "output_type": "stream",
     "text": [
      "\r",
      " 10%|███████▌                                                                   | 35/350 [6:04:57<54:47:12, 626.14s/it]"
     ]
    },
    {
     "name": "stdout",
     "output_type": "stream",
     "text": [
      "Pertes à Epoch 34: 2.1314116\n",
      "Précision à Epoch 34: 0.6440677\n",
      "Évaluation...\n"
     ]
    },
    {
     "name": "stderr",
     "output_type": "stream",
     "text": [
      "\r",
      " 10%|███████▋                                                                   | 36/350 [6:15:16<54:24:39, 623.82s/it]"
     ]
    },
    {
     "name": "stdout",
     "output_type": "stream",
     "text": [
      "Pertes à Epoch 35: 2.1148635\n",
      "Précision à Epoch 35: 0.6489121\n",
      "Évaluation...\n"
     ]
    },
    {
     "name": "stderr",
     "output_type": "stream",
     "text": [
      "\r",
      " 11%|███████▉                                                                   | 37/350 [6:25:37<54:09:38, 622.94s/it]"
     ]
    },
    {
     "name": "stdout",
     "output_type": "stream",
     "text": [
      "Pertes à Epoch 36: 2.1110374\n",
      "Précision à Epoch 36: 0.6518119\n",
      "Évaluation...\n"
     ]
    },
    {
     "name": "stderr",
     "output_type": "stream",
     "text": [
      "\r",
      " 11%|████████▏                                                                  | 38/350 [6:36:08<54:12:20, 625.45s/it]"
     ]
    },
    {
     "name": "stdout",
     "output_type": "stream",
     "text": [
      "Pertes à Epoch 37: 2.0965797\n",
      "Précision à Epoch 37: 0.6535692\n",
      "Évaluation...\n"
     ]
    },
    {
     "name": "stderr",
     "output_type": "stream",
     "text": [
      "\r",
      " 11%|████████▎                                                                  | 39/350 [6:46:34<54:02:55, 625.65s/it]"
     ]
    },
    {
     "name": "stdout",
     "output_type": "stream",
     "text": [
      "Pertes à Epoch 38: 2.0957517\n",
      "Précision à Epoch 38: 0.6566531\n",
      "Évaluation...\n"
     ]
    },
    {
     "name": "stderr",
     "output_type": "stream",
     "text": [
      "\r",
      " 11%|████████▌                                                                  | 40/350 [6:56:53<53:42:16, 623.67s/it]"
     ]
    },
    {
     "name": "stdout",
     "output_type": "stream",
     "text": [
      "Pertes à Epoch 39: 2.0783713\n",
      "Précision à Epoch 39: 0.6616908\n",
      "Évaluation...\n"
     ]
    },
    {
     "name": "stderr",
     "output_type": "stream",
     "text": [
      "\r",
      " 12%|████████▊                                                                  | 41/350 [7:07:18<53:33:33, 623.99s/it]"
     ]
    },
    {
     "name": "stdout",
     "output_type": "stream",
     "text": [
      "Pertes à Epoch 40: 2.0732631\n",
      "Précision à Epoch 40: 0.6616539\n",
      "Évaluation...\n"
     ]
    },
    {
     "name": "stderr",
     "output_type": "stream",
     "text": [
      "\r",
      " 12%|█████████                                                                  | 42/350 [7:17:43<53:25:10, 624.39s/it]"
     ]
    },
    {
     "name": "stdout",
     "output_type": "stream",
     "text": [
      "Pertes à Epoch 41: 2.0673594\n",
      "Précision à Epoch 41: 0.6640370\n",
      "Évaluation...\n"
     ]
    },
    {
     "name": "stderr",
     "output_type": "stream",
     "text": [
      "\r",
      " 12%|█████████▏                                                                 | 43/350 [7:28:12<53:20:55, 625.59s/it]"
     ]
    },
    {
     "name": "stdout",
     "output_type": "stream",
     "text": [
      "Pertes à Epoch 42: 2.0494123\n",
      "Précision à Epoch 42: 0.6633967\n",
      "Évaluation...\n"
     ]
    },
    {
     "name": "stderr",
     "output_type": "stream",
     "text": [
      "\r",
      " 13%|█████████▍                                                                 | 44/350 [7:38:31<53:00:26, 623.61s/it]"
     ]
    },
    {
     "name": "stdout",
     "output_type": "stream",
     "text": [
      "Pertes à Epoch 43: 2.0481431\n",
      "Précision à Epoch 43: 0.6682194\n",
      "Évaluation...\n"
     ]
    },
    {
     "name": "stderr",
     "output_type": "stream",
     "text": [
      "\r",
      " 13%|█████████▋                                                                 | 45/350 [7:48:55<52:51:13, 623.85s/it]"
     ]
    },
    {
     "name": "stdout",
     "output_type": "stream",
     "text": [
      "Pertes à Epoch 44: 2.0394028\n",
      "Précision à Epoch 44: 0.6709833\n",
      "Évaluation...\n"
     ]
    },
    {
     "name": "stderr",
     "output_type": "stream",
     "text": [
      "\r",
      " 13%|█████████▊                                                                 | 46/350 [7:59:20<52:42:49, 624.24s/it]"
     ]
    },
    {
     "name": "stdout",
     "output_type": "stream",
     "text": [
      "Pertes à Epoch 45: 2.0262124\n",
      "Précision à Epoch 45: 0.6707885\n",
      "Évaluation...\n"
     ]
    },
    {
     "name": "stderr",
     "output_type": "stream",
     "text": [
      "\r",
      " 13%|██████████                                                                 | 47/350 [8:09:48<52:37:21, 625.22s/it]"
     ]
    },
    {
     "name": "stdout",
     "output_type": "stream",
     "text": [
      "Pertes à Epoch 46: 2.0268024\n",
      "Précision à Epoch 46: 0.6743784\n",
      "Évaluation...\n"
     ]
    },
    {
     "name": "stderr",
     "output_type": "stream",
     "text": [
      "\r",
      " 14%|██████████▎                                                                | 48/350 [8:20:12<52:25:52, 625.01s/it]"
     ]
    },
    {
     "name": "stdout",
     "output_type": "stream",
     "text": [
      "Pertes à Epoch 47: 2.0196373\n",
      "Précision à Epoch 47: 0.6778900\n",
      "Évaluation...\n"
     ]
    },
    {
     "name": "stderr",
     "output_type": "stream",
     "text": [
      "\r",
      " 14%|██████████▌                                                                | 49/350 [8:30:37<52:15:10, 624.95s/it]"
     ]
    },
    {
     "name": "stdout",
     "output_type": "stream",
     "text": [
      "Pertes à Epoch 48: 2.0069301\n",
      "Précision à Epoch 48: 0.6770554\n",
      "Évaluation...\n"
     ]
    },
    {
     "name": "stderr",
     "output_type": "stream",
     "text": [
      "\r",
      " 14%|██████████▋                                                                | 50/350 [8:41:04<52:08:11, 625.64s/it]"
     ]
    },
    {
     "name": "stdout",
     "output_type": "stream",
     "text": [
      "Pertes à Epoch 49: 1.9870137\n",
      "Précision à Epoch 49: 0.6780948\n",
      "Évaluation...\n"
     ]
    },
    {
     "name": "stderr",
     "output_type": "stream",
     "text": [
      "\r",
      " 15%|██████████▉                                                                | 51/350 [8:51:28<51:55:13, 625.13s/it]"
     ]
    },
    {
     "name": "stdout",
     "output_type": "stream",
     "text": [
      "Pertes à Epoch 50: 1.9885951\n",
      "Précision à Epoch 50: 0.6799309\n",
      "Évaluation...\n"
     ]
    },
    {
     "name": "stderr",
     "output_type": "stream",
     "text": [
      "\r",
      " 15%|███████████▏                                                               | 52/350 [9:01:52<51:42:59, 624.76s/it]"
     ]
    },
    {
     "name": "stdout",
     "output_type": "stream",
     "text": [
      "Pertes à Epoch 51: 1.9753357\n",
      "Précision à Epoch 51: 0.6843613\n",
      "Évaluation...\n"
     ]
    },
    {
     "name": "stderr",
     "output_type": "stream",
     "text": [
      "\r",
      " 15%|███████████▎                                                               | 53/350 [9:12:09<51:20:51, 622.40s/it]"
     ]
    },
    {
     "name": "stdout",
     "output_type": "stream",
     "text": [
      "Pertes à Epoch 52: 1.9713367\n",
      "Précision à Epoch 52: 0.6854424\n",
      "Évaluation...\n"
     ]
    },
    {
     "name": "stderr",
     "output_type": "stream",
     "text": [
      "\r",
      " 15%|███████████▌                                                               | 54/350 [9:22:33<51:13:19, 622.97s/it]"
     ]
    },
    {
     "name": "stdout",
     "output_type": "stream",
     "text": [
      "Pertes à Epoch 53: 1.9571263\n",
      "Précision à Epoch 53: 0.6891140\n",
      "Évaluation...\n"
     ]
    },
    {
     "name": "stderr",
     "output_type": "stream",
     "text": [
      "\r",
      " 16%|███████████▊                                                               | 55/350 [9:32:53<50:57:30, 621.87s/it]"
     ]
    },
    {
     "name": "stdout",
     "output_type": "stream",
     "text": [
      "Pertes à Epoch 54: 1.9556179\n",
      "Précision à Epoch 54: 0.6900456\n",
      "Évaluation...\n"
     ]
    },
    {
     "name": "stderr",
     "output_type": "stream",
     "text": [
      "\r",
      " 16%|████████████                                                               | 56/350 [9:43:24<51:00:50, 624.66s/it]"
     ]
    },
    {
     "name": "stdout",
     "output_type": "stream",
     "text": [
      "Pertes à Epoch 55: 1.9507051\n",
      "Précision à Epoch 55: 0.6887637\n",
      "Évaluation...\n"
     ]
    },
    {
     "name": "stderr",
     "output_type": "stream",
     "text": [
      "\r",
      " 16%|████████████▏                                                              | 57/350 [9:53:46<50:46:34, 623.87s/it]"
     ]
    },
    {
     "name": "stdout",
     "output_type": "stream",
     "text": [
      "Pertes à Epoch 56: 1.9378738\n",
      "Précision à Epoch 56: 0.6941771\n",
      "Évaluation...\n"
     ]
    },
    {
     "name": "stderr",
     "output_type": "stream",
     "text": [
      "\r",
      " 17%|████████████▎                                                             | 58/350 [10:04:05<50:29:43, 622.55s/it]"
     ]
    },
    {
     "name": "stdout",
     "output_type": "stream",
     "text": [
      "Pertes à Epoch 57: 1.9304326\n",
      "Précision à Epoch 57: 0.6935893\n",
      "Évaluation...\n"
     ]
    },
    {
     "name": "stderr",
     "output_type": "stream",
     "text": [
      "\r",
      " 17%|████████████▍                                                             | 59/350 [10:14:31<50:24:26, 623.60s/it]"
     ]
    },
    {
     "name": "stdout",
     "output_type": "stream",
     "text": [
      "Pertes à Epoch 58: 1.9161113\n",
      "Précision à Epoch 58: 0.6941537\n",
      "Évaluation...\n"
     ]
    },
    {
     "name": "stderr",
     "output_type": "stream",
     "text": [
      "\r",
      " 17%|████████████▋                                                             | 60/350 [10:24:53<50:10:47, 622.92s/it]"
     ]
    },
    {
     "name": "stdout",
     "output_type": "stream",
     "text": [
      "Pertes à Epoch 59: 1.9052559\n",
      "Précision à Epoch 59: 0.6963786\n",
      "Évaluation...\n"
     ]
    },
    {
     "name": "stderr",
     "output_type": "stream",
     "text": [
      "\r",
      " 17%|████████████▉                                                             | 61/350 [10:35:21<50:07:56, 624.49s/it]"
     ]
    },
    {
     "name": "stdout",
     "output_type": "stream",
     "text": [
      "Pertes à Epoch 60: 1.9030119\n",
      "Précision à Epoch 60: 0.6973466\n",
      "Évaluation...\n"
     ]
    },
    {
     "name": "stderr",
     "output_type": "stream",
     "text": [
      "\r",
      " 18%|█████████████                                                             | 62/350 [10:45:50<50:04:16, 625.89s/it]"
     ]
    },
    {
     "name": "stdout",
     "output_type": "stream",
     "text": [
      "Pertes à Epoch 61: 1.8930212\n",
      "Précision à Epoch 61: 0.6987292\n",
      "Évaluation...\n"
     ]
    },
    {
     "name": "stderr",
     "output_type": "stream",
     "text": [
      "\r",
      " 18%|█████████████▎                                                            | 63/350 [10:56:17<49:55:49, 626.31s/it]"
     ]
    },
    {
     "name": "stdout",
     "output_type": "stream",
     "text": [
      "Pertes à Epoch 62: 1.8814030\n",
      "Précision à Epoch 62: 0.7001910\n",
      "Évaluation...\n"
     ]
    },
    {
     "name": "stderr",
     "output_type": "stream",
     "text": [
      "\r",
      " 18%|█████████████▌                                                            | 64/350 [11:06:43<49:44:59, 626.22s/it]"
     ]
    },
    {
     "name": "stdout",
     "output_type": "stream",
     "text": [
      "Pertes à Epoch 63: 1.8812937\n",
      "Précision à Epoch 63: 0.7024375\n",
      "Évaluation...\n"
     ]
    },
    {
     "name": "stderr",
     "output_type": "stream",
     "text": [
      "\r",
      " 19%|█████████████▋                                                            | 65/350 [11:17:10<49:35:21, 626.39s/it]"
     ]
    },
    {
     "name": "stdout",
     "output_type": "stream",
     "text": [
      "Pertes à Epoch 64: 1.8756519\n",
      "Précision à Epoch 64: 0.7057073\n",
      "Évaluation...\n"
     ]
    },
    {
     "name": "stderr",
     "output_type": "stream",
     "text": [
      "\r",
      " 19%|█████████████▉                                                            | 66/350 [11:27:32<49:19:12, 625.18s/it]"
     ]
    },
    {
     "name": "stdout",
     "output_type": "stream",
     "text": [
      "Pertes à Epoch 65: 1.8637754\n",
      "Précision à Epoch 65: 0.7035748\n",
      "Évaluation...\n"
     ]
    },
    {
     "name": "stderr",
     "output_type": "stream",
     "text": [
      "\r",
      " 19%|██████████████▏                                                           | 67/350 [11:37:54<49:03:18, 624.02s/it]"
     ]
    },
    {
     "name": "stdout",
     "output_type": "stream",
     "text": [
      "Pertes à Epoch 66: 1.8597569\n",
      "Précision à Epoch 66: 0.7067391\n",
      "Évaluation...\n"
     ]
    },
    {
     "name": "stderr",
     "output_type": "stream",
     "text": [
      "\r",
      " 19%|██████████████▍                                                           | 68/350 [11:48:16<48:50:21, 623.48s/it]"
     ]
    },
    {
     "name": "stdout",
     "output_type": "stream",
     "text": [
      "Pertes à Epoch 67: 1.8476313\n",
      "Précision à Epoch 67: 0.7082676\n",
      "Évaluation...\n"
     ]
    },
    {
     "name": "stderr",
     "output_type": "stream",
     "text": [
      "\r",
      " 20%|██████████████▌                                                           | 69/350 [11:58:46<48:49:06, 625.43s/it]"
     ]
    },
    {
     "name": "stdout",
     "output_type": "stream",
     "text": [
      "Pertes à Epoch 68: 1.8421406\n",
      "Précision à Epoch 68: 0.7090799\n",
      "Évaluation...\n"
     ]
    },
    {
     "name": "stderr",
     "output_type": "stream",
     "text": [
      "\r",
      " 20%|██████████████▊                                                           | 70/350 [12:09:09<48:34:46, 624.59s/it]"
     ]
    },
    {
     "name": "stdout",
     "output_type": "stream",
     "text": [
      "Pertes à Epoch 69: 1.8331028\n",
      "Précision à Epoch 69: 0.7085909\n",
      "Évaluation...\n"
     ]
    },
    {
     "name": "stderr",
     "output_type": "stream",
     "text": [
      "\r",
      " 20%|███████████████                                                           | 71/350 [12:19:38<48:31:39, 626.16s/it]"
     ]
    },
    {
     "name": "stdout",
     "output_type": "stream",
     "text": [
      "Pertes à Epoch 70: 1.8360097\n",
      "Précision à Epoch 70: 0.7118905\n",
      "Évaluation...\n"
     ]
    },
    {
     "name": "stderr",
     "output_type": "stream",
     "text": [
      "\r",
      " 21%|███████████████▏                                                          | 72/350 [12:30:04<48:20:10, 625.94s/it]"
     ]
    },
    {
     "name": "stdout",
     "output_type": "stream",
     "text": [
      "Pertes à Epoch 71: 1.8183103\n",
      "Précision à Epoch 71: 0.7140338\n",
      "Évaluation...\n"
     ]
    },
    {
     "name": "stderr",
     "output_type": "stream",
     "text": [
      "\r",
      " 21%|███████████████▍                                                          | 73/350 [12:40:28<48:06:59, 625.34s/it]"
     ]
    },
    {
     "name": "stdout",
     "output_type": "stream",
     "text": [
      "Pertes à Epoch 72: 1.8099957\n",
      "Précision à Epoch 72: 0.7133796\n",
      "Évaluation...\n"
     ]
    },
    {
     "name": "stderr",
     "output_type": "stream",
     "text": [
      "\r",
      " 21%|███████████████▋                                                          | 74/350 [12:50:48<47:49:14, 623.75s/it]"
     ]
    },
    {
     "name": "stdout",
     "output_type": "stream",
     "text": [
      "Pertes à Epoch 73: 1.8045846\n",
      "Précision à Epoch 73: 0.7162536\n",
      "Évaluation...\n"
     ]
    },
    {
     "name": "stderr",
     "output_type": "stream",
     "text": [
      "\r",
      " 21%|███████████████▊                                                          | 75/350 [13:01:13<47:40:14, 624.05s/it]"
     ]
    },
    {
     "name": "stdout",
     "output_type": "stream",
     "text": [
      "Pertes à Epoch 74: 1.7973756\n",
      "Précision à Epoch 74: 0.7168378\n",
      "Évaluation...\n"
     ]
    },
    {
     "name": "stderr",
     "output_type": "stream",
     "text": [
      "\r",
      " 22%|████████████████                                                          | 76/350 [13:11:39<47:32:38, 624.67s/it]"
     ]
    },
    {
     "name": "stdout",
     "output_type": "stream",
     "text": [
      "Pertes à Epoch 75: 1.7915535\n",
      "Précision à Epoch 75: 0.7172028\n",
      "Évaluation...\n"
     ]
    },
    {
     "name": "stderr",
     "output_type": "stream",
     "text": [
      "\r",
      " 22%|████████████████▎                                                         | 77/350 [13:22:08<47:28:03, 625.95s/it]"
     ]
    },
    {
     "name": "stdout",
     "output_type": "stream",
     "text": [
      "Pertes à Epoch 76: 1.7874101\n",
      "Précision à Epoch 76: 0.7164369\n",
      "Évaluation...\n"
     ]
    },
    {
     "name": "stderr",
     "output_type": "stream",
     "text": [
      "\r",
      " 22%|████████████████▍                                                         | 78/350 [13:32:33<47:16:56, 625.79s/it]"
     ]
    },
    {
     "name": "stdout",
     "output_type": "stream",
     "text": [
      "Pertes à Epoch 77: 1.7862307\n",
      "Précision à Epoch 77: 0.7188706\n",
      "Évaluation...\n"
     ]
    },
    {
     "name": "stderr",
     "output_type": "stream",
     "text": [
      "\r",
      " 23%|████████████████▋                                                         | 79/350 [13:42:56<47:02:45, 624.97s/it]"
     ]
    },
    {
     "name": "stdout",
     "output_type": "stream",
     "text": [
      "Pertes à Epoch 78: 1.7809292\n",
      "Précision à Epoch 78: 0.7198959\n",
      "Évaluation...\n"
     ]
    },
    {
     "name": "stderr",
     "output_type": "stream",
     "text": [
      "\r",
      " 23%|████████████████▉                                                         | 80/350 [13:53:17<46:46:32, 623.67s/it]"
     ]
    },
    {
     "name": "stdout",
     "output_type": "stream",
     "text": [
      "Pertes à Epoch 79: 1.7696670\n",
      "Précision à Epoch 79: 0.7212367\n",
      "Évaluation...\n"
     ]
    },
    {
     "name": "stderr",
     "output_type": "stream",
     "text": [
      "\r",
      " 23%|█████████████████▏                                                        | 81/350 [14:03:43<46:40:11, 624.58s/it]"
     ]
    },
    {
     "name": "stdout",
     "output_type": "stream",
     "text": [
      "Pertes à Epoch 80: 1.7620180\n",
      "Précision à Epoch 80: 0.7214530\n",
      "Évaluation...\n"
     ]
    },
    {
     "name": "stderr",
     "output_type": "stream",
     "text": [
      "\r",
      " 23%|█████████████████▎                                                        | 82/350 [14:14:11<46:33:04, 625.32s/it]"
     ]
    },
    {
     "name": "stdout",
     "output_type": "stream",
     "text": [
      "Pertes à Epoch 81: 1.7577539\n",
      "Précision à Epoch 81: 0.7225156\n",
      "Évaluation...\n"
     ]
    },
    {
     "name": "stderr",
     "output_type": "stream",
     "text": [
      "\r",
      " 24%|█████████████████▌                                                        | 83/350 [14:24:32<46:16:56, 624.03s/it]"
     ]
    },
    {
     "name": "stdout",
     "output_type": "stream",
     "text": [
      "Pertes à Epoch 82: 1.7562365\n",
      "Précision à Epoch 82: 0.7250949\n",
      "Évaluation...\n"
     ]
    },
    {
     "name": "stderr",
     "output_type": "stream",
     "text": [
      "\r",
      " 24%|█████████████████▊                                                        | 84/350 [14:34:50<45:59:23, 622.42s/it]"
     ]
    },
    {
     "name": "stdout",
     "output_type": "stream",
     "text": [
      "Pertes à Epoch 83: 1.7524169\n",
      "Précision à Epoch 83: 0.7258608\n",
      "Évaluation...\n"
     ]
    },
    {
     "name": "stderr",
     "output_type": "stream",
     "text": [
      "\r",
      " 24%|█████████████████▉                                                        | 85/350 [14:45:18<45:55:50, 623.96s/it]"
     ]
    },
    {
     "name": "stdout",
     "output_type": "stream",
     "text": [
      "Pertes à Epoch 84: 1.7503704\n",
      "Précision à Epoch 84: 0.7261416\n",
      "Évaluation...\n"
     ]
    },
    {
     "name": "stderr",
     "output_type": "stream",
     "text": [
      "\r",
      " 25%|██████████████████▏                                                       | 86/350 [14:55:44<45:47:54, 624.52s/it]"
     ]
    },
    {
     "name": "stdout",
     "output_type": "stream",
     "text": [
      "Pertes à Epoch 85: 1.7380136\n",
      "Précision à Epoch 85: 0.7264068\n",
      "Évaluation...\n"
     ]
    },
    {
     "name": "stderr",
     "output_type": "stream",
     "text": [
      "\r",
      " 25%|██████████████████▍                                                       | 87/350 [15:06:06<45:34:42, 623.89s/it]"
     ]
    },
    {
     "name": "stdout",
     "output_type": "stream",
     "text": [
      "Pertes à Epoch 86: 1.7305190\n",
      "Précision à Epoch 86: 0.7272002\n",
      "Évaluation...\n"
     ]
    },
    {
     "name": "stderr",
     "output_type": "stream",
     "text": [
      "\r",
      " 25%|██████████████████▌                                                       | 88/350 [15:16:28<45:21:35, 623.26s/it]"
     ]
    },
    {
     "name": "stdout",
     "output_type": "stream",
     "text": [
      "Pertes à Epoch 87: 1.7355700\n",
      "Précision à Epoch 87: 0.7268490\n",
      "Évaluation...\n"
     ]
    },
    {
     "name": "stderr",
     "output_type": "stream",
     "text": [
      "\r",
      " 25%|██████████████████▊                                                       | 89/350 [15:26:50<45:10:10, 623.03s/it]"
     ]
    },
    {
     "name": "stdout",
     "output_type": "stream",
     "text": [
      "Pertes à Epoch 88: 1.7288455\n",
      "Précision à Epoch 88: 0.7281120\n",
      "Évaluation...\n"
     ]
    },
    {
     "name": "stderr",
     "output_type": "stream",
     "text": [
      "\r",
      " 26%|███████████████████                                                       | 90/350 [15:37:03<44:46:58, 620.07s/it]"
     ]
    },
    {
     "name": "stdout",
     "output_type": "stream",
     "text": [
      "Pertes à Epoch 89: 1.7231756\n",
      "Précision à Epoch 89: 0.7281805\n",
      "Évaluation...\n"
     ]
    },
    {
     "name": "stderr",
     "output_type": "stream",
     "text": [
      "\r",
      " 26%|███████████████████▏                                                      | 91/350 [15:47:27<44:40:37, 620.99s/it]"
     ]
    },
    {
     "name": "stdout",
     "output_type": "stream",
     "text": [
      "Pertes à Epoch 90: 1.7131549\n",
      "Précision à Epoch 90: 0.7311051\n",
      "Évaluation...\n"
     ]
    },
    {
     "name": "stderr",
     "output_type": "stream",
     "text": [
      "\r",
      " 26%|███████████████████▍                                                      | 92/350 [15:57:52<44:36:12, 622.37s/it]"
     ]
    },
    {
     "name": "stdout",
     "output_type": "stream",
     "text": [
      "Pertes à Epoch 91: 1.7052336\n",
      "Précision à Epoch 91: 0.7305860\n",
      "Évaluation...\n"
     ]
    },
    {
     "name": "stderr",
     "output_type": "stream",
     "text": [
      "\r",
      " 27%|███████████████████▋                                                      | 93/350 [16:08:14<44:25:21, 622.26s/it]"
     ]
    },
    {
     "name": "stdout",
     "output_type": "stream",
     "text": [
      "Pertes à Epoch 92: 1.7040976\n",
      "Précision à Epoch 92: 0.7313765\n",
      "Évaluation...\n"
     ]
    },
    {
     "name": "stderr",
     "output_type": "stream",
     "text": [
      "\r",
      " 27%|███████████████████▊                                                      | 94/350 [16:18:42<44:21:27, 623.78s/it]"
     ]
    },
    {
     "name": "stdout",
     "output_type": "stream",
     "text": [
      "Pertes à Epoch 93: 1.7038012\n",
      "Précision à Epoch 93: 0.7325832\n",
      "Évaluation...\n"
     ]
    },
    {
     "name": "stderr",
     "output_type": "stream",
     "text": [
      "\r",
      " 27%|████████████████████                                                      | 95/350 [16:29:06<44:11:37, 623.91s/it]"
     ]
    },
    {
     "name": "stdout",
     "output_type": "stream",
     "text": [
      "Pertes à Epoch 94: 1.6961982\n",
      "Précision à Epoch 94: 0.7341146\n",
      "Évaluation...\n"
     ]
    },
    {
     "name": "stderr",
     "output_type": "stream",
     "text": [
      " 27%|████████████████████                                                      | 95/350 [16:39:02<44:41:37, 630.97s/it]\n"
     ]
    },
    {
     "ename": "KeyboardInterrupt",
     "evalue": "",
     "output_type": "error",
     "traceback": [
      "\u001b[1;31m---------------------------------------------------------------------------\u001b[0m",
      "\u001b[1;31mKeyboardInterrupt\u001b[0m                         Traceback (most recent call last)",
      "Cell \u001b[1;32mIn[25], line 42\u001b[0m\n\u001b[0;32m     39\u001b[0m data\u001b[38;5;241m.\u001b[39mEN \u001b[38;5;241m=\u001b[39m data\u001b[38;5;241m.\u001b[39mEN\u001b[38;5;241m.\u001b[39mcuda(); trg_input \u001b[38;5;241m=\u001b[39m trg_input\u001b[38;5;241m.\u001b[39mcuda(); labels \u001b[38;5;241m=\u001b[39m labels\u001b[38;5;241m.\u001b[39mcuda()\n\u001b[0;32m     40\u001b[0m src_mask \u001b[38;5;241m=\u001b[39m src_mask\u001b[38;5;241m.\u001b[39mcuda(); trg_mask \u001b[38;5;241m=\u001b[39m trg_mask\u001b[38;5;241m.\u001b[39mcuda()\n\u001b[1;32m---> 42\u001b[0m outputs \u001b[38;5;241m=\u001b[39m net(data\u001b[38;5;241m.\u001b[39mEN, trg_input, src_mask, trg_mask)\n\u001b[0;32m     43\u001b[0m outputs \u001b[38;5;241m=\u001b[39m outputs\u001b[38;5;241m.\u001b[39mview(\u001b[38;5;241m-\u001b[39m\u001b[38;5;241m1\u001b[39m, outputs\u001b[38;5;241m.\u001b[39msize(\u001b[38;5;241m-\u001b[39m\u001b[38;5;241m1\u001b[39m))\n\u001b[0;32m     45\u001b[0m acc \u001b[38;5;241m+\u001b[39m\u001b[38;5;241m=\u001b[39m evaluate(outputs, labels)\n",
      "File \u001b[1;32m~\\AppData\\Local\\anaconda3\\Lib\\site-packages\\torch\\nn\\modules\\module.py:1518\u001b[0m, in \u001b[0;36mModule._wrapped_call_impl\u001b[1;34m(self, *args, **kwargs)\u001b[0m\n\u001b[0;32m   1516\u001b[0m     \u001b[38;5;28;01mreturn\u001b[39;00m \u001b[38;5;28mself\u001b[39m\u001b[38;5;241m.\u001b[39m_compiled_call_impl(\u001b[38;5;241m*\u001b[39margs, \u001b[38;5;241m*\u001b[39m\u001b[38;5;241m*\u001b[39mkwargs)  \u001b[38;5;66;03m# type: ignore[misc]\u001b[39;00m\n\u001b[0;32m   1517\u001b[0m \u001b[38;5;28;01melse\u001b[39;00m:\n\u001b[1;32m-> 1518\u001b[0m     \u001b[38;5;28;01mreturn\u001b[39;00m \u001b[38;5;28mself\u001b[39m\u001b[38;5;241m.\u001b[39m_call_impl(\u001b[38;5;241m*\u001b[39margs, \u001b[38;5;241m*\u001b[39m\u001b[38;5;241m*\u001b[39mkwargs)\n",
      "File \u001b[1;32m~\\AppData\\Local\\anaconda3\\Lib\\site-packages\\torch\\nn\\modules\\module.py:1527\u001b[0m, in \u001b[0;36mModule._call_impl\u001b[1;34m(self, *args, **kwargs)\u001b[0m\n\u001b[0;32m   1522\u001b[0m \u001b[38;5;66;03m# If we don't have any hooks, we want to skip the rest of the logic in\u001b[39;00m\n\u001b[0;32m   1523\u001b[0m \u001b[38;5;66;03m# this function, and just call forward.\u001b[39;00m\n\u001b[0;32m   1524\u001b[0m \u001b[38;5;28;01mif\u001b[39;00m \u001b[38;5;129;01mnot\u001b[39;00m (\u001b[38;5;28mself\u001b[39m\u001b[38;5;241m.\u001b[39m_backward_hooks \u001b[38;5;129;01mor\u001b[39;00m \u001b[38;5;28mself\u001b[39m\u001b[38;5;241m.\u001b[39m_backward_pre_hooks \u001b[38;5;129;01mor\u001b[39;00m \u001b[38;5;28mself\u001b[39m\u001b[38;5;241m.\u001b[39m_forward_hooks \u001b[38;5;129;01mor\u001b[39;00m \u001b[38;5;28mself\u001b[39m\u001b[38;5;241m.\u001b[39m_forward_pre_hooks\n\u001b[0;32m   1525\u001b[0m         \u001b[38;5;129;01mor\u001b[39;00m _global_backward_pre_hooks \u001b[38;5;129;01mor\u001b[39;00m _global_backward_hooks\n\u001b[0;32m   1526\u001b[0m         \u001b[38;5;129;01mor\u001b[39;00m _global_forward_hooks \u001b[38;5;129;01mor\u001b[39;00m _global_forward_pre_hooks):\n\u001b[1;32m-> 1527\u001b[0m     \u001b[38;5;28;01mreturn\u001b[39;00m forward_call(\u001b[38;5;241m*\u001b[39margs, \u001b[38;5;241m*\u001b[39m\u001b[38;5;241m*\u001b[39mkwargs)\n\u001b[0;32m   1529\u001b[0m \u001b[38;5;28;01mtry\u001b[39;00m:\n\u001b[0;32m   1530\u001b[0m     result \u001b[38;5;241m=\u001b[39m \u001b[38;5;28;01mNone\u001b[39;00m\n",
      "File \u001b[1;32m~\\Documents\\GitHub\\Udemy-Traitement-du-langage-naturel-avec-apprentissage-profond-2\\Chapitre 2\\models.py:190\u001b[0m, in \u001b[0;36mTransformer.forward\u001b[1;34m(self, src, trg, src_mask, trg_mask)\u001b[0m\n\u001b[0;32m    189\u001b[0m \u001b[38;5;28;01mdef\u001b[39;00m \u001b[38;5;21mforward\u001b[39m(\u001b[38;5;28mself\u001b[39m, src, trg, src_mask, trg_mask):\n\u001b[1;32m--> 190\u001b[0m     e_out \u001b[38;5;241m=\u001b[39m \u001b[38;5;28mself\u001b[39m\u001b[38;5;241m.\u001b[39mencoder(src, src_mask); \n\u001b[0;32m    191\u001b[0m     d_out \u001b[38;5;241m=\u001b[39m \u001b[38;5;28mself\u001b[39m\u001b[38;5;241m.\u001b[39mdecoder(trg, e_out, src_mask, trg_mask); \n\u001b[0;32m    192\u001b[0m     x \u001b[38;5;241m=\u001b[39m \u001b[38;5;28mself\u001b[39m\u001b[38;5;241m.\u001b[39mfc1(d_out); \n",
      "File \u001b[1;32m~\\AppData\\Local\\anaconda3\\Lib\\site-packages\\torch\\nn\\modules\\module.py:1518\u001b[0m, in \u001b[0;36mModule._wrapped_call_impl\u001b[1;34m(self, *args, **kwargs)\u001b[0m\n\u001b[0;32m   1516\u001b[0m     \u001b[38;5;28;01mreturn\u001b[39;00m \u001b[38;5;28mself\u001b[39m\u001b[38;5;241m.\u001b[39m_compiled_call_impl(\u001b[38;5;241m*\u001b[39margs, \u001b[38;5;241m*\u001b[39m\u001b[38;5;241m*\u001b[39mkwargs)  \u001b[38;5;66;03m# type: ignore[misc]\u001b[39;00m\n\u001b[0;32m   1517\u001b[0m \u001b[38;5;28;01melse\u001b[39;00m:\n\u001b[1;32m-> 1518\u001b[0m     \u001b[38;5;28;01mreturn\u001b[39;00m \u001b[38;5;28mself\u001b[39m\u001b[38;5;241m.\u001b[39m_call_impl(\u001b[38;5;241m*\u001b[39margs, \u001b[38;5;241m*\u001b[39m\u001b[38;5;241m*\u001b[39mkwargs)\n",
      "File \u001b[1;32m~\\AppData\\Local\\anaconda3\\Lib\\site-packages\\torch\\nn\\modules\\module.py:1527\u001b[0m, in \u001b[0;36mModule._call_impl\u001b[1;34m(self, *args, **kwargs)\u001b[0m\n\u001b[0;32m   1522\u001b[0m \u001b[38;5;66;03m# If we don't have any hooks, we want to skip the rest of the logic in\u001b[39;00m\n\u001b[0;32m   1523\u001b[0m \u001b[38;5;66;03m# this function, and just call forward.\u001b[39;00m\n\u001b[0;32m   1524\u001b[0m \u001b[38;5;28;01mif\u001b[39;00m \u001b[38;5;129;01mnot\u001b[39;00m (\u001b[38;5;28mself\u001b[39m\u001b[38;5;241m.\u001b[39m_backward_hooks \u001b[38;5;129;01mor\u001b[39;00m \u001b[38;5;28mself\u001b[39m\u001b[38;5;241m.\u001b[39m_backward_pre_hooks \u001b[38;5;129;01mor\u001b[39;00m \u001b[38;5;28mself\u001b[39m\u001b[38;5;241m.\u001b[39m_forward_hooks \u001b[38;5;129;01mor\u001b[39;00m \u001b[38;5;28mself\u001b[39m\u001b[38;5;241m.\u001b[39m_forward_pre_hooks\n\u001b[0;32m   1525\u001b[0m         \u001b[38;5;129;01mor\u001b[39;00m _global_backward_pre_hooks \u001b[38;5;129;01mor\u001b[39;00m _global_backward_hooks\n\u001b[0;32m   1526\u001b[0m         \u001b[38;5;129;01mor\u001b[39;00m _global_forward_hooks \u001b[38;5;129;01mor\u001b[39;00m _global_forward_pre_hooks):\n\u001b[1;32m-> 1527\u001b[0m     \u001b[38;5;28;01mreturn\u001b[39;00m forward_call(\u001b[38;5;241m*\u001b[39margs, \u001b[38;5;241m*\u001b[39m\u001b[38;5;241m*\u001b[39mkwargs)\n\u001b[0;32m   1529\u001b[0m \u001b[38;5;28;01mtry\u001b[39;00m:\n\u001b[0;32m   1530\u001b[0m     result \u001b[38;5;241m=\u001b[39m \u001b[38;5;28;01mNone\u001b[39;00m\n",
      "File \u001b[1;32m~\\Documents\\GitHub\\Udemy-Traitement-du-langage-naturel-avec-apprentissage-profond-2\\Chapitre 2\\models.py:161\u001b[0m, in \u001b[0;36mEncoderBlock.forward\u001b[1;34m(self, src, mask)\u001b[0m\n\u001b[0;32m    159\u001b[0m x \u001b[38;5;241m=\u001b[39m \u001b[38;5;28mself\u001b[39m\u001b[38;5;241m.\u001b[39mpe(x)\n\u001b[0;32m    160\u001b[0m \u001b[38;5;28;01mfor\u001b[39;00m i \u001b[38;5;129;01min\u001b[39;00m \u001b[38;5;28mrange\u001b[39m(\u001b[38;5;28mself\u001b[39m\u001b[38;5;241m.\u001b[39mnum):\n\u001b[1;32m--> 161\u001b[0m     x \u001b[38;5;241m=\u001b[39m \u001b[38;5;28mself\u001b[39m\u001b[38;5;241m.\u001b[39mlayers[i](x, mask)\n\u001b[0;32m    162\u001b[0m x \u001b[38;5;241m=\u001b[39m \u001b[38;5;28mself\u001b[39m\u001b[38;5;241m.\u001b[39mnorm(x)\n\u001b[0;32m    163\u001b[0m \u001b[38;5;28;01mreturn\u001b[39;00m x\n",
      "File \u001b[1;32m~\\AppData\\Local\\anaconda3\\Lib\\site-packages\\torch\\nn\\modules\\module.py:1518\u001b[0m, in \u001b[0;36mModule._wrapped_call_impl\u001b[1;34m(self, *args, **kwargs)\u001b[0m\n\u001b[0;32m   1516\u001b[0m     \u001b[38;5;28;01mreturn\u001b[39;00m \u001b[38;5;28mself\u001b[39m\u001b[38;5;241m.\u001b[39m_compiled_call_impl(\u001b[38;5;241m*\u001b[39margs, \u001b[38;5;241m*\u001b[39m\u001b[38;5;241m*\u001b[39mkwargs)  \u001b[38;5;66;03m# type: ignore[misc]\u001b[39;00m\n\u001b[0;32m   1517\u001b[0m \u001b[38;5;28;01melse\u001b[39;00m:\n\u001b[1;32m-> 1518\u001b[0m     \u001b[38;5;28;01mreturn\u001b[39;00m \u001b[38;5;28mself\u001b[39m\u001b[38;5;241m.\u001b[39m_call_impl(\u001b[38;5;241m*\u001b[39margs, \u001b[38;5;241m*\u001b[39m\u001b[38;5;241m*\u001b[39mkwargs)\n",
      "File \u001b[1;32m~\\AppData\\Local\\anaconda3\\Lib\\site-packages\\torch\\nn\\modules\\module.py:1527\u001b[0m, in \u001b[0;36mModule._call_impl\u001b[1;34m(self, *args, **kwargs)\u001b[0m\n\u001b[0;32m   1522\u001b[0m \u001b[38;5;66;03m# If we don't have any hooks, we want to skip the rest of the logic in\u001b[39;00m\n\u001b[0;32m   1523\u001b[0m \u001b[38;5;66;03m# this function, and just call forward.\u001b[39;00m\n\u001b[0;32m   1524\u001b[0m \u001b[38;5;28;01mif\u001b[39;00m \u001b[38;5;129;01mnot\u001b[39;00m (\u001b[38;5;28mself\u001b[39m\u001b[38;5;241m.\u001b[39m_backward_hooks \u001b[38;5;129;01mor\u001b[39;00m \u001b[38;5;28mself\u001b[39m\u001b[38;5;241m.\u001b[39m_backward_pre_hooks \u001b[38;5;129;01mor\u001b[39;00m \u001b[38;5;28mself\u001b[39m\u001b[38;5;241m.\u001b[39m_forward_hooks \u001b[38;5;129;01mor\u001b[39;00m \u001b[38;5;28mself\u001b[39m\u001b[38;5;241m.\u001b[39m_forward_pre_hooks\n\u001b[0;32m   1525\u001b[0m         \u001b[38;5;129;01mor\u001b[39;00m _global_backward_pre_hooks \u001b[38;5;129;01mor\u001b[39;00m _global_backward_hooks\n\u001b[0;32m   1526\u001b[0m         \u001b[38;5;129;01mor\u001b[39;00m _global_forward_hooks \u001b[38;5;129;01mor\u001b[39;00m _global_forward_pre_hooks):\n\u001b[1;32m-> 1527\u001b[0m     \u001b[38;5;28;01mreturn\u001b[39;00m forward_call(\u001b[38;5;241m*\u001b[39margs, \u001b[38;5;241m*\u001b[39m\u001b[38;5;241m*\u001b[39mkwargs)\n\u001b[0;32m   1529\u001b[0m \u001b[38;5;28;01mtry\u001b[39;00m:\n\u001b[0;32m   1530\u001b[0m     result \u001b[38;5;241m=\u001b[39m \u001b[38;5;28;01mNone\u001b[39;00m\n",
      "File \u001b[1;32m~\\Documents\\GitHub\\Udemy-Traitement-du-langage-naturel-avec-apprentissage-profond-2\\Chapitre 2\\models.py:120\u001b[0m, in \u001b[0;36mEncoderLayer.forward\u001b[1;34m(self, x, mask)\u001b[0m\n\u001b[0;32m    118\u001b[0m x \u001b[38;5;241m=\u001b[39m x \u001b[38;5;241m+\u001b[39m \u001b[38;5;28mself\u001b[39m\u001b[38;5;241m.\u001b[39mdropout1(\u001b[38;5;28mself\u001b[39m\u001b[38;5;241m.\u001b[39mattn(x1, x1, x1, mask)); \n\u001b[0;32m    119\u001b[0m x1 \u001b[38;5;241m=\u001b[39m \u001b[38;5;28mself\u001b[39m\u001b[38;5;241m.\u001b[39mnorm2(x)\n\u001b[1;32m--> 120\u001b[0m x \u001b[38;5;241m=\u001b[39m x \u001b[38;5;241m+\u001b[39m \u001b[38;5;28mself\u001b[39m\u001b[38;5;241m.\u001b[39mdropout2(\u001b[38;5;28mself\u001b[39m\u001b[38;5;241m.\u001b[39mfc1(x1)); \n\u001b[0;32m    121\u001b[0m \u001b[38;5;28;01mreturn\u001b[39;00m x\n",
      "File \u001b[1;32m~\\AppData\\Local\\anaconda3\\Lib\\site-packages\\torch\\nn\\modules\\module.py:1518\u001b[0m, in \u001b[0;36mModule._wrapped_call_impl\u001b[1;34m(self, *args, **kwargs)\u001b[0m\n\u001b[0;32m   1516\u001b[0m     \u001b[38;5;28;01mreturn\u001b[39;00m \u001b[38;5;28mself\u001b[39m\u001b[38;5;241m.\u001b[39m_compiled_call_impl(\u001b[38;5;241m*\u001b[39margs, \u001b[38;5;241m*\u001b[39m\u001b[38;5;241m*\u001b[39mkwargs)  \u001b[38;5;66;03m# type: ignore[misc]\u001b[39;00m\n\u001b[0;32m   1517\u001b[0m \u001b[38;5;28;01melse\u001b[39;00m:\n\u001b[1;32m-> 1518\u001b[0m     \u001b[38;5;28;01mreturn\u001b[39;00m \u001b[38;5;28mself\u001b[39m\u001b[38;5;241m.\u001b[39m_call_impl(\u001b[38;5;241m*\u001b[39margs, \u001b[38;5;241m*\u001b[39m\u001b[38;5;241m*\u001b[39mkwargs)\n",
      "File \u001b[1;32m~\\AppData\\Local\\anaconda3\\Lib\\site-packages\\torch\\nn\\modules\\module.py:1527\u001b[0m, in \u001b[0;36mModule._call_impl\u001b[1;34m(self, *args, **kwargs)\u001b[0m\n\u001b[0;32m   1522\u001b[0m \u001b[38;5;66;03m# If we don't have any hooks, we want to skip the rest of the logic in\u001b[39;00m\n\u001b[0;32m   1523\u001b[0m \u001b[38;5;66;03m# this function, and just call forward.\u001b[39;00m\n\u001b[0;32m   1524\u001b[0m \u001b[38;5;28;01mif\u001b[39;00m \u001b[38;5;129;01mnot\u001b[39;00m (\u001b[38;5;28mself\u001b[39m\u001b[38;5;241m.\u001b[39m_backward_hooks \u001b[38;5;129;01mor\u001b[39;00m \u001b[38;5;28mself\u001b[39m\u001b[38;5;241m.\u001b[39m_backward_pre_hooks \u001b[38;5;129;01mor\u001b[39;00m \u001b[38;5;28mself\u001b[39m\u001b[38;5;241m.\u001b[39m_forward_hooks \u001b[38;5;129;01mor\u001b[39;00m \u001b[38;5;28mself\u001b[39m\u001b[38;5;241m.\u001b[39m_forward_pre_hooks\n\u001b[0;32m   1525\u001b[0m         \u001b[38;5;129;01mor\u001b[39;00m _global_backward_pre_hooks \u001b[38;5;129;01mor\u001b[39;00m _global_backward_hooks\n\u001b[0;32m   1526\u001b[0m         \u001b[38;5;129;01mor\u001b[39;00m _global_forward_hooks \u001b[38;5;129;01mor\u001b[39;00m _global_forward_pre_hooks):\n\u001b[1;32m-> 1527\u001b[0m     \u001b[38;5;28;01mreturn\u001b[39;00m forward_call(\u001b[38;5;241m*\u001b[39margs, \u001b[38;5;241m*\u001b[39m\u001b[38;5;241m*\u001b[39mkwargs)\n\u001b[0;32m   1529\u001b[0m \u001b[38;5;28;01mtry\u001b[39;00m:\n\u001b[0;32m   1530\u001b[0m     result \u001b[38;5;241m=\u001b[39m \u001b[38;5;28;01mNone\u001b[39;00m\n",
      "File \u001b[1;32m~\\Documents\\GitHub\\Udemy-Traitement-du-langage-naturel-avec-apprentissage-profond-2\\Chapitre 2\\models.py:89\u001b[0m, in \u001b[0;36mFeedForward.forward\u001b[1;34m(self, x)\u001b[0m\n\u001b[0;32m     88\u001b[0m \u001b[38;5;28;01mdef\u001b[39;00m \u001b[38;5;21mforward\u001b[39m(\u001b[38;5;28mself\u001b[39m, x):\n\u001b[1;32m---> 89\u001b[0m     x \u001b[38;5;241m=\u001b[39m torch\u001b[38;5;241m.\u001b[39mrelu(\u001b[38;5;28mself\u001b[39m\u001b[38;5;241m.\u001b[39mfc1(x))\n\u001b[0;32m     90\u001b[0m     x \u001b[38;5;241m=\u001b[39m \u001b[38;5;28mself\u001b[39m\u001b[38;5;241m.\u001b[39mdropout(x)\n\u001b[0;32m     91\u001b[0m     x \u001b[38;5;241m=\u001b[39m \u001b[38;5;28mself\u001b[39m\u001b[38;5;241m.\u001b[39mfc2(x)\n",
      "\u001b[1;31mKeyboardInterrupt\u001b[0m: "
     ]
    }
   ],
   "source": [
    "losses_per_epoch, accuracy_per_epoch = [],[]\n",
    "for e in tqdm(range(num_epochs)):\n",
    "        net.train()\n",
    "        losses_per_batch = []; total_loss = 0.0\n",
    "        for i, data in enumerate(train_iter):\n",
    "            trg_input = data.FR[:,:-1]\n",
    "            labels = data.FR[:,1:].contiguous().view(-1)\n",
    "            src_mask, trg_mask = create_masks(data.EN, trg_input)\n",
    "\n",
    "            data.EN = data.EN.cuda(); trg_input = trg_input.cuda(); labels = labels.cuda()\n",
    "            src_mask = src_mask.cuda(); trg_mask = trg_mask.cuda()\n",
    "\n",
    "            outputs = net(data.EN, trg_input, src_mask, trg_mask)\n",
    "            outputs = outputs.view(-1, outputs.size(-1))\n",
    "            loss = criterion(outputs, labels)\n",
    "\n",
    "            loss.backward(); #break;break\n",
    "\n",
    "            optimizer.step()\n",
    "            optimizer.zero_grad()\n",
    "            #scheduler.step()\n",
    "\n",
    "            total_loss += loss.item()\n",
    "\n",
    "            if i % 100 == 99: # print every 100 mini-batches of size = batch_size\n",
    "                losses_per_batch.append(total_loss/100)\n",
    "                total_loss = 0.0\n",
    "        losses_per_epoch.append(sum(losses_per_batch)/len(losses_per_batch))\n",
    "\n",
    "        acc = 0\n",
    "        print(\"Évaluation...\")\n",
    "        with torch.no_grad():\n",
    "            net.eval()\n",
    "            for i, data in enumerate(train_iter):\n",
    "                trg_input = data.FR[:,:-1]\n",
    "                labels = data.FR[:,1:].contiguous().view(-1)\n",
    "                src_mask, trg_mask = create_masks(data.EN, trg_input)\n",
    "\n",
    "                data.EN = data.EN.cuda(); trg_input = trg_input.cuda(); labels = labels.cuda()\n",
    "                src_mask = src_mask.cuda(); trg_mask = trg_mask.cuda()\n",
    "\n",
    "                outputs = net(data.EN, trg_input, src_mask, trg_mask)\n",
    "                outputs = outputs.view(-1, outputs.size(-1))\n",
    "\n",
    "                acc += evaluate(outputs, labels)\n",
    "        acc/=(i + 1)\n",
    "        \n",
    "        print(\"Pertes à Epoch %d: %.7f\" % (e, losses_per_epoch[-1]))\n",
    "        print(\"Précision à Epoch %d: %.7f\" % (e, accuracy_per_epoch[-1]))\n",
    "        if accuracy_per_epoch[-1] > acc:\n",
    "            acc = accuracy_per_epoch[-1]\n",
    "            torch.save({\n",
    "                    'epoch': e + 1,\\\n",
    "                    'state_dict': net.state_dict(),\\\n",
    "                    'best_acc': acc,\\\n",
    "                    'optimizer' : optimizer.state_dict(),\\\n",
    "                }, os.path.join(\"..\",\"data\" ,\"test_model_best_%d.pth.tar\" % model_no))\n",
    "        accuracy_per_epoch.append(acc)\n",
    "\n",
    "\n",
    "\n"
   ]
  },
  {
   "cell_type": "code",
   "execution_count": 26,
   "id": "4e130a66",
   "metadata": {
    "id": "4e130a66",
    "outputId": "f7dcc5dd-06b3-4ae8-e6d7-e0a3d2a7eabd"
   },
   "outputs": [
    {
     "name": "stdout",
     "output_type": "stream",
     "text": [
      "Formation terminée\n"
     ]
    },
    {
     "data": {
      "image/png": "[encoded data removed]",
      "text/plain": [
       "<Figure size 640x480 with 1 Axes>"
      ]
     },
     "metadata": {},
     "output_type": "display_data"
    }
   ],
   "source": [
    "print(\"Formation terminée\")\n",
    "plt.scatter([i for i in range(len(losses_per_epoch))], losses_per_epoch)\n",
    "plt.xlabel(\"Epoch\", fontsize=15)\n",
    "plt.ylabel(\"Loss\", fontsize=15)\n",
    "plt.title(\"Loss vs Epoch\", fontsize=20)\n",
    "plt.savefig(os.path.join(\"..\",\"data\",\"test_loss_vs_epoch_%d.png\" % model_no))\n",
    "\n"
   ]
  },
  {
   "cell_type": "code",
   "execution_count": 27,
   "id": "4215ef7a",
   "metadata": {
    "id": "4215ef7a"
   },
   "outputs": [
    {
     "data": {
      "image/png": "[encoded data removed]",
      "text/plain": [
       "<Figure size 640x480 with 1 Axes>"
      ]
     },
     "metadata": {},
     "output_type": "display_data"
    }
   ],
   "source": [
    "\n",
    "plt.scatter([i for i in range(len(accuracy_per_epoch))], accuracy_per_epoch)\n",
    "plt.xlabel(\"Epoch\", fontsize=15)\n",
    "plt.ylabel(\"Accuracy\", fontsize=15)\n",
    "plt.title(\"Accuracy vs Epoch\", fontsize=20)\n",
    "plt.savefig(os.path.join(\"..\",\"data\", \"test_Accuracy_vs_epoch_%d.png\" %model_no))"
   ]
  },
  {
   "cell_type": "code",
   "execution_count": null,
   "id": "699cae51",
   "metadata": {
    "id": "699cae51"
   },
   "outputs": [],
   "source": []
  }
 ],
 "metadata": {
  "colab": {
   "provenance": []
  },
  "kernelspec": {
   "display_name": "Python 3 (ipykernel)",
   "language": "python",
   "name": "python3"
  },
  "language_info": {
   "codemirror_mode": {
    "name": "ipython",
    "version": 3
   },
   "file_extension": ".py",
   "mimetype": "text/x-python",
   "name": "python",
   "nbconvert_exporter": "python",
   "pygments_lexer": "ipython3",
   "version": "3.11.5"
  }
 },
 "nbformat": 4,
 "nbformat_minor": 5
}
