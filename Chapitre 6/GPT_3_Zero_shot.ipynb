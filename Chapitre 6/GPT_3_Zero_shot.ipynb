{
  "cells": [
    {
      "cell_type": "markdown",
      "metadata": {
        "id": "ln9o1dJB3LJV"
      },
      "source": [
        "L'architecture de GPT-3 repose sur un réseau neuronal de type Transformer, conçu spécifiquement pour traiter des données séquentielles telles que du texte.\n",
        "\n",
        "### Vue d'ensemble de l'architecture :\n",
        "- **Architecture Transformer :** L'architecture de GPT-3 est basée sur le modèle transformer, qui utilise des mécanismes d'auto-attention pour pondérer différents mots dans une phrase et comprendre les relations entre eux. Cela permet au modèle de capturer les dépendances à longue portée dans le texte d'entrée.\n",
        "- **Attention multi-têtes :** Il utilise une auto-attention multi-têtes, permettant au modèle de se concentrer sur différentes parties du texte d'entrée simultanément, capturant ainsi des relations diverses au sein du texte.\n",
        "- **Encodage positionnel :** Pour conserver l'ordre séquentiel des mots, des encodages positionnels sont ajoutés aux plongements d'entrée, fournissant au modèle des informations sur la position des mots dans la séquence.\n",
        "- **Réseaux neuronaux à propagation avant :** GPT-3 est également constitué de réseaux neuronaux à propagation avant, qui traitent les informations recueillies par les mécanismes d'attention.\n",
        "\n",
        "### Pré-entraînement :\n",
        "GPT-3 est pré-entraîné à l'aide d'une vaste quantité de données textuelles provenant d'Internet, de livres, d'articles, etc. Le processus de pré-entraînement comprend deux étapes clés :\n",
        "\n",
        "- **Apprentissage non supervisé :** Le modèle apprend à partir des données textuelles en prédisant le mot suivant dans une séquence de mots. Ce processus est appelé \"modélisation de langage masqué\". Des portions du texte d'entrée sont masquées de manière aléatoire, et le modèle est entraîné à prédire les mots manquants en se basant sur le contexte environnant.\n",
        "- **Ajustement fin :** Après le pré-entraînement sur un corpus important de textes, GPT-3 peut être affiné sur des ensembles de données spécifiques à une tâche ou à un domaine. Cet affinement permet au modèle de se spécialiser dans diverses tâches telles que la traduction, la résumé, la réponse à des questions, etc.\n",
        "\n",
        "### Échelle et paramètres :\n",
        "GPT-3 est reconnu pour sa taille immense, contenant 175 milliards de paramètres. Un nombre plus élevé de paramètres signifie généralement que le modèle peut capturer un plus large éventail de schémas et de nuances dans les données, ce qui se traduit par de meilleures performances dans diverses tâches linguistiques.\n",
        "\n",
        "### Avancées et capacités :\n",
        "- GPT-3 présente de solides capacités de génération de langage, produisant un texte pertinent et cohérent sur une large gamme de sujets.\n",
        "- Il a montré des performances impressionnantes dans des tâches telles que la traduction, le résumé, la réponse à des questions, le complément de texte, etc., sans entraînement spécifique à une tâche.\n",
        "- La grande échelle de GPT-3 lui permet de générer des réponses humaines et de comprendre des nuances linguistiques complexes, le rendant polyvalent dans la compréhension et la génération de langage naturel.\n",
        "\n",
        "En somme, l'architecture de GPT-3, ses méthodes de pré-entraînement et sa taille massive contribuent à ses remarquables capacités linguistiques et à sa polyvalence dans diverses tâches de traitement de langage naturel."
      ]
    },
    {
      "cell_type": "markdown",
      "source": [
        "### Mécanismes de Prompting(Guides)  :\n",
        "La capacité du GPT-3 à gérer ces scénarios repose sur son architecture et la manière dont il interprète les guides. En fournissant au modèle des guides ou des exemples soigneusement conçus, les utilisateurs peuvent orienter sa compréhension et façonner la direction de sa sortie. Le guide sert de repère pour le modèle, le dirigeant vers la tâche ou le contexte souhaité.\n",
        "\n",
        "La préformation à grande échelle du modèle sur des données textuelles diverses lui permet de généraliser sur différentes tâches et domaines, lui permettant d'exceller dans ces scénarios d'apprentissage en quelques exemples, d'un seul exemple ou même sans exemple supplémentaire, ce qui le rend polyvalent pour un large éventail de tâches de traitement du langage naturel.\n",
        "\n",
        "<img src=\"https://drive.google.com/uc?export=view&id=1duewWXVGFIP9hrXR7ZdOvQyYAhGiPZrT\">"
      ],
      "metadata": {
        "id": "NTe0Z-BfAT1R"
      }
    },
    {
      "cell_type": "markdown",
      "source": [
        "\n",
        "\n",
        "### Apprentissage en Quelques Exemples :\n",
        "Dans ce scénario, le modèle reçoit un petit nombre d'exemples (\"quelques exemples\") pour une tâche spécifique avant de faire des prédictions. GPT-3 peut accomplir cela en fournissant au modèle un contexte ou des exemples liés à la tâche qu'il doit effectuer. Par exemple, s'il doit compléter une phrase ou réaliser une traduction, il peut être alimenté avec quelques exemples ou un guide pour orienter sa compréhension de la tâche.\n",
        "\n",
        "### Apprentissage d'un Seul Exemple :\n",
        "Ici, le modèle est exposé à un seul exemple ou à une quantité d'informations très limitée avant d'effectuer une tâche. GPT-3 démontre sa capacité dans ce domaine en utilisant un seul exemple ou un guide pour générer ou comprendre du texte en fonction du contexte donné.\n",
        "\n",
        "### Apprentissage sans Exemple :\n",
        "L'apprentissage sans exemple survient lorsque le modèle effectue une tâche sans formation spécifique sur cette tâche. GPT-3 excelle dans ces scénarios grâce à sa vaste connaissance préalable. Même s'il n'a pas été explicitement entraîné sur une tâche particulière, il peut générer des réponses raisonnables ou s'en sortir correctement en utilisant le contexte fourni dans le guide et sa compréhension préalable du langage issue de ses données d'entraînement.\n",
        "\n"
      ],
      "metadata": {
        "id": "UBw6pFfAAMxP"
      }
    },
    {
      "cell_type": "code",
      "execution_count": null,
      "metadata": {
        "id": "TOPmGtap4A1L"
      },
      "outputs": [],
      "source": [
        "# Install openai python library\n",
        "!pip install openai\n",
        "!pip install scikit-learn"
      ]
    },
    {
      "cell_type": "code",
      "source": [
        "En l'état de mes informations en janvier 2022, \"Text-Ada-101\" désigne une variante du modèle GPT-3 d'OpenAI, spécifiquement adaptée et affinée pour les tâches de programmation et de code. Cette variante a été créée pour exceller dans la compréhension et la génération de morceaux de code, fournissant une assistance pour les requêtes liées à la programmation et aidant dans diverses tâches de développement logiciel.\n",
        "\n",
        "Text-Ada-101 est basé sur l'architecture de GPT-3, mais il a été affiné à partir d'ensembles de données principalement constitués de langages de programmation, d'échantillons de code et de textes techniques connexes. Cette spécialisation lui permet de mieux comprendre la syntaxe de programmation, la logique et d'aider à générer des extraits de code ou des explications pour des questions liées au codage.\n",
        "\n",
        "Son utilisation concerne le développement logiciel, les plates-formes d'assistance au codage, l'écriture technique, les outils éducatifs pour la programmation et tout domaine nécessitant une assistance basée sur l'IA pour les tâches de codage. Les développeurs, programmeurs, éducateurs et toute personne cherchant de l'aide pour des problèmes de codage ou des explications peuvent utiliser Text-Ada-101 pour améliorer leur productivité et leur compréhension dans les domaines liés à la programmation."
      ],
      "metadata": {
        "id": "P61LUMWjE_fW"
      },
      "execution_count": null,
      "outputs": []
    },
    {
      "cell_type": "markdown",
      "source": [],
      "metadata": {
        "id": "4xRrLVyeFFgj"
      }
    },
    {
      "cell_type": "markdown",
      "source": [
        "L'API OpenAI est une plateforme qui donne accès à divers modèles d'IA développés par OpenAI, dont GPT-3 (Generative Pre-trained Transformer 3). Elle permet aux développeurs d'intégrer ces modèles dans leurs applications, exploitant ainsi les capacités de l'IA pour des tâches de traitement du langage naturel.\n",
        "\n",
        "### Utilisation de l'API OpenAI pour solliciter GPT-3 :\n",
        "L'API permet aux utilisateurs d'interagir avec GPT-3 en envoyant des requêtes contenant des invites (prompts) - des entrées textuelles qui guident le modèle sur la tâche à effectuer ou le type de sortie à générer. Les utilisateurs peuvent spécifier les paramètres du modèle, tels que l'invite, le nombre de jetons (mots) dans la réponse, ainsi que d'autres réglages comme la température (qui contrôle le degré de variation du texte généré) et le nombre maximal de jetons.\n",
        "\n",
        "Par exemple, un utilisateur pourrait fournir une invite du type \"Traduire la phrase suivante en espagnol\", suivie de la phrase à traduire. L'API traitera cette invite et générera une réponse en conséquence.\n",
        "\n",
        "<img src=\"https://drive.google.com/uc?export=view&id=1d9G8kbNjN5zD2w3ZHq6ezRIJH_4ShNEJ\">\n",
        "\n",
        "### Moteurs de ChatGPT-3 :\n",
        "ChatGPT-3 propose différents moteurs ou variantes qui répondent à des besoins spécifiques ou offrent des compromis en termes de performances, de coûts et de rapidité de réponse. Ces moteurs varient selon le nombre de jetons qu'ils peuvent traiter, impactant ainsi les capacités du modèle et le coût associé à leur utilisation.\n",
        "\n",
        "\n",
        "\n",
        "1. **Davinci :** Davinci est la variante la plus puissante et complète, offrant la plus grande taille de modèle et traitant jusqu'à 4096 jetons par invite. Il est capable de gérer des tâches complexes et de générer des réponses plus longues et détaillées.\n",
        "\n",
        "2. **Curie :** Curie est une version plus réduite par rapport à Davinci, avec une limite de 2048 jetons par invite. Elle est conçue pour équilibrer performances et coûts, adaptée à diverses tâches de conversation et offrant des réponses raisonnables dans des limites spécifiques.\n",
        "\n",
        "3. **Babbage :** Babbage est la variante la plus petite, traitant jusqu'à 1024 jetons par invite. Elle est plus rentable et adaptée à des scénarios où des réponses plus courtes ou une puissance de traitement limitée sont suffisantes.\n",
        "\n",
        "\n",
        "### Cas d'utilisation pour différents moteurs :\n",
        "- **Davinci :** Idéal pour des applications exigeantes nécessitant une compréhension sophistiquée du langage, le traitement d'un contexte étendu et la génération de contenus plus longs. Les cas d'utilisation incluent la création de contenu, les systèmes de dialogue complexes et la compréhension approfondie du langage naturel.\n",
        "\n",
        "- **Curie :** Adapté à une grande variété d'applications conversationnelles, au support client, aux chatbots et aux scénarios où un bon équilibre entre capacités et coûts est nécessaire.\n",
        "\n",
        "- **Babbage :** Rentable pour des tâches plus simples telles que la génération de contenus courts, les chatbots plus simples et les applications où des réponses plus courtes sont acceptables.\n",
        "\n",
        "Le choix du moteur approprié dépend des exigences spécifiques de l'application, en tenant compte de facteurs tels que la puissance de traitement, le coût, la longueur des réponses et la complexité des tâches."
      ],
      "metadata": {
        "id": "egAofYlHBZwx"
      }
    },
    {
      "cell_type": "code",
      "execution_count": null,
      "metadata": {
        "id": "R_IaEqa7B5E1"
      },
      "outputs": [],
      "source": [
        "import os\n",
        "import openai"
      ]
    },
    {
      "cell_type": "markdown",
      "metadata": {
        "id": "-8kFgRm_4-sE"
      },
      "source": [
        "Pour configurer un moteur openai, nous devons trouver l'identifiant de l'organisation et la clé de l'api. Pour trouver l'identifiant de l'organisation, allez sur [https://beta.openai.com/account/org-settings](https://beta.openai.com/account/org-settings) et copiez la valeur de l'identifiant de l'organisation. Pour trouver la clé api, allez sur [https://beta.openai.com/account/api-keys](https://beta.openai.com/account/api-keys) et copiez la valeur de la clé secrète."
      ]
    },
    {
      "cell_type": "code",
      "execution_count": null,
      "metadata": {
        "id": "gGVn7re34-Jz"
      },
      "outputs": [],
      "source": [
        "openai.organization = \"\"\n",
        "openai.api_key = \"\""
      ]
    },
    {
      "cell_type": "markdown",
      "metadata": {
        "id": "LG-9Js_s7W3E"
      },
      "source": [
        "Pour tenter de reproduire les résultats de l'étude \"Language models are few shot learners\", nous utiliserons l'ensemble de données IMDB reviews."
      ]
    },
    {
      "cell_type": "code",
      "execution_count": null,
      "metadata": {
        "colab": {
          "base_uri": "https://localhost:8080/",
          "height": 1000
        },
        "id": "47fHU5hs8oBG",
        "outputId": "743601b1-30e8-4c6b-b2f6-68ed808214dc"
      },
      "outputs": [
        {
          "output_type": "stream",
          "name": "stdout",
          "text": [
            "Collecting datasets\n",
            "  Downloading datasets-2.2.1-py3-none-any.whl (342 kB)\n",
            "\u001b[K     |████████████████████████████████| 342 kB 4.9 MB/s \n",
            "\u001b[?25hRequirement already satisfied: multiprocess in /usr/local/lib/python3.7/dist-packages (from datasets) (0.70.12.2)\n",
            "Collecting huggingface-hub<1.0.0,>=0.1.0\n",
            "  Downloading huggingface_hub-0.6.0-py3-none-any.whl (84 kB)\n",
            "\u001b[K     |████████████████████████████████| 84 kB 2.9 MB/s \n",
            "\u001b[?25hRequirement already satisfied: pyarrow>=6.0.0 in /usr/local/lib/python3.7/dist-packages (from datasets) (6.0.1)\n",
            "Requirement already satisfied: requests>=2.19.0 in /usr/local/lib/python3.7/dist-packages (from datasets) (2.23.0)\n",
            "Requirement already satisfied: numpy>=1.17 in /usr/local/lib/python3.7/dist-packages (from datasets) (1.21.6)\n",
            "Collecting aiohttp\n",
            "  Downloading aiohttp-3.8.1-cp37-cp37m-manylinux_2_5_x86_64.manylinux1_x86_64.manylinux_2_12_x86_64.manylinux2010_x86_64.whl (1.1 MB)\n",
            "\u001b[K     |████████████████████████████████| 1.1 MB 48.0 MB/s \n",
            "\u001b[?25hRequirement already satisfied: packaging in /usr/local/lib/python3.7/dist-packages (from datasets) (21.3)\n",
            "Requirement already satisfied: pandas in /usr/local/lib/python3.7/dist-packages (from datasets) (1.3.5)\n",
            "Requirement already satisfied: dill in /usr/local/lib/python3.7/dist-packages (from datasets) (0.3.4)\n",
            "Requirement already satisfied: tqdm>=4.62.1 in /usr/local/lib/python3.7/dist-packages (from datasets) (4.64.0)\n",
            "Collecting xxhash\n",
            "  Downloading xxhash-3.0.0-cp37-cp37m-manylinux_2_17_x86_64.manylinux2014_x86_64.whl (212 kB)\n",
            "\u001b[K     |████████████████████████████████| 212 kB 64.1 MB/s \n",
            "\u001b[?25hCollecting fsspec[http]>=2021.05.0\n",
            "  Downloading fsspec-2022.3.0-py3-none-any.whl (136 kB)\n",
            "\u001b[K     |████████████████████████████████| 136 kB 70.7 MB/s \n",
            "\u001b[?25hRequirement already satisfied: importlib-metadata in /usr/local/lib/python3.7/dist-packages (from datasets) (4.11.3)\n",
            "Collecting responses<0.19\n",
            "  Downloading responses-0.18.0-py3-none-any.whl (38 kB)\n",
            "Requirement already satisfied: pyyaml in /usr/local/lib/python3.7/dist-packages (from huggingface-hub<1.0.0,>=0.1.0->datasets) (3.13)\n",
            "Requirement already satisfied: typing-extensions>=3.7.4.3 in /usr/local/lib/python3.7/dist-packages (from huggingface-hub<1.0.0,>=0.1.0->datasets) (4.2.0)\n",
            "Requirement already satisfied: filelock in /usr/local/lib/python3.7/dist-packages (from huggingface-hub<1.0.0,>=0.1.0->datasets) (3.6.0)\n",
            "Requirement already satisfied: pyparsing!=3.0.5,>=2.0.2 in /usr/local/lib/python3.7/dist-packages (from packaging->datasets) (3.0.8)\n",
            "Requirement already satisfied: idna<3,>=2.5 in /usr/local/lib/python3.7/dist-packages (from requests>=2.19.0->datasets) (2.10)\n",
            "Requirement already satisfied: urllib3!=1.25.0,!=1.25.1,<1.26,>=1.21.1 in /usr/local/lib/python3.7/dist-packages (from requests>=2.19.0->datasets) (1.24.3)\n",
            "Requirement already satisfied: chardet<4,>=3.0.2 in /usr/local/lib/python3.7/dist-packages (from requests>=2.19.0->datasets) (3.0.4)\n",
            "Requirement already satisfied: certifi>=2017.4.17 in /usr/local/lib/python3.7/dist-packages (from requests>=2.19.0->datasets) (2021.10.8)\n",
            "Collecting urllib3!=1.25.0,!=1.25.1,<1.26,>=1.21.1\n",
            "  Downloading urllib3-1.25.11-py2.py3-none-any.whl (127 kB)\n",
            "\u001b[K     |████████████████████████████████| 127 kB 55.4 MB/s \n",
            "\u001b[?25hCollecting aiosignal>=1.1.2\n",
            "  Downloading aiosignal-1.2.0-py3-none-any.whl (8.2 kB)\n",
            "Collecting multidict<7.0,>=4.5\n",
            "  Downloading multidict-6.0.2-cp37-cp37m-manylinux_2_17_x86_64.manylinux2014_x86_64.whl (94 kB)\n",
            "\u001b[K     |████████████████████████████████| 94 kB 2.6 MB/s \n",
            "\u001b[?25hRequirement already satisfied: charset-normalizer<3.0,>=2.0 in /usr/local/lib/python3.7/dist-packages (from aiohttp->datasets) (2.0.12)\n",
            "Collecting async-timeout<5.0,>=4.0.0a3\n",
            "  Downloading async_timeout-4.0.2-py3-none-any.whl (5.8 kB)\n",
            "Requirement already satisfied: attrs>=17.3.0 in /usr/local/lib/python3.7/dist-packages (from aiohttp->datasets) (21.4.0)\n",
            "Collecting yarl<2.0,>=1.0\n",
            "  Downloading yarl-1.7.2-cp37-cp37m-manylinux_2_5_x86_64.manylinux1_x86_64.manylinux_2_12_x86_64.manylinux2010_x86_64.whl (271 kB)\n",
            "\u001b[K     |████████████████████████████████| 271 kB 45.3 MB/s \n",
            "\u001b[?25hCollecting asynctest==0.13.0\n",
            "  Downloading asynctest-0.13.0-py3-none-any.whl (26 kB)\n",
            "Collecting frozenlist>=1.1.1\n",
            "  Downloading frozenlist-1.3.0-cp37-cp37m-manylinux_2_5_x86_64.manylinux1_x86_64.manylinux_2_17_x86_64.manylinux2014_x86_64.whl (144 kB)\n",
            "\u001b[K     |████████████████████████████████| 144 kB 22.8 MB/s \n",
            "\u001b[?25hRequirement already satisfied: zipp>=0.5 in /usr/local/lib/python3.7/dist-packages (from importlib-metadata->datasets) (3.8.0)\n",
            "Requirement already satisfied: python-dateutil>=2.7.3 in /usr/local/lib/python3.7/dist-packages (from pandas->datasets) (2.8.2)\n",
            "Requirement already satisfied: pytz>=2017.3 in /usr/local/lib/python3.7/dist-packages (from pandas->datasets) (2022.1)\n",
            "Requirement already satisfied: six>=1.5 in /usr/local/lib/python3.7/dist-packages (from python-dateutil>=2.7.3->pandas->datasets) (1.15.0)\n",
            "Installing collected packages: multidict, frozenlist, yarl, urllib3, asynctest, async-timeout, aiosignal, fsspec, aiohttp, xxhash, responses, huggingface-hub, datasets\n",
            "  Attempting uninstall: urllib3\n",
            "    Found existing installation: urllib3 1.24.3\n",
            "    Uninstalling urllib3-1.24.3:\n",
            "      Successfully uninstalled urllib3-1.24.3\n",
            "\u001b[31mERROR: pip's dependency resolver does not currently take into account all the packages that are installed. This behaviour is the source of the following dependency conflicts.\n",
            "datascience 0.10.6 requires folium==0.2.1, but you have folium 0.8.3 which is incompatible.\u001b[0m\n",
            "Successfully installed aiohttp-3.8.1 aiosignal-1.2.0 async-timeout-4.0.2 asynctest-0.13.0 datasets-2.2.1 frozenlist-1.3.0 fsspec-2022.3.0 huggingface-hub-0.6.0 multidict-6.0.2 responses-0.18.0 urllib3-1.25.11 xxhash-3.0.0 yarl-1.7.2\n"
          ]
        },
        {
          "output_type": "display_data",
          "data": {
            "application/vnd.colab-display-data+json": {
              "pip_warning": {
                "packages": [
                  "urllib3"
                ]
              }
            }
          },
          "metadata": {}
        }
      ],
      "source": [
        "!pip install datasets"
      ]
    },
    {
      "cell_type": "code",
      "execution_count": null,
      "metadata": {
        "colab": {
          "base_uri": "https://localhost:8080/",
          "height": 200,
          "referenced_widgets": [
            "8755147df0ad4de7a2d0a396e6fcdddb",
            "275ba67e5c1a4635a7d8345efbc51610",
            "d090b0c455b440c58fba4aff3ca52e73",
            "eff81cc43e6d4e86b1565f67f1a1079a",
            "292c5415ab6d428483ad8d1902a0ea7d",
            "67450aafbc64451b98dadab153d3579f",
            "f79240a6cebe492db39a792702b90da9",
            "7e1f6cf2644c45a69d026c177f3d346e",
            "48f3c68d7fd445e087cc941fcd3bd47b",
            "cfddbf1eb239440bb19cef41f5b53109",
            "94cc5920c38b4424a7603e69f717d6c9",
            "22719761a14a4db6a80b489c959d1a96",
            "270f9344165e4d5d95894c8c4e829465",
            "a4cd9d8d10fb4e4e85efa58fdf459437",
            "da6ad8e8e4a341febb7112fb15f22ea7",
            "9506422265944498bb863050edf83e55",
            "fdc59d693ab14990a01cc4cb809433e2",
            "43cfee4e38b14f6eadba4cf98dfc64a1",
            "c55cd418971b4316ba7d5c27ade57238",
            "507a087469af428d822ddd8039c6ced9",
            "e4a74ae58a45435cb5314ac268627603",
            "c14ddc28dc10406e851e08ffdab3f346",
            "dd350f34de334fd1925df34c1a232b35",
            "b4644d4f27024553b2692498d5020bf8",
            "9c9904156ad44a7d8a8e8bb7644263cf",
            "644774099ee34a3787bb27a4ffa9180d",
            "71fb9641b68049d7a9361655c3485a2b",
            "44a9843d559f44ce8b46930b7efb421f",
            "b61916b3ef56402da489881514d73248",
            "a328443ed4864a95beba13c05a3d4400",
            "08db32bcc4424cb98c074edb5c4d0e82",
            "a849f4d9904243a9b6709a25e0eea347",
            "5c4c03d981dc4f00bf68b00b25fafe7f",
            "73e9c66ddfaf49048930f9e9337b4475",
            "97dc0ef84f8f482dadc63748612b4088",
            "18c2438abd9e4424ac0e7feb10acf71a",
            "224e581589904ea482525300f5807bd8",
            "61563204b4f24cee84ce8d51409fdeec",
            "5d93e644097f4f27b236cf0c8be16746",
            "bc44db8b1c7b4d1c887d216c43c68b10",
            "a96266b718624809aa2d4f49ebfeb1e8",
            "5aadb143e1ce4bca9558194b0917e7e4",
            "52ce690da4c74915b503a4cd106ece17",
            "1c99ca07edf641f3af88332deaeafe55",
            "bc50ab33079a4c84a6f6f711e710c472",
            "c109cb47e2194f4e8e1729994d2e91c8",
            "aca36a3ac45f4189b2a92dbd3c05eb45",
            "578a11f093fc4c0f8c6603ef9b4b190c",
            "f4a238a897904f0d9c77109e216981b8",
            "1556795d927c410b9f2590d3fe932b56",
            "f3583b06ce534e7987b32d26aa1e4a62",
            "cc1db07abec64e82923f98e482c615eb",
            "0832c96579584ffcaee3166d5fd7e1f1",
            "59a4dc46f998405d9e6acb5306c19fdf",
            "7db16318145146f4bc3486ea487db8a4",
            "ac11fb16f1754ddf99711172ea2e7fe8",
            "ac71ba9224964d768b5976828d8bfdb0",
            "7380cf0f03c145108ea0ef5fdd534699",
            "df2ea23a56744f84922a3da9d7376631",
            "f0d63af3c1aa4f27911d361dc6e4e12a",
            "84fab1e2c7a14ffe815a50eff1b4be89",
            "ccfa5d4afd664fcc80b57b91c80107b6",
            "eb649af48e3040bb893f21a88dd40eb1",
            "2d240e5193394a48b1dd469a5b674042",
            "460db6affeda488ebf44a15330dca730",
            "3af891aa6041458795d00f58e632aab2",
            "1c7e9f7fcf2346b78222ca4cf05dfae5",
            "0b33915b7031447799ec1c32bc751efb",
            "a5926404dff64e358e71b550be99e9c1",
            "f939ad35a0ac4fa59128a80c0e1a8f4f",
            "226bff1d8653404893b4ddcb77c69dd7",
            "b4bfd83f8932406d9e3ec2e56b527d8f",
            "290e73772d8b4857b75b80700df4228d",
            "9b2ec56687b54d77881d8bb03b1dcad2",
            "322b77887bb74289aacab149d14b12c1",
            "77a5ca214da04019bed63c1241b9705f",
            "06709d0cb2a84633b9bedce26ad21c9e"
          ]
        },
        "id": "xHQ8PAR686G7",
        "outputId": "984613af-24ea-4974-c32b-45cd7a82dce3"
      },
      "outputs": [
        {
          "output_type": "display_data",
          "data": {
            "text/plain": [
              "Downloading builder script:   0%|          | 0.00/1.79k [00:00<?, ?B/s]"
            ],
            "application/vnd.jupyter.widget-view+json": {
              "version_major": 2,
              "version_minor": 0,
              "model_id": "8755147df0ad4de7a2d0a396e6fcdddb"
            }
          },
          "metadata": {}
        },
        {
          "output_type": "display_data",
          "data": {
            "text/plain": [
              "Downloading metadata:   0%|          | 0.00/1.05k [00:00<?, ?B/s]"
            ],
            "application/vnd.jupyter.widget-view+json": {
              "version_major": 2,
              "version_minor": 0,
              "model_id": "22719761a14a4db6a80b489c959d1a96"
            }
          },
          "metadata": {}
        },
        {
          "output_type": "stream",
          "name": "stdout",
          "text": [
            "Downloading and preparing dataset imdb/plain_text (download: 80.23 MiB, generated: 127.02 MiB, post-processed: Unknown size, total: 207.25 MiB) to /root/.cache/huggingface/datasets/imdb/plain_text/1.0.0/2fdd8b9bcadd6e7055e742a706876ba43f19faee861df134affd7a3f60fc38a1...\n"
          ]
        },
        {
          "output_type": "display_data",
          "data": {
            "text/plain": [
              "Downloading data:   0%|          | 0.00/84.1M [00:00<?, ?B/s]"
            ],
            "application/vnd.jupyter.widget-view+json": {
              "version_major": 2,
              "version_minor": 0,
              "model_id": "dd350f34de334fd1925df34c1a232b35"
            }
          },
          "metadata": {}
        },
        {
          "output_type": "display_data",
          "data": {
            "text/plain": [
              "Generating train split:   0%|          | 0/25000 [00:00<?, ? examples/s]"
            ],
            "application/vnd.jupyter.widget-view+json": {
              "version_major": 2,
              "version_minor": 0,
              "model_id": "73e9c66ddfaf49048930f9e9337b4475"
            }
          },
          "metadata": {}
        },
        {
          "output_type": "display_data",
          "data": {
            "text/plain": [
              "Generating test split:   0%|          | 0/25000 [00:00<?, ? examples/s]"
            ],
            "application/vnd.jupyter.widget-view+json": {
              "version_major": 2,
              "version_minor": 0,
              "model_id": "bc50ab33079a4c84a6f6f711e710c472"
            }
          },
          "metadata": {}
        },
        {
          "output_type": "display_data",
          "data": {
            "text/plain": [
              "Generating unsupervised split:   0%|          | 0/50000 [00:00<?, ? examples/s]"
            ],
            "application/vnd.jupyter.widget-view+json": {
              "version_major": 2,
              "version_minor": 0,
              "model_id": "ac11fb16f1754ddf99711172ea2e7fe8"
            }
          },
          "metadata": {}
        },
        {
          "output_type": "stream",
          "name": "stdout",
          "text": [
            "Dataset imdb downloaded and prepared to /root/.cache/huggingface/datasets/imdb/plain_text/1.0.0/2fdd8b9bcadd6e7055e742a706876ba43f19faee861df134affd7a3f60fc38a1. Subsequent calls will reuse this data.\n"
          ]
        },
        {
          "output_type": "display_data",
          "data": {
            "text/plain": [
              "  0%|          | 0/3 [00:00<?, ?it/s]"
            ],
            "application/vnd.jupyter.widget-view+json": {
              "version_major": 2,
              "version_minor": 0,
              "model_id": "1c7e9f7fcf2346b78222ca4cf05dfae5"
            }
          },
          "metadata": {}
        }
      ],
      "source": [
        "from datasets import load_dataset\n",
        "dataset = load_dataset(\"imdb\")"
      ]
    },
    {
      "cell_type": "code",
      "execution_count": null,
      "metadata": {
        "colab": {
          "base_uri": "https://localhost:8080/"
        },
        "id": "Y7_WGgCB9C12",
        "outputId": "69b73c4b-b812-496f-8538-773e425300ec"
      },
      "outputs": [
        {
          "output_type": "execute_result",
          "data": {
            "text/plain": [
              "DatasetDict({\n",
              "    train: Dataset({\n",
              "        features: ['text', 'label'],\n",
              "        num_rows: 25000\n",
              "    })\n",
              "    test: Dataset({\n",
              "        features: ['text', 'label'],\n",
              "        num_rows: 25000\n",
              "    })\n",
              "    unsupervised: Dataset({\n",
              "        features: ['text', 'label'],\n",
              "        num_rows: 50000\n",
              "    })\n",
              "})"
            ]
          },
          "metadata": {},
          "execution_count": 6
        }
      ],
      "source": [
        "dataset"
      ]
    },
    {
      "cell_type": "markdown",
      "metadata": {
        "id": "6C8c1ilOWU2q"
      },
      "source": [
        "## Préparation de l'ensemble de données\n",
        "\n",
        "Nous ne prendrons qu'un petit échantillon de l'ensemble de données de test pour tester les performances."
      ]
    },
    {
      "cell_type": "code",
      "execution_count": null,
      "metadata": {
        "id": "Iz6ubwO-W40t"
      },
      "outputs": [],
      "source": [
        "import random\n",
        "random.seed(11)\n",
        "sample = random.sample(list(dataset[\"test\"]), 100)\n",
        "test_examples = [(example[\"text\"], example[\"label\"]) for example in sample]\n",
        "y_true = [label for _, label in test_examples]"
      ]
    },
    {
      "cell_type": "code",
      "source": [
        "review = test_examples[0][0]\n",
        "print(review)\n",
        "print(f\"Sentiment is: {'Positive' if y_true[0] == 1 else 'Negative'}\")"
      ],
      "metadata": {
        "colab": {
          "base_uri": "https://localhost:8080/"
        },
        "id": "emCMKnr68GAI",
        "outputId": "ed0e9b21-9721-4faf-d2aa-1af6e0e6ceb5"
      },
      "execution_count": null,
      "outputs": [
        {
          "output_type": "stream",
          "name": "stdout",
          "text": [
            "THE NEXT KARATE KID, in my opinion, is an excellent martial arts flick. I thought that Eric (Chris Conrad) and Julie (Hilary Swank) looked good in their prom attire. To me, Ned (Michael Cavalieri) was a real bully. This was because he got Julie in trouble with Principal Wilkes (Eugene Boles). If you ask me, Colonel Dugan (Michael Ironside) was a pure a******! This was because he was a very harsh man who wouldn't tolerate mistakes. My favorite parts were the prom and the showdown between Julie and the Alpha Elite. In conclusion, I highly recommend this smash hit to all of you who like martial-arts flicks or are fans of Hilary Swank.\n",
            "Sentiment is: Positive\n"
          ]
        }
      ]
    },
    {
      "cell_type": "markdown",
      "metadata": {
        "id": "oDlSyelXXDNf"
      },
      "source": [
        "Nous pouvons utiliser l'API pour demander au modèle de prédire si le sentiment est positif ou négatif.\n",
        "\n",
        " Voici un exemple de guide pour l'analyse de sentiment sur des critiques de films de la base de données IMDb :\n",
        "\n",
        "```\n",
        "Tâche : Analyse de sentiment sur les critiques de films IMDb\n",
        "\n",
        "Guide :\n",
        "\"Pouvez-vous analyser le sentiment de la critique de film IMDb suivante ?\n",
        "Critique : 'Ce film était absolument fantastique, le jeu d'acteur était superbe et l'histoire m'a captivé du début à la fin. Je le recommande vivement !'\n",
        "Sentiment : Positif\"\n",
        "\n",
        "Question : \"Quel est le sentiment de la critique IMDb ci-dessous ?\"\n",
        "Critique : \"L'intrigue était déroutante et le jeu d'acteur semblait forcé. Je ne le regarderais pas à nouveau.\"\n",
        "Sentiment :\n",
        "```\n",
        "\n",
        "Dans cet exemple, vous guidez le modèle pour analyser le sentiment d'une critique de film IMDb. Le guide fournit une critique positive comme exemple et demande au modèle de déterminer le sentiment d'une autre critique qui est plus négative.\n",
        "\n",
        "En soumettant ce guide à GPT-3 via l'API OpenAI, le modèle devrait générer une réponse prédisant le sentiment de la critique négative fournie, indiquant s'il s'agit d'un sentiment positif, négatif ou neutre.\n",
        "\n",
        "\n"
      ]
    },
    {
      "cell_type": "code",
      "execution_count": null,
      "metadata": {
        "colab": {
          "base_uri": "https://localhost:8080/"
        },
        "id": "cMswAWzPTX0K",
        "outputId": "fd154da4-98e3-4986-d2b1-e50a9e02a56f"
      },
      "outputs": [
        {
          "output_type": "execute_result",
          "data": {
            "text/plain": [
              "<OpenAIObject text_completion id=cmpl-58e4pQYWEClUaziNJm5PYBgpfhsrU at 0x7f638801e710> JSON: {\n",
              "  \"choices\": [\n",
              "    {\n",
              "      \"finish_reason\": \"length\",\n",
              "      \"index\": 0,\n",
              "      \"logprobs\": null,\n",
              "      \"text\": \" Positive\"\n",
              "    }\n",
              "  ],\n",
              "  \"created\": 1652742363,\n",
              "  \"id\": \"cmpl-58e4pQYWEClUaziNJm5PYBgpfhsrU\",\n",
              "  \"model\": \"text-ada-001\",\n",
              "  \"object\": \"text_completion\"\n",
              "}"
            ]
          },
          "metadata": {},
          "execution_count": 23
        }
      ],
      "source": [
        "def get_sentiment(engine, review):\n",
        "  review = review.replace('\\n', \"\")\n",
        "  response = openai.Completion.create(\n",
        "    engine=engine,\n",
        "    prompt=f\"Decide whether a review's sentiment is positive or negative.: \\n\\nReview: {review} \\nSentiment:\",\n",
        "    temperature=0,\n",
        "    max_tokens=1,\n",
        "    top_p=1,\n",
        "    frequency_penalty=0.5,\n",
        "    presence_penalty=0\n",
        "  )\n",
        "  return response\n",
        "get_sentiment(\"text-ada-001\", review)"
      ]
    },
    {
      "cell_type": "markdown",
      "source": [
        "\n",
        "\n",
        "La function `encode_and_filter_ilegal_labels` est utilisé pour restreindre ou filtrer les sorties possibles générées par GPT-3, en veillant à ce que seules des étiquettes ou catégories spécifiées soient autorisées en tant que réponses. Cela peut être utile lorsque vous souhaitez contrôler la gamme des sorties possibles et les limiter à un ensemble spécifique d'options.\n"
      ],
      "metadata": {
        "id": "BfExg2w2D04k"
      }
    },
    {
      "cell_type": "code",
      "execution_count": null,
      "metadata": {
        "id": "QU5hI0wDV8Il"
      },
      "outputs": [],
      "source": [
        "from tqdm import tqdm\n",
        "from sklearn.metrics import accuracy_score, f1_score, precision_score, recall_score\n",
        "import json\n",
        "\n",
        "def get_predictions(engine, dataset):\n",
        "  y_pred = []\n",
        "  for review, label in tqdm(dataset):\n",
        "    y_pred.append(get_sentiment(engine, review)[\"choices\"][0][\"text\"].strip())\n",
        "  return y_pred\n",
        "\n",
        "def encode_and_filter_ilegal_labels(y_pred, y_true):\n",
        "  y_pred_encoded = []\n",
        "  for pred in y_pred:\n",
        "    pred = pred.lower()\n",
        "    if pred == \"positive\":\n",
        "      y_pred_encoded.append(1)\n",
        "    elif pred == \"negative\":\n",
        "      y_pred_encoded.append(0)\n",
        "    else:\n",
        "      y_pred_encoded.append(-1)\n",
        "  y_pred_processed = []\n",
        "  y_true_processed = []\n",
        "  for pred, label in zip(y_pred_encoded, y_true):\n",
        "    if pred == -1:\n",
        "      continue\n",
        "    y_pred_processed.append(pred)\n",
        "    y_true_processed.append(label)\n",
        "  return y_pred_processed, y_true_processed\n",
        "\n",
        "def eval_performance(y_pred, y_true):\n",
        "  print(json.dumps({\n",
        "      \"accuracy\": accuracy_score(y_pred, y_true),\n",
        "      \"f1\": f1_score(y_pred, y_true),\n",
        "      \"precision\": precision_score(y_pred, y_true),\n",
        "      \"recall\": recall_score(y_pred, y_true)\n",
        "  }, indent=2))"
      ]
    },
    {
      "cell_type": "code",
      "execution_count": null,
      "metadata": {
        "colab": {
          "base_uri": "https://localhost:8080/"
        },
        "id": "x3MnOu0Kcis2",
        "outputId": "9e01a5a6-55dc-47db-f4a4-79986d33c908"
      },
      "outputs": [
        {
          "output_type": "stream",
          "name": "stderr",
          "text": [
            "100%|██████████| 100/100 [03:51<00:00,  2.32s/it]"
          ]
        },
        {
          "output_type": "stream",
          "name": "stdout",
          "text": [
            "{\n",
            "  \"accuracy\": 0.8586956521739131,\n",
            "  \"f1\": 0.8686868686868686,\n",
            "  \"precision\": 0.8958333333333334,\n",
            "  \"recall\": 0.8431372549019608\n",
            "}\n"
          ]
        },
        {
          "output_type": "stream",
          "name": "stderr",
          "text": [
            "\n"
          ]
        }
      ],
      "source": [
        "y_pred = get_predictions(\"text-ada-001\", test_examples)\n",
        "y_pred_processed, y_true_processed = encode_and_filter_ilegal_labels(y_pred, y_true)\n",
        "eval_performance(y_pred_processed, y_true_processed)\n"
      ]
    },
    {
      "cell_type": "markdown",
      "metadata": {
        "id": "HDITW_Ulepg6"
      },
      "source": [
        "Les performances de l'engine 'text-ada-001' utilisant la configuration Zero-shot sont donc plutôt bonnes. Vérifions maintenant si un modèle plus grand aura de meilleures performances."
      ]
    },
    {
      "cell_type": "code",
      "execution_count": null,
      "metadata": {
        "colab": {
          "base_uri": "https://localhost:8080/"
        },
        "id": "woIZ6OSrTwmy",
        "outputId": "b3ea344a-31c3-468b-bd56-dbb2229c132f"
      },
      "outputs": [
        {
          "output_type": "stream",
          "name": "stderr",
          "text": [
            "100%|██████████| 100/100 [01:39<00:00,  1.00it/s]"
          ]
        },
        {
          "output_type": "stream",
          "name": "stdout",
          "text": [
            "{\n",
            "  \"accuracy\": 0.9081632653061225,\n",
            "  \"f1\": 0.9052631578947369,\n",
            "  \"precision\": 0.8775510204081632,\n",
            "  \"recall\": 0.9347826086956522\n",
            "}\n"
          ]
        },
        {
          "output_type": "stream",
          "name": "stderr",
          "text": [
            "\n"
          ]
        }
      ],
      "source": [
        "y_pred = get_predictions(\"text-davinci-002\", test_examples)\n",
        "y_pred_processed, y_true_processed = encode_and_filter_ilegal_labels(y_pred, y_true)\n",
        "eval_performance(y_pred_processed, y_true_processed)\n"
      ]
    },
    {
      "cell_type": "markdown",
      "metadata": {
        "id": "8sDKa-o0yizq"
      },
      "source": [
        "Les résultats de la classification \"zero shot\" à l'aide de GPT3 sont assez impressionnants.Fournissons au modèle deux exemples, l'un positif et l'autre négatif, et procédons plutôt à une classification en deux temps."
      ]
    },
    {
      "cell_type": "code",
      "execution_count": null,
      "metadata": {
        "id": "lm68OKW5cfLW"
      },
      "outputs": [],
      "source": [
        "def get_sentiment_with_examples(engine, examples, review):\n",
        "  context_text = \"\"\n",
        "  for example_review, label in examples:\n",
        "    sentiment = \"Positive\" if label == 1 else \"Negative\"\n",
        "    context_text += f\"\\n Review: {example_review} => Sentiment: {sentiment}\"\n",
        "  prompt=f\"Decide whether a review's sentiment is positive or negative.: \\n{context_text}\\n Review: {review} => Sentiment:\"\n",
        "  review = review.replace('\\n', \"\")\n",
        "  response = openai.Completion.create(\n",
        "    engine=engine,\n",
        "    prompt=prompt,\n",
        "    temperature=0,\n",
        "    max_tokens=1,\n",
        "    top_p=1,\n",
        "    frequency_penalty=0.5,\n",
        "    presence_penalty=0\n",
        "  )\n",
        "  return response\n"
      ]
    },
    {
      "cell_type": "code",
      "execution_count": null,
      "metadata": {
        "id": "tbkBtwPUc5SM"
      },
      "outputs": [],
      "source": [
        "def get_predictions_with_context(engine, context, dataset):\n",
        "  y_pred = []\n",
        "  for review, label in tqdm(dataset):\n",
        "    y_pred.append(get_sentiment_with_examples(engine, context, review)[\"choices\"][0][\"text\"].strip())\n",
        "  return y_pred"
      ]
    },
    {
      "cell_type": "code",
      "execution_count": null,
      "metadata": {
        "id": "gw9m5dr_zFoc"
      },
      "outputs": [],
      "source": [
        "positive_examples = [(example[\"text\"], 1) for example in dataset[\"train\"] if example[\"label\"] == 1]\n",
        "negative_examples = [(example[\"text\"], 0) for example in dataset[\"train\"] if example[\"label\"] == 0]\n",
        "\n",
        "# Quelques exemples positifs de l'ensemble de données d'entraînement\n",
        "positive_sample = random.sample(positive_examples, 10)\n",
        "# Quelques exemples négatifs de l'ensemble de données d'entraînement\n",
        "negative_sample = random.sample(negative_examples, 10)\n"
      ]
    },
    {
      "cell_type": "code",
      "execution_count": null,
      "metadata": {
        "colab": {
          "base_uri": "https://localhost:8080/"
        },
        "id": "je8w1QFkzsvy",
        "outputId": "be3512c6-e5c3-4713-86d5-d19d039fd8a0"
      },
      "outputs": [
        {
          "output_type": "stream",
          "name": "stderr",
          "text": [
            "100%|██████████| 100/100 [00:31<00:00,  3.16it/s]"
          ]
        },
        {
          "output_type": "stream",
          "name": "stdout",
          "text": [
            "{\n",
            "  \"accuracy\": 0.91,\n",
            "  \"f1\": 0.9090909090909091,\n",
            "  \"precision\": 0.8823529411764706,\n",
            "  \"recall\": 0.9375\n",
            "}\n"
          ]
        },
        {
          "output_type": "stream",
          "name": "stderr",
          "text": [
            "\n"
          ]
        }
      ],
      "source": [
        "y_pred = get_predictions_with_context(\"text-davinci-002\", [positive_sample[0], negative_examples[0]], test_examples)\n",
        "y_pred_processed, y_true_processed = encode_and_filter_ilegal_labels(y_pred, y_true)\n",
        "eval_performance(y_pred_processed, y_true_processed)\n"
      ]
    },
    {
      "cell_type": "markdown",
      "metadata": {
        "id": "EhYVX5lngOR2"
      },
      "source": [
        "Testons maintenant si plus de contexte peut améliorer la performance, nous ferons une classification à 6 coups."
      ]
    },
    {
      "cell_type": "code",
      "execution_count": null,
      "metadata": {
        "colab": {
          "base_uri": "https://localhost:8080/"
        },
        "id": "Bz6Vlh6Gd4cj",
        "outputId": "8aaf5b0f-47ac-48c6-fa9c-919f0c563c9f"
      },
      "outputs": [
        {
          "output_type": "stream",
          "name": "stderr",
          "text": [
            "100%|██████████| 100/100 [00:30<00:00,  3.28it/s]"
          ]
        },
        {
          "output_type": "stream",
          "name": "stdout",
          "text": [
            "{\n",
            "  \"accuracy\": 0.92,\n",
            "  \"f1\": 0.92,\n",
            "  \"precision\": 0.9019607843137255,\n",
            "  \"recall\": 0.9387755102040817\n",
            "}\n"
          ]
        },
        {
          "output_type": "stream",
          "name": "stderr",
          "text": [
            "\n"
          ]
        }
      ],
      "source": [
        "random.shuffle(positive_sample)\n",
        "random.shuffle(negative_sample)\n",
        "context = positive_sample[:3] + negative_sample[:3]\n",
        "random.shuffle(context)\n",
        "y_pred = get_predictions_with_context(\"text-davinci-002\", context, test_examples)\n",
        "y_pred_processed, y_true_processed = encode_and_filter_ilegal_labels(y_pred, y_true)\n",
        "eval_performance(y_pred_processed, y_true_processed)\n"
      ]
    }
  ],
  "metadata": {
    "colab": {
      "provenance": []
    },
    "kernelspec": {
      "display_name": "Python 3",
      "name": "python3"
    },
    "language_info": {
      "name": "python"
    },
    "widgets": {
      "application/vnd.jupyter.widget-state+json": {
        "8755147df0ad4de7a2d0a396e6fcdddb": {
          "model_module": "@jupyter-widgets/controls",
          "model_name": "HBoxModel",
          "model_module_version": "1.5.0",
          "state": {
            "_dom_classes": [],
            "_model_module": "@jupyter-widgets/controls",
            "_model_module_version": "1.5.0",
            "_model_name": "HBoxModel",
            "_view_count": null,
            "_view_module": "@jupyter-widgets/controls",
            "_view_module_version": "1.5.0",
            "_view_name": "HBoxView",
            "box_style": "",
            "children": [
              "IPY_MODEL_275ba67e5c1a4635a7d8345efbc51610",
              "IPY_MODEL_d090b0c455b440c58fba4aff3ca52e73",
              "IPY_MODEL_eff81cc43e6d4e86b1565f67f1a1079a"
            ],
            "layout": "IPY_MODEL_292c5415ab6d428483ad8d1902a0ea7d"
          }
        },
        "275ba67e5c1a4635a7d8345efbc51610": {
          "model_module": "@jupyter-widgets/controls",
          "model_name": "HTMLModel",
          "model_module_version": "1.5.0",
          "state": {
            "_dom_classes": [],
            "_model_module": "@jupyter-widgets/controls",
            "_model_module_version": "1.5.0",
            "_model_name": "HTMLModel",
            "_view_count": null,
            "_view_module": "@jupyter-widgets/controls",
            "_view_module_version": "1.5.0",
            "_view_name": "HTMLView",
            "description": "",
            "description_tooltip": null,
            "layout": "IPY_MODEL_67450aafbc64451b98dadab153d3579f",
            "placeholder": "​",
            "style": "IPY_MODEL_f79240a6cebe492db39a792702b90da9",
            "value": "Downloading builder script: "
          }
        },
        "d090b0c455b440c58fba4aff3ca52e73": {
          "model_module": "@jupyter-widgets/controls",
          "model_name": "FloatProgressModel",
          "model_module_version": "1.5.0",
          "state": {
            "_dom_classes": [],
            "_model_module": "@jupyter-widgets/controls",
            "_model_module_version": "1.5.0",
            "_model_name": "FloatProgressModel",
            "_view_count": null,
            "_view_module": "@jupyter-widgets/controls",
            "_view_module_version": "1.5.0",
            "_view_name": "ProgressView",
            "bar_style": "success",
            "description": "",
            "description_tooltip": null,
            "layout": "IPY_MODEL_7e1f6cf2644c45a69d026c177f3d346e",
            "max": 1789,
            "min": 0,
            "orientation": "horizontal",
            "style": "IPY_MODEL_48f3c68d7fd445e087cc941fcd3bd47b",
            "value": 1789
          }
        },
        "eff81cc43e6d4e86b1565f67f1a1079a": {
          "model_module": "@jupyter-widgets/controls",
          "model_name": "HTMLModel",
          "model_module_version": "1.5.0",
          "state": {
            "_dom_classes": [],
            "_model_module": "@jupyter-widgets/controls",
            "_model_module_version": "1.5.0",
            "_model_name": "HTMLModel",
            "_view_count": null,
            "_view_module": "@jupyter-widgets/controls",
            "_view_module_version": "1.5.0",
            "_view_name": "HTMLView",
            "description": "",
            "description_tooltip": null,
            "layout": "IPY_MODEL_cfddbf1eb239440bb19cef41f5b53109",
            "placeholder": "​",
            "style": "IPY_MODEL_94cc5920c38b4424a7603e69f717d6c9",
            "value": " 4.31k/? [00:00&lt;00:00, 11.0kB/s]"
          }
        },
        "292c5415ab6d428483ad8d1902a0ea7d": {
          "model_module": "@jupyter-widgets/base",
          "model_name": "LayoutModel",
          "model_module_version": "1.2.0",
          "state": {
            "_model_module": "@jupyter-widgets/base",
            "_model_module_version": "1.2.0",
            "_model_name": "LayoutModel",
            "_view_count": null,
            "_view_module": "@jupyter-widgets/base",
            "_view_module_version": "1.2.0",
            "_view_name": "LayoutView",
            "align_content": null,
            "align_items": null,
            "align_self": null,
            "border": null,
            "bottom": null,
            "display": null,
            "flex": null,
            "flex_flow": null,
            "grid_area": null,
            "grid_auto_columns": null,
            "grid_auto_flow": null,
            "grid_auto_rows": null,
            "grid_column": null,
            "grid_gap": null,
            "grid_row": null,
            "grid_template_areas": null,
            "grid_template_columns": null,
            "grid_template_rows": null,
            "height": null,
            "justify_content": null,
            "justify_items": null,
            "left": null,
            "margin": null,
            "max_height": null,
            "max_width": null,
            "min_height": null,
            "min_width": null,
            "object_fit": null,
            "object_position": null,
            "order": null,
            "overflow": null,
            "overflow_x": null,
            "overflow_y": null,
            "padding": null,
            "right": null,
            "top": null,
            "visibility": null,
            "width": null
          }
        },
        "67450aafbc64451b98dadab153d3579f": {
          "model_module": "@jupyter-widgets/base",
          "model_name": "LayoutModel",
          "model_module_version": "1.2.0",
          "state": {
            "_model_module": "@jupyter-widgets/base",
            "_model_module_version": "1.2.0",
            "_model_name": "LayoutModel",
            "_view_count": null,
            "_view_module": "@jupyter-widgets/base",
            "_view_module_version": "1.2.0",
            "_view_name": "LayoutView",
            "align_content": null,
            "align_items": null,
            "align_self": null,
            "border": null,
            "bottom": null,
            "display": null,
            "flex": null,
            "flex_flow": null,
            "grid_area": null,
            "grid_auto_columns": null,
            "grid_auto_flow": null,
            "grid_auto_rows": null,
            "grid_column": null,
            "grid_gap": null,
            "grid_row": null,
            "grid_template_areas": null,
            "grid_template_columns": null,
            "grid_template_rows": null,
            "height": null,
            "justify_content": null,
            "justify_items": null,
            "left": null,
            "margin": null,
            "max_height": null,
            "max_width": null,
            "min_height": null,
            "min_width": null,
            "object_fit": null,
            "object_position": null,
            "order": null,
            "overflow": null,
            "overflow_x": null,
            "overflow_y": null,
            "padding": null,
            "right": null,
            "top": null,
            "visibility": null,
            "width": null
          }
        },
        "f79240a6cebe492db39a792702b90da9": {
          "model_module": "@jupyter-widgets/controls",
          "model_name": "DescriptionStyleModel",
          "model_module_version": "1.5.0",
          "state": {
            "_model_module": "@jupyter-widgets/controls",
            "_model_module_version": "1.5.0",
            "_model_name": "DescriptionStyleModel",
            "_view_count": null,
            "_view_module": "@jupyter-widgets/base",
            "_view_module_version": "1.2.0",
            "_view_name": "StyleView",
            "description_width": ""
          }
        },
        "7e1f6cf2644c45a69d026c177f3d346e": {
          "model_module": "@jupyter-widgets/base",
          "model_name": "LayoutModel",
          "model_module_version": "1.2.0",
          "state": {
            "_model_module": "@jupyter-widgets/base",
            "_model_module_version": "1.2.0",
            "_model_name": "LayoutModel",
            "_view_count": null,
            "_view_module": "@jupyter-widgets/base",
            "_view_module_version": "1.2.0",
            "_view_name": "LayoutView",
            "align_content": null,
            "align_items": null,
            "align_self": null,
            "border": null,
            "bottom": null,
            "display": null,
            "flex": null,
            "flex_flow": null,
            "grid_area": null,
            "grid_auto_columns": null,
            "grid_auto_flow": null,
            "grid_auto_rows": null,
            "grid_column": null,
            "grid_gap": null,
            "grid_row": null,
            "grid_template_areas": null,
            "grid_template_columns": null,
            "grid_template_rows": null,
            "height": null,
            "justify_content": null,
            "justify_items": null,
            "left": null,
            "margin": null,
            "max_height": null,
            "max_width": null,
            "min_height": null,
            "min_width": null,
            "object_fit": null,
            "object_position": null,
            "order": null,
            "overflow": null,
            "overflow_x": null,
            "overflow_y": null,
            "padding": null,
            "right": null,
            "top": null,
            "visibility": null,
            "width": null
          }
        },
        "48f3c68d7fd445e087cc941fcd3bd47b": {
          "model_module": "@jupyter-widgets/controls",
          "model_name": "ProgressStyleModel",
          "model_module_version": "1.5.0",
          "state": {
            "_model_module": "@jupyter-widgets/controls",
            "_model_module_version": "1.5.0",
            "_model_name": "ProgressStyleModel",
            "_view_count": null,
            "_view_module": "@jupyter-widgets/base",
            "_view_module_version": "1.2.0",
            "_view_name": "StyleView",
            "bar_color": null,
            "description_width": ""
          }
        },
        "cfddbf1eb239440bb19cef41f5b53109": {
          "model_module": "@jupyter-widgets/base",
          "model_name": "LayoutModel",
          "model_module_version": "1.2.0",
          "state": {
            "_model_module": "@jupyter-widgets/base",
            "_model_module_version": "1.2.0",
            "_model_name": "LayoutModel",
            "_view_count": null,
            "_view_module": "@jupyter-widgets/base",
            "_view_module_version": "1.2.0",
            "_view_name": "LayoutView",
            "align_content": null,
            "align_items": null,
            "align_self": null,
            "border": null,
            "bottom": null,
            "display": null,
            "flex": null,
            "flex_flow": null,
            "grid_area": null,
            "grid_auto_columns": null,
            "grid_auto_flow": null,
            "grid_auto_rows": null,
            "grid_column": null,
            "grid_gap": null,
            "grid_row": null,
            "grid_template_areas": null,
            "grid_template_columns": null,
            "grid_template_rows": null,
            "height": null,
            "justify_content": null,
            "justify_items": null,
            "left": null,
            "margin": null,
            "max_height": null,
            "max_width": null,
            "min_height": null,
            "min_width": null,
            "object_fit": null,
            "object_position": null,
            "order": null,
            "overflow": null,
            "overflow_x": null,
            "overflow_y": null,
            "padding": null,
            "right": null,
            "top": null,
            "visibility": null,
            "width": null
          }
        },
        "94cc5920c38b4424a7603e69f717d6c9": {
          "model_module": "@jupyter-widgets/controls",
          "model_name": "DescriptionStyleModel",
          "model_module_version": "1.5.0",
          "state": {
            "_model_module": "@jupyter-widgets/controls",
            "_model_module_version": "1.5.0",
            "_model_name": "DescriptionStyleModel",
            "_view_count": null,
            "_view_module": "@jupyter-widgets/base",
            "_view_module_version": "1.2.0",
            "_view_name": "StyleView",
            "description_width": ""
          }
        },
        "22719761a14a4db6a80b489c959d1a96": {
          "model_module": "@jupyter-widgets/controls",
          "model_name": "HBoxModel",
          "model_module_version": "1.5.0",
          "state": {
            "_dom_classes": [],
            "_model_module": "@jupyter-widgets/controls",
            "_model_module_version": "1.5.0",
            "_model_name": "HBoxModel",
            "_view_count": null,
            "_view_module": "@jupyter-widgets/controls",
            "_view_module_version": "1.5.0",
            "_view_name": "HBoxView",
            "box_style": "",
            "children": [
              "IPY_MODEL_270f9344165e4d5d95894c8c4e829465",
              "IPY_MODEL_a4cd9d8d10fb4e4e85efa58fdf459437",
              "IPY_MODEL_da6ad8e8e4a341febb7112fb15f22ea7"
            ],
            "layout": "IPY_MODEL_9506422265944498bb863050edf83e55"
          }
        },
        "270f9344165e4d5d95894c8c4e829465": {
          "model_module": "@jupyter-widgets/controls",
          "model_name": "HTMLModel",
          "model_module_version": "1.5.0",
          "state": {
            "_dom_classes": [],
            "_model_module": "@jupyter-widgets/controls",
            "_model_module_version": "1.5.0",
            "_model_name": "HTMLModel",
            "_view_count": null,
            "_view_module": "@jupyter-widgets/controls",
            "_view_module_version": "1.5.0",
            "_view_name": "HTMLView",
            "description": "",
            "description_tooltip": null,
            "layout": "IPY_MODEL_fdc59d693ab14990a01cc4cb809433e2",
            "placeholder": "​",
            "style": "IPY_MODEL_43cfee4e38b14f6eadba4cf98dfc64a1",
            "value": "Downloading metadata: "
          }
        },
        "a4cd9d8d10fb4e4e85efa58fdf459437": {
          "model_module": "@jupyter-widgets/controls",
          "model_name": "FloatProgressModel",
          "model_module_version": "1.5.0",
          "state": {
            "_dom_classes": [],
            "_model_module": "@jupyter-widgets/controls",
            "_model_module_version": "1.5.0",
            "_model_name": "FloatProgressModel",
            "_view_count": null,
            "_view_module": "@jupyter-widgets/controls",
            "_view_module_version": "1.5.0",
            "_view_name": "ProgressView",
            "bar_style": "success",
            "description": "",
            "description_tooltip": null,
            "layout": "IPY_MODEL_c55cd418971b4316ba7d5c27ade57238",
            "max": 1054,
            "min": 0,
            "orientation": "horizontal",
            "style": "IPY_MODEL_507a087469af428d822ddd8039c6ced9",
            "value": 1054
          }
        },
        "da6ad8e8e4a341febb7112fb15f22ea7": {
          "model_module": "@jupyter-widgets/controls",
          "model_name": "HTMLModel",
          "model_module_version": "1.5.0",
          "state": {
            "_dom_classes": [],
            "_model_module": "@jupyter-widgets/controls",
            "_model_module_version": "1.5.0",
            "_model_name": "HTMLModel",
            "_view_count": null,
            "_view_module": "@jupyter-widgets/controls",
            "_view_module_version": "1.5.0",
            "_view_name": "HTMLView",
            "description": "",
            "description_tooltip": null,
            "layout": "IPY_MODEL_e4a74ae58a45435cb5314ac268627603",
            "placeholder": "​",
            "style": "IPY_MODEL_c14ddc28dc10406e851e08ffdab3f346",
            "value": " 2.17k/? [00:00&lt;00:00, 23.4kB/s]"
          }
        },
        "9506422265944498bb863050edf83e55": {
          "model_module": "@jupyter-widgets/base",
          "model_name": "LayoutModel",
          "model_module_version": "1.2.0",
          "state": {
            "_model_module": "@jupyter-widgets/base",
            "_model_module_version": "1.2.0",
            "_model_name": "LayoutModel",
            "_view_count": null,
            "_view_module": "@jupyter-widgets/base",
            "_view_module_version": "1.2.0",
            "_view_name": "LayoutView",
            "align_content": null,
            "align_items": null,
            "align_self": null,
            "border": null,
            "bottom": null,
            "display": null,
            "flex": null,
            "flex_flow": null,
            "grid_area": null,
            "grid_auto_columns": null,
            "grid_auto_flow": null,
            "grid_auto_rows": null,
            "grid_column": null,
            "grid_gap": null,
            "grid_row": null,
            "grid_template_areas": null,
            "grid_template_columns": null,
            "grid_template_rows": null,
            "height": null,
            "justify_content": null,
            "justify_items": null,
            "left": null,
            "margin": null,
            "max_height": null,
            "max_width": null,
            "min_height": null,
            "min_width": null,
            "object_fit": null,
            "object_position": null,
            "order": null,
            "overflow": null,
            "overflow_x": null,
            "overflow_y": null,
            "padding": null,
            "right": null,
            "top": null,
            "visibility": null,
            "width": null
          }
        },
        "fdc59d693ab14990a01cc4cb809433e2": {
          "model_module": "@jupyter-widgets/base",
          "model_name": "LayoutModel",
          "model_module_version": "1.2.0",
          "state": {
            "_model_module": "@jupyter-widgets/base",
            "_model_module_version": "1.2.0",
            "_model_name": "LayoutModel",
            "_view_count": null,
            "_view_module": "@jupyter-widgets/base",
            "_view_module_version": "1.2.0",
            "_view_name": "LayoutView",
            "align_content": null,
            "align_items": null,
            "align_self": null,
            "border": null,
            "bottom": null,
            "display": null,
            "flex": null,
            "flex_flow": null,
            "grid_area": null,
            "grid_auto_columns": null,
            "grid_auto_flow": null,
            "grid_auto_rows": null,
            "grid_column": null,
            "grid_gap": null,
            "grid_row": null,
            "grid_template_areas": null,
            "grid_template_columns": null,
            "grid_template_rows": null,
            "height": null,
            "justify_content": null,
            "justify_items": null,
            "left": null,
            "margin": null,
            "max_height": null,
            "max_width": null,
            "min_height": null,
            "min_width": null,
            "object_fit": null,
            "object_position": null,
            "order": null,
            "overflow": null,
            "overflow_x": null,
            "overflow_y": null,
            "padding": null,
            "right": null,
            "top": null,
            "visibility": null,
            "width": null
          }
        },
        "43cfee4e38b14f6eadba4cf98dfc64a1": {
          "model_module": "@jupyter-widgets/controls",
          "model_name": "DescriptionStyleModel",
          "model_module_version": "1.5.0",
          "state": {
            "_model_module": "@jupyter-widgets/controls",
            "_model_module_version": "1.5.0",
            "_model_name": "DescriptionStyleModel",
            "_view_count": null,
            "_view_module": "@jupyter-widgets/base",
            "_view_module_version": "1.2.0",
            "_view_name": "StyleView",
            "description_width": ""
          }
        },
        "c55cd418971b4316ba7d5c27ade57238": {
          "model_module": "@jupyter-widgets/base",
          "model_name": "LayoutModel",
          "model_module_version": "1.2.0",
          "state": {
            "_model_module": "@jupyter-widgets/base",
            "_model_module_version": "1.2.0",
            "_model_name": "LayoutModel",
            "_view_count": null,
            "_view_module": "@jupyter-widgets/base",
            "_view_module_version": "1.2.0",
            "_view_name": "LayoutView",
            "align_content": null,
            "align_items": null,
            "align_self": null,
            "border": null,
            "bottom": null,
            "display": null,
            "flex": null,
            "flex_flow": null,
            "grid_area": null,
            "grid_auto_columns": null,
            "grid_auto_flow": null,
            "grid_auto_rows": null,
            "grid_column": null,
            "grid_gap": null,
            "grid_row": null,
            "grid_template_areas": null,
            "grid_template_columns": null,
            "grid_template_rows": null,
            "height": null,
            "justify_content": null,
            "justify_items": null,
            "left": null,
            "margin": null,
            "max_height": null,
            "max_width": null,
            "min_height": null,
            "min_width": null,
            "object_fit": null,
            "object_position": null,
            "order": null,
            "overflow": null,
            "overflow_x": null,
            "overflow_y": null,
            "padding": null,
            "right": null,
            "top": null,
            "visibility": null,
            "width": null
          }
        },
        "507a087469af428d822ddd8039c6ced9": {
          "model_module": "@jupyter-widgets/controls",
          "model_name": "ProgressStyleModel",
          "model_module_version": "1.5.0",
          "state": {
            "_model_module": "@jupyter-widgets/controls",
            "_model_module_version": "1.5.0",
            "_model_name": "ProgressStyleModel",
            "_view_count": null,
            "_view_module": "@jupyter-widgets/base",
            "_view_module_version": "1.2.0",
            "_view_name": "StyleView",
            "bar_color": null,
            "description_width": ""
          }
        },
        "e4a74ae58a45435cb5314ac268627603": {
          "model_module": "@jupyter-widgets/base",
          "model_name": "LayoutModel",
          "model_module_version": "1.2.0",
          "state": {
            "_model_module": "@jupyter-widgets/base",
            "_model_module_version": "1.2.0",
            "_model_name": "LayoutModel",
            "_view_count": null,
            "_view_module": "@jupyter-widgets/base",
            "_view_module_version": "1.2.0",
            "_view_name": "LayoutView",
            "align_content": null,
            "align_items": null,
            "align_self": null,
            "border": null,
            "bottom": null,
            "display": null,
            "flex": null,
            "flex_flow": null,
            "grid_area": null,
            "grid_auto_columns": null,
            "grid_auto_flow": null,
            "grid_auto_rows": null,
            "grid_column": null,
            "grid_gap": null,
            "grid_row": null,
            "grid_template_areas": null,
            "grid_template_columns": null,
            "grid_template_rows": null,
            "height": null,
            "justify_content": null,
            "justify_items": null,
            "left": null,
            "margin": null,
            "max_height": null,
            "max_width": null,
            "min_height": null,
            "min_width": null,
            "object_fit": null,
            "object_position": null,
            "order": null,
            "overflow": null,
            "overflow_x": null,
            "overflow_y": null,
            "padding": null,
            "right": null,
            "top": null,
            "visibility": null,
            "width": null
          }
        },
        "c14ddc28dc10406e851e08ffdab3f346": {
          "model_module": "@jupyter-widgets/controls",
          "model_name": "DescriptionStyleModel",
          "model_module_version": "1.5.0",
          "state": {
            "_model_module": "@jupyter-widgets/controls",
            "_model_module_version": "1.5.0",
            "_model_name": "DescriptionStyleModel",
            "_view_count": null,
            "_view_module": "@jupyter-widgets/base",
            "_view_module_version": "1.2.0",
            "_view_name": "StyleView",
            "description_width": ""
          }
        },
        "dd350f34de334fd1925df34c1a232b35": {
          "model_module": "@jupyter-widgets/controls",
          "model_name": "HBoxModel",
          "model_module_version": "1.5.0",
          "state": {
            "_dom_classes": [],
            "_model_module": "@jupyter-widgets/controls",
            "_model_module_version": "1.5.0",
            "_model_name": "HBoxModel",
            "_view_count": null,
            "_view_module": "@jupyter-widgets/controls",
            "_view_module_version": "1.5.0",
            "_view_name": "HBoxView",
            "box_style": "",
            "children": [
              "IPY_MODEL_b4644d4f27024553b2692498d5020bf8",
              "IPY_MODEL_9c9904156ad44a7d8a8e8bb7644263cf",
              "IPY_MODEL_644774099ee34a3787bb27a4ffa9180d"
            ],
            "layout": "IPY_MODEL_71fb9641b68049d7a9361655c3485a2b"
          }
        },
        "b4644d4f27024553b2692498d5020bf8": {
          "model_module": "@jupyter-widgets/controls",
          "model_name": "HTMLModel",
          "model_module_version": "1.5.0",
          "state": {
            "_dom_classes": [],
            "_model_module": "@jupyter-widgets/controls",
            "_model_module_version": "1.5.0",
            "_model_name": "HTMLModel",
            "_view_count": null,
            "_view_module": "@jupyter-widgets/controls",
            "_view_module_version": "1.5.0",
            "_view_name": "HTMLView",
            "description": "",
            "description_tooltip": null,
            "layout": "IPY_MODEL_44a9843d559f44ce8b46930b7efb421f",
            "placeholder": "​",
            "style": "IPY_MODEL_b61916b3ef56402da489881514d73248",
            "value": "Downloading data: 100%"
          }
        },
        "9c9904156ad44a7d8a8e8bb7644263cf": {
          "model_module": "@jupyter-widgets/controls",
          "model_name": "FloatProgressModel",
          "model_module_version": "1.5.0",
          "state": {
            "_dom_classes": [],
            "_model_module": "@jupyter-widgets/controls",
            "_model_module_version": "1.5.0",
            "_model_name": "FloatProgressModel",
            "_view_count": null,
            "_view_module": "@jupyter-widgets/controls",
            "_view_module_version": "1.5.0",
            "_view_name": "ProgressView",
            "bar_style": "success",
            "description": "",
            "description_tooltip": null,
            "layout": "IPY_MODEL_a328443ed4864a95beba13c05a3d4400",
            "max": 84125825,
            "min": 0,
            "orientation": "horizontal",
            "style": "IPY_MODEL_08db32bcc4424cb98c074edb5c4d0e82",
            "value": 84125825
          }
        },
        "644774099ee34a3787bb27a4ffa9180d": {
          "model_module": "@jupyter-widgets/controls",
          "model_name": "HTMLModel",
          "model_module_version": "1.5.0",
          "state": {
            "_dom_classes": [],
            "_model_module": "@jupyter-widgets/controls",
            "_model_module_version": "1.5.0",
            "_model_name": "HTMLModel",
            "_view_count": null,
            "_view_module": "@jupyter-widgets/controls",
            "_view_module_version": "1.5.0",
            "_view_name": "HTMLView",
            "description": "",
            "description_tooltip": null,
            "layout": "IPY_MODEL_a849f4d9904243a9b6709a25e0eea347",
            "placeholder": "​",
            "style": "IPY_MODEL_5c4c03d981dc4f00bf68b00b25fafe7f",
            "value": " 84.1M/84.1M [00:05&lt;00:00, 39.3MB/s]"
          }
        },
        "71fb9641b68049d7a9361655c3485a2b": {
          "model_module": "@jupyter-widgets/base",
          "model_name": "LayoutModel",
          "model_module_version": "1.2.0",
          "state": {
            "_model_module": "@jupyter-widgets/base",
            "_model_module_version": "1.2.0",
            "_model_name": "LayoutModel",
            "_view_count": null,
            "_view_module": "@jupyter-widgets/base",
            "_view_module_version": "1.2.0",
            "_view_name": "LayoutView",
            "align_content": null,
            "align_items": null,
            "align_self": null,
            "border": null,
            "bottom": null,
            "display": null,
            "flex": null,
            "flex_flow": null,
            "grid_area": null,
            "grid_auto_columns": null,
            "grid_auto_flow": null,
            "grid_auto_rows": null,
            "grid_column": null,
            "grid_gap": null,
            "grid_row": null,
            "grid_template_areas": null,
            "grid_template_columns": null,
            "grid_template_rows": null,
            "height": null,
            "justify_content": null,
            "justify_items": null,
            "left": null,
            "margin": null,
            "max_height": null,
            "max_width": null,
            "min_height": null,
            "min_width": null,
            "object_fit": null,
            "object_position": null,
            "order": null,
            "overflow": null,
            "overflow_x": null,
            "overflow_y": null,
            "padding": null,
            "right": null,
            "top": null,
            "visibility": null,
            "width": null
          }
        },
        "44a9843d559f44ce8b46930b7efb421f": {
          "model_module": "@jupyter-widgets/base",
          "model_name": "LayoutModel",
          "model_module_version": "1.2.0",
          "state": {
            "_model_module": "@jupyter-widgets/base",
            "_model_module_version": "1.2.0",
            "_model_name": "LayoutModel",
            "_view_count": null,
            "_view_module": "@jupyter-widgets/base",
            "_view_module_version": "1.2.0",
            "_view_name": "LayoutView",
            "align_content": null,
            "align_items": null,
            "align_self": null,
            "border": null,
            "bottom": null,
            "display": null,
            "flex": null,
            "flex_flow": null,
            "grid_area": null,
            "grid_auto_columns": null,
            "grid_auto_flow": null,
            "grid_auto_rows": null,
            "grid_column": null,
            "grid_gap": null,
            "grid_row": null,
            "grid_template_areas": null,
            "grid_template_columns": null,
            "grid_template_rows": null,
            "height": null,
            "justify_content": null,
            "justify_items": null,
            "left": null,
            "margin": null,
            "max_height": null,
            "max_width": null,
            "min_height": null,
            "min_width": null,
            "object_fit": null,
            "object_position": null,
            "order": null,
            "overflow": null,
            "overflow_x": null,
            "overflow_y": null,
            "padding": null,
            "right": null,
            "top": null,
            "visibility": null,
            "width": null
          }
        },
        "b61916b3ef56402da489881514d73248": {
          "model_module": "@jupyter-widgets/controls",
          "model_name": "DescriptionStyleModel",
          "model_module_version": "1.5.0",
          "state": {
            "_model_module": "@jupyter-widgets/controls",
            "_model_module_version": "1.5.0",
            "_model_name": "DescriptionStyleModel",
            "_view_count": null,
            "_view_module": "@jupyter-widgets/base",
            "_view_module_version": "1.2.0",
            "_view_name": "StyleView",
            "description_width": ""
          }
        },
        "a328443ed4864a95beba13c05a3d4400": {
          "model_module": "@jupyter-widgets/base",
          "model_name": "LayoutModel",
          "model_module_version": "1.2.0",
          "state": {
            "_model_module": "@jupyter-widgets/base",
            "_model_module_version": "1.2.0",
            "_model_name": "LayoutModel",
            "_view_count": null,
            "_view_module": "@jupyter-widgets/base",
            "_view_module_version": "1.2.0",
            "_view_name": "LayoutView",
            "align_content": null,
            "align_items": null,
            "align_self": null,
            "border": null,
            "bottom": null,
            "display": null,
            "flex": null,
            "flex_flow": null,
            "grid_area": null,
            "grid_auto_columns": null,
            "grid_auto_flow": null,
            "grid_auto_rows": null,
            "grid_column": null,
            "grid_gap": null,
            "grid_row": null,
            "grid_template_areas": null,
            "grid_template_columns": null,
            "grid_template_rows": null,
            "height": null,
            "justify_content": null,
            "justify_items": null,
            "left": null,
            "margin": null,
            "max_height": null,
            "max_width": null,
            "min_height": null,
            "min_width": null,
            "object_fit": null,
            "object_position": null,
            "order": null,
            "overflow": null,
            "overflow_x": null,
            "overflow_y": null,
            "padding": null,
            "right": null,
            "top": null,
            "visibility": null,
            "width": null
          }
        },
        "08db32bcc4424cb98c074edb5c4d0e82": {
          "model_module": "@jupyter-widgets/controls",
          "model_name": "ProgressStyleModel",
          "model_module_version": "1.5.0",
          "state": {
            "_model_module": "@jupyter-widgets/controls",
            "_model_module_version": "1.5.0",
            "_model_name": "ProgressStyleModel",
            "_view_count": null,
            "_view_module": "@jupyter-widgets/base",
            "_view_module_version": "1.2.0",
            "_view_name": "StyleView",
            "bar_color": null,
            "description_width": ""
          }
        },
        "a849f4d9904243a9b6709a25e0eea347": {
          "model_module": "@jupyter-widgets/base",
          "model_name": "LayoutModel",
          "model_module_version": "1.2.0",
          "state": {
            "_model_module": "@jupyter-widgets/base",
            "_model_module_version": "1.2.0",
            "_model_name": "LayoutModel",
            "_view_count": null,
            "_view_module": "@jupyter-widgets/base",
            "_view_module_version": "1.2.0",
            "_view_name": "LayoutView",
            "align_content": null,
            "align_items": null,
            "align_self": null,
            "border": null,
            "bottom": null,
            "display": null,
            "flex": null,
            "flex_flow": null,
            "grid_area": null,
            "grid_auto_columns": null,
            "grid_auto_flow": null,
            "grid_auto_rows": null,
            "grid_column": null,
            "grid_gap": null,
            "grid_row": null,
            "grid_template_areas": null,
            "grid_template_columns": null,
            "grid_template_rows": null,
            "height": null,
            "justify_content": null,
            "justify_items": null,
            "left": null,
            "margin": null,
            "max_height": null,
            "max_width": null,
            "min_height": null,
            "min_width": null,
            "object_fit": null,
            "object_position": null,
            "order": null,
            "overflow": null,
            "overflow_x": null,
            "overflow_y": null,
            "padding": null,
            "right": null,
            "top": null,
            "visibility": null,
            "width": null
          }
        },
        "5c4c03d981dc4f00bf68b00b25fafe7f": {
          "model_module": "@jupyter-widgets/controls",
          "model_name": "DescriptionStyleModel",
          "model_module_version": "1.5.0",
          "state": {
            "_model_module": "@jupyter-widgets/controls",
            "_model_module_version": "1.5.0",
            "_model_name": "DescriptionStyleModel",
            "_view_count": null,
            "_view_module": "@jupyter-widgets/base",
            "_view_module_version": "1.2.0",
            "_view_name": "StyleView",
            "description_width": ""
          }
        },
        "73e9c66ddfaf49048930f9e9337b4475": {
          "model_module": "@jupyter-widgets/controls",
          "model_name": "HBoxModel",
          "model_module_version": "1.5.0",
          "state": {
            "_dom_classes": [],
            "_model_module": "@jupyter-widgets/controls",
            "_model_module_version": "1.5.0",
            "_model_name": "HBoxModel",
            "_view_count": null,
            "_view_module": "@jupyter-widgets/controls",
            "_view_module_version": "1.5.0",
            "_view_name": "HBoxView",
            "box_style": "",
            "children": [
              "IPY_MODEL_97dc0ef84f8f482dadc63748612b4088",
              "IPY_MODEL_18c2438abd9e4424ac0e7feb10acf71a",
              "IPY_MODEL_224e581589904ea482525300f5807bd8"
            ],
            "layout": "IPY_MODEL_61563204b4f24cee84ce8d51409fdeec"
          }
        },
        "97dc0ef84f8f482dadc63748612b4088": {
          "model_module": "@jupyter-widgets/controls",
          "model_name": "HTMLModel",
          "model_module_version": "1.5.0",
          "state": {
            "_dom_classes": [],
            "_model_module": "@jupyter-widgets/controls",
            "_model_module_version": "1.5.0",
            "_model_name": "HTMLModel",
            "_view_count": null,
            "_view_module": "@jupyter-widgets/controls",
            "_view_module_version": "1.5.0",
            "_view_name": "HTMLView",
            "description": "",
            "description_tooltip": null,
            "layout": "IPY_MODEL_5d93e644097f4f27b236cf0c8be16746",
            "placeholder": "​",
            "style": "IPY_MODEL_bc44db8b1c7b4d1c887d216c43c68b10",
            "value": "Generating train split:  99%"
          }
        },
        "18c2438abd9e4424ac0e7feb10acf71a": {
          "model_module": "@jupyter-widgets/controls",
          "model_name": "FloatProgressModel",
          "model_module_version": "1.5.0",
          "state": {
            "_dom_classes": [],
            "_model_module": "@jupyter-widgets/controls",
            "_model_module_version": "1.5.0",
            "_model_name": "FloatProgressModel",
            "_view_count": null,
            "_view_module": "@jupyter-widgets/controls",
            "_view_module_version": "1.5.0",
            "_view_name": "ProgressView",
            "bar_style": "",
            "description": "",
            "description_tooltip": null,
            "layout": "IPY_MODEL_a96266b718624809aa2d4f49ebfeb1e8",
            "max": 25000,
            "min": 0,
            "orientation": "horizontal",
            "style": "IPY_MODEL_5aadb143e1ce4bca9558194b0917e7e4",
            "value": 25000
          }
        },
        "224e581589904ea482525300f5807bd8": {
          "model_module": "@jupyter-widgets/controls",
          "model_name": "HTMLModel",
          "model_module_version": "1.5.0",
          "state": {
            "_dom_classes": [],
            "_model_module": "@jupyter-widgets/controls",
            "_model_module_version": "1.5.0",
            "_model_name": "HTMLModel",
            "_view_count": null,
            "_view_module": "@jupyter-widgets/controls",
            "_view_module_version": "1.5.0",
            "_view_name": "HTMLView",
            "description": "",
            "description_tooltip": null,
            "layout": "IPY_MODEL_52ce690da4c74915b503a4cd106ece17",
            "placeholder": "​",
            "style": "IPY_MODEL_1c99ca07edf641f3af88332deaeafe55",
            "value": " 24773/25000 [00:06&lt;00:00, 6412.90 examples/s]"
          }
        },
        "61563204b4f24cee84ce8d51409fdeec": {
          "model_module": "@jupyter-widgets/base",
          "model_name": "LayoutModel",
          "model_module_version": "1.2.0",
          "state": {
            "_model_module": "@jupyter-widgets/base",
            "_model_module_version": "1.2.0",
            "_model_name": "LayoutModel",
            "_view_count": null,
            "_view_module": "@jupyter-widgets/base",
            "_view_module_version": "1.2.0",
            "_view_name": "LayoutView",
            "align_content": null,
            "align_items": null,
            "align_self": null,
            "border": null,
            "bottom": null,
            "display": null,
            "flex": null,
            "flex_flow": null,
            "grid_area": null,
            "grid_auto_columns": null,
            "grid_auto_flow": null,
            "grid_auto_rows": null,
            "grid_column": null,
            "grid_gap": null,
            "grid_row": null,
            "grid_template_areas": null,
            "grid_template_columns": null,
            "grid_template_rows": null,
            "height": null,
            "justify_content": null,
            "justify_items": null,
            "left": null,
            "margin": null,
            "max_height": null,
            "max_width": null,
            "min_height": null,
            "min_width": null,
            "object_fit": null,
            "object_position": null,
            "order": null,
            "overflow": null,
            "overflow_x": null,
            "overflow_y": null,
            "padding": null,
            "right": null,
            "top": null,
            "visibility": null,
            "width": null
          }
        },
        "5d93e644097f4f27b236cf0c8be16746": {
          "model_module": "@jupyter-widgets/base",
          "model_name": "LayoutModel",
          "model_module_version": "1.2.0",
          "state": {
            "_model_module": "@jupyter-widgets/base",
            "_model_module_version": "1.2.0",
            "_model_name": "LayoutModel",
            "_view_count": null,
            "_view_module": "@jupyter-widgets/base",
            "_view_module_version": "1.2.0",
            "_view_name": "LayoutView",
            "align_content": null,
            "align_items": null,
            "align_self": null,
            "border": null,
            "bottom": null,
            "display": null,
            "flex": null,
            "flex_flow": null,
            "grid_area": null,
            "grid_auto_columns": null,
            "grid_auto_flow": null,
            "grid_auto_rows": null,
            "grid_column": null,
            "grid_gap": null,
            "grid_row": null,
            "grid_template_areas": null,
            "grid_template_columns": null,
            "grid_template_rows": null,
            "height": null,
            "justify_content": null,
            "justify_items": null,
            "left": null,
            "margin": null,
            "max_height": null,
            "max_width": null,
            "min_height": null,
            "min_width": null,
            "object_fit": null,
            "object_position": null,
            "order": null,
            "overflow": null,
            "overflow_x": null,
            "overflow_y": null,
            "padding": null,
            "right": null,
            "top": null,
            "visibility": null,
            "width": null
          }
        },
        "bc44db8b1c7b4d1c887d216c43c68b10": {
          "model_module": "@jupyter-widgets/controls",
          "model_name": "DescriptionStyleModel",
          "model_module_version": "1.5.0",
          "state": {
            "_model_module": "@jupyter-widgets/controls",
            "_model_module_version": "1.5.0",
            "_model_name": "DescriptionStyleModel",
            "_view_count": null,
            "_view_module": "@jupyter-widgets/base",
            "_view_module_version": "1.2.0",
            "_view_name": "StyleView",
            "description_width": ""
          }
        },
        "a96266b718624809aa2d4f49ebfeb1e8": {
          "model_module": "@jupyter-widgets/base",
          "model_name": "LayoutModel",
          "model_module_version": "1.2.0",
          "state": {
            "_model_module": "@jupyter-widgets/base",
            "_model_module_version": "1.2.0",
            "_model_name": "LayoutModel",
            "_view_count": null,
            "_view_module": "@jupyter-widgets/base",
            "_view_module_version": "1.2.0",
            "_view_name": "LayoutView",
            "align_content": null,
            "align_items": null,
            "align_self": null,
            "border": null,
            "bottom": null,
            "display": null,
            "flex": null,
            "flex_flow": null,
            "grid_area": null,
            "grid_auto_columns": null,
            "grid_auto_flow": null,
            "grid_auto_rows": null,
            "grid_column": null,
            "grid_gap": null,
            "grid_row": null,
            "grid_template_areas": null,
            "grid_template_columns": null,
            "grid_template_rows": null,
            "height": null,
            "justify_content": null,
            "justify_items": null,
            "left": null,
            "margin": null,
            "max_height": null,
            "max_width": null,
            "min_height": null,
            "min_width": null,
            "object_fit": null,
            "object_position": null,
            "order": null,
            "overflow": null,
            "overflow_x": null,
            "overflow_y": null,
            "padding": null,
            "right": null,
            "top": null,
            "visibility": null,
            "width": null
          }
        },
        "5aadb143e1ce4bca9558194b0917e7e4": {
          "model_module": "@jupyter-widgets/controls",
          "model_name": "ProgressStyleModel",
          "model_module_version": "1.5.0",
          "state": {
            "_model_module": "@jupyter-widgets/controls",
            "_model_module_version": "1.5.0",
            "_model_name": "ProgressStyleModel",
            "_view_count": null,
            "_view_module": "@jupyter-widgets/base",
            "_view_module_version": "1.2.0",
            "_view_name": "StyleView",
            "bar_color": null,
            "description_width": ""
          }
        },
        "52ce690da4c74915b503a4cd106ece17": {
          "model_module": "@jupyter-widgets/base",
          "model_name": "LayoutModel",
          "model_module_version": "1.2.0",
          "state": {
            "_model_module": "@jupyter-widgets/base",
            "_model_module_version": "1.2.0",
            "_model_name": "LayoutModel",
            "_view_count": null,
            "_view_module": "@jupyter-widgets/base",
            "_view_module_version": "1.2.0",
            "_view_name": "LayoutView",
            "align_content": null,
            "align_items": null,
            "align_self": null,
            "border": null,
            "bottom": null,
            "display": null,
            "flex": null,
            "flex_flow": null,
            "grid_area": null,
            "grid_auto_columns": null,
            "grid_auto_flow": null,
            "grid_auto_rows": null,
            "grid_column": null,
            "grid_gap": null,
            "grid_row": null,
            "grid_template_areas": null,
            "grid_template_columns": null,
            "grid_template_rows": null,
            "height": null,
            "justify_content": null,
            "justify_items": null,
            "left": null,
            "margin": null,
            "max_height": null,
            "max_width": null,
            "min_height": null,
            "min_width": null,
            "object_fit": null,
            "object_position": null,
            "order": null,
            "overflow": null,
            "overflow_x": null,
            "overflow_y": null,
            "padding": null,
            "right": null,
            "top": null,
            "visibility": null,
            "width": null
          }
        },
        "1c99ca07edf641f3af88332deaeafe55": {
          "model_module": "@jupyter-widgets/controls",
          "model_name": "DescriptionStyleModel",
          "model_module_version": "1.5.0",
          "state": {
            "_model_module": "@jupyter-widgets/controls",
            "_model_module_version": "1.5.0",
            "_model_name": "DescriptionStyleModel",
            "_view_count": null,
            "_view_module": "@jupyter-widgets/base",
            "_view_module_version": "1.2.0",
            "_view_name": "StyleView",
            "description_width": ""
          }
        },
        "bc50ab33079a4c84a6f6f711e710c472": {
          "model_module": "@jupyter-widgets/controls",
          "model_name": "HBoxModel",
          "model_module_version": "1.5.0",
          "state": {
            "_dom_classes": [],
            "_model_module": "@jupyter-widgets/controls",
            "_model_module_version": "1.5.0",
            "_model_name": "HBoxModel",
            "_view_count": null,
            "_view_module": "@jupyter-widgets/controls",
            "_view_module_version": "1.5.0",
            "_view_name": "HBoxView",
            "box_style": "",
            "children": [
              "IPY_MODEL_c109cb47e2194f4e8e1729994d2e91c8",
              "IPY_MODEL_aca36a3ac45f4189b2a92dbd3c05eb45",
              "IPY_MODEL_578a11f093fc4c0f8c6603ef9b4b190c"
            ],
            "layout": "IPY_MODEL_f4a238a897904f0d9c77109e216981b8"
          }
        },
        "c109cb47e2194f4e8e1729994d2e91c8": {
          "model_module": "@jupyter-widgets/controls",
          "model_name": "HTMLModel",
          "model_module_version": "1.5.0",
          "state": {
            "_dom_classes": [],
            "_model_module": "@jupyter-widgets/controls",
            "_model_module_version": "1.5.0",
            "_model_name": "HTMLModel",
            "_view_count": null,
            "_view_module": "@jupyter-widgets/controls",
            "_view_module_version": "1.5.0",
            "_view_name": "HTMLView",
            "description": "",
            "description_tooltip": null,
            "layout": "IPY_MODEL_1556795d927c410b9f2590d3fe932b56",
            "placeholder": "​",
            "style": "IPY_MODEL_f3583b06ce534e7987b32d26aa1e4a62",
            "value": "Generating test split:  99%"
          }
        },
        "aca36a3ac45f4189b2a92dbd3c05eb45": {
          "model_module": "@jupyter-widgets/controls",
          "model_name": "FloatProgressModel",
          "model_module_version": "1.5.0",
          "state": {
            "_dom_classes": [],
            "_model_module": "@jupyter-widgets/controls",
            "_model_module_version": "1.5.0",
            "_model_name": "FloatProgressModel",
            "_view_count": null,
            "_view_module": "@jupyter-widgets/controls",
            "_view_module_version": "1.5.0",
            "_view_name": "ProgressView",
            "bar_style": "",
            "description": "",
            "description_tooltip": null,
            "layout": "IPY_MODEL_cc1db07abec64e82923f98e482c615eb",
            "max": 25000,
            "min": 0,
            "orientation": "horizontal",
            "style": "IPY_MODEL_0832c96579584ffcaee3166d5fd7e1f1",
            "value": 25000
          }
        },
        "578a11f093fc4c0f8c6603ef9b4b190c": {
          "model_module": "@jupyter-widgets/controls",
          "model_name": "HTMLModel",
          "model_module_version": "1.5.0",
          "state": {
            "_dom_classes": [],
            "_model_module": "@jupyter-widgets/controls",
            "_model_module_version": "1.5.0",
            "_model_name": "HTMLModel",
            "_view_count": null,
            "_view_module": "@jupyter-widgets/controls",
            "_view_module_version": "1.5.0",
            "_view_name": "HTMLView",
            "description": "",
            "description_tooltip": null,
            "layout": "IPY_MODEL_59a4dc46f998405d9e6acb5306c19fdf",
            "placeholder": "​",
            "style": "IPY_MODEL_7db16318145146f4bc3486ea487db8a4",
            "value": " 24833/25000 [00:04&lt;00:00, 6860.97 examples/s]"
          }
        },
        "f4a238a897904f0d9c77109e216981b8": {
          "model_module": "@jupyter-widgets/base",
          "model_name": "LayoutModel",
          "model_module_version": "1.2.0",
          "state": {
            "_model_module": "@jupyter-widgets/base",
            "_model_module_version": "1.2.0",
            "_model_name": "LayoutModel",
            "_view_count": null,
            "_view_module": "@jupyter-widgets/base",
            "_view_module_version": "1.2.0",
            "_view_name": "LayoutView",
            "align_content": null,
            "align_items": null,
            "align_self": null,
            "border": null,
            "bottom": null,
            "display": null,
            "flex": null,
            "flex_flow": null,
            "grid_area": null,
            "grid_auto_columns": null,
            "grid_auto_flow": null,
            "grid_auto_rows": null,
            "grid_column": null,
            "grid_gap": null,
            "grid_row": null,
            "grid_template_areas": null,
            "grid_template_columns": null,
            "grid_template_rows": null,
            "height": null,
            "justify_content": null,
            "justify_items": null,
            "left": null,
            "margin": null,
            "max_height": null,
            "max_width": null,
            "min_height": null,
            "min_width": null,
            "object_fit": null,
            "object_position": null,
            "order": null,
            "overflow": null,
            "overflow_x": null,
            "overflow_y": null,
            "padding": null,
            "right": null,
            "top": null,
            "visibility": null,
            "width": null
          }
        },
        "1556795d927c410b9f2590d3fe932b56": {
          "model_module": "@jupyter-widgets/base",
          "model_name": "LayoutModel",
          "model_module_version": "1.2.0",
          "state": {
            "_model_module": "@jupyter-widgets/base",
            "_model_module_version": "1.2.0",
            "_model_name": "LayoutModel",
            "_view_count": null,
            "_view_module": "@jupyter-widgets/base",
            "_view_module_version": "1.2.0",
            "_view_name": "LayoutView",
            "align_content": null,
            "align_items": null,
            "align_self": null,
            "border": null,
            "bottom": null,
            "display": null,
            "flex": null,
            "flex_flow": null,
            "grid_area": null,
            "grid_auto_columns": null,
            "grid_auto_flow": null,
            "grid_auto_rows": null,
            "grid_column": null,
            "grid_gap": null,
            "grid_row": null,
            "grid_template_areas": null,
            "grid_template_columns": null,
            "grid_template_rows": null,
            "height": null,
            "justify_content": null,
            "justify_items": null,
            "left": null,
            "margin": null,
            "max_height": null,
            "max_width": null,
            "min_height": null,
            "min_width": null,
            "object_fit": null,
            "object_position": null,
            "order": null,
            "overflow": null,
            "overflow_x": null,
            "overflow_y": null,
            "padding": null,
            "right": null,
            "top": null,
            "visibility": null,
            "width": null
          }
        },
        "f3583b06ce534e7987b32d26aa1e4a62": {
          "model_module": "@jupyter-widgets/controls",
          "model_name": "DescriptionStyleModel",
          "model_module_version": "1.5.0",
          "state": {
            "_model_module": "@jupyter-widgets/controls",
            "_model_module_version": "1.5.0",
            "_model_name": "DescriptionStyleModel",
            "_view_count": null,
            "_view_module": "@jupyter-widgets/base",
            "_view_module_version": "1.2.0",
            "_view_name": "StyleView",
            "description_width": ""
          }
        },
        "cc1db07abec64e82923f98e482c615eb": {
          "model_module": "@jupyter-widgets/base",
          "model_name": "LayoutModel",
          "model_module_version": "1.2.0",
          "state": {
            "_model_module": "@jupyter-widgets/base",
            "_model_module_version": "1.2.0",
            "_model_name": "LayoutModel",
            "_view_count": null,
            "_view_module": "@jupyter-widgets/base",
            "_view_module_version": "1.2.0",
            "_view_name": "LayoutView",
            "align_content": null,
            "align_items": null,
            "align_self": null,
            "border": null,
            "bottom": null,
            "display": null,
            "flex": null,
            "flex_flow": null,
            "grid_area": null,
            "grid_auto_columns": null,
            "grid_auto_flow": null,
            "grid_auto_rows": null,
            "grid_column": null,
            "grid_gap": null,
            "grid_row": null,
            "grid_template_areas": null,
            "grid_template_columns": null,
            "grid_template_rows": null,
            "height": null,
            "justify_content": null,
            "justify_items": null,
            "left": null,
            "margin": null,
            "max_height": null,
            "max_width": null,
            "min_height": null,
            "min_width": null,
            "object_fit": null,
            "object_position": null,
            "order": null,
            "overflow": null,
            "overflow_x": null,
            "overflow_y": null,
            "padding": null,
            "right": null,
            "top": null,
            "visibility": null,
            "width": null
          }
        },
        "0832c96579584ffcaee3166d5fd7e1f1": {
          "model_module": "@jupyter-widgets/controls",
          "model_name": "ProgressStyleModel",
          "model_module_version": "1.5.0",
          "state": {
            "_model_module": "@jupyter-widgets/controls",
            "_model_module_version": "1.5.0",
            "_model_name": "ProgressStyleModel",
            "_view_count": null,
            "_view_module": "@jupyter-widgets/base",
            "_view_module_version": "1.2.0",
            "_view_name": "StyleView",
            "bar_color": null,
            "description_width": ""
          }
        },
        "59a4dc46f998405d9e6acb5306c19fdf": {
          "model_module": "@jupyter-widgets/base",
          "model_name": "LayoutModel",
          "model_module_version": "1.2.0",
          "state": {
            "_model_module": "@jupyter-widgets/base",
            "_model_module_version": "1.2.0",
            "_model_name": "LayoutModel",
            "_view_count": null,
            "_view_module": "@jupyter-widgets/base",
            "_view_module_version": "1.2.0",
            "_view_name": "LayoutView",
            "align_content": null,
            "align_items": null,
            "align_self": null,
            "border": null,
            "bottom": null,
            "display": null,
            "flex": null,
            "flex_flow": null,
            "grid_area": null,
            "grid_auto_columns": null,
            "grid_auto_flow": null,
            "grid_auto_rows": null,
            "grid_column": null,
            "grid_gap": null,
            "grid_row": null,
            "grid_template_areas": null,
            "grid_template_columns": null,
            "grid_template_rows": null,
            "height": null,
            "justify_content": null,
            "justify_items": null,
            "left": null,
            "margin": null,
            "max_height": null,
            "max_width": null,
            "min_height": null,
            "min_width": null,
            "object_fit": null,
            "object_position": null,
            "order": null,
            "overflow": null,
            "overflow_x": null,
            "overflow_y": null,
            "padding": null,
            "right": null,
            "top": null,
            "visibility": null,
            "width": null
          }
        },
        "7db16318145146f4bc3486ea487db8a4": {
          "model_module": "@jupyter-widgets/controls",
          "model_name": "DescriptionStyleModel",
          "model_module_version": "1.5.0",
          "state": {
            "_model_module": "@jupyter-widgets/controls",
            "_model_module_version": "1.5.0",
            "_model_name": "DescriptionStyleModel",
            "_view_count": null,
            "_view_module": "@jupyter-widgets/base",
            "_view_module_version": "1.2.0",
            "_view_name": "StyleView",
            "description_width": ""
          }
        },
        "ac11fb16f1754ddf99711172ea2e7fe8": {
          "model_module": "@jupyter-widgets/controls",
          "model_name": "HBoxModel",
          "model_module_version": "1.5.0",
          "state": {
            "_dom_classes": [],
            "_model_module": "@jupyter-widgets/controls",
            "_model_module_version": "1.5.0",
            "_model_name": "HBoxModel",
            "_view_count": null,
            "_view_module": "@jupyter-widgets/controls",
            "_view_module_version": "1.5.0",
            "_view_name": "HBoxView",
            "box_style": "",
            "children": [
              "IPY_MODEL_ac71ba9224964d768b5976828d8bfdb0",
              "IPY_MODEL_7380cf0f03c145108ea0ef5fdd534699",
              "IPY_MODEL_df2ea23a56744f84922a3da9d7376631"
            ],
            "layout": "IPY_MODEL_f0d63af3c1aa4f27911d361dc6e4e12a"
          }
        },
        "ac71ba9224964d768b5976828d8bfdb0": {
          "model_module": "@jupyter-widgets/controls",
          "model_name": "HTMLModel",
          "model_module_version": "1.5.0",
          "state": {
            "_dom_classes": [],
            "_model_module": "@jupyter-widgets/controls",
            "_model_module_version": "1.5.0",
            "_model_name": "HTMLModel",
            "_view_count": null,
            "_view_module": "@jupyter-widgets/controls",
            "_view_module_version": "1.5.0",
            "_view_name": "HTMLView",
            "description": "",
            "description_tooltip": null,
            "layout": "IPY_MODEL_84fab1e2c7a14ffe815a50eff1b4be89",
            "placeholder": "​",
            "style": "IPY_MODEL_ccfa5d4afd664fcc80b57b91c80107b6",
            "value": "Generating unsupervised split: 100%"
          }
        },
        "7380cf0f03c145108ea0ef5fdd534699": {
          "model_module": "@jupyter-widgets/controls",
          "model_name": "FloatProgressModel",
          "model_module_version": "1.5.0",
          "state": {
            "_dom_classes": [],
            "_model_module": "@jupyter-widgets/controls",
            "_model_module_version": "1.5.0",
            "_model_name": "FloatProgressModel",
            "_view_count": null,
            "_view_module": "@jupyter-widgets/controls",
            "_view_module_version": "1.5.0",
            "_view_name": "ProgressView",
            "bar_style": "",
            "description": "",
            "description_tooltip": null,
            "layout": "IPY_MODEL_eb649af48e3040bb893f21a88dd40eb1",
            "max": 50000,
            "min": 0,
            "orientation": "horizontal",
            "style": "IPY_MODEL_2d240e5193394a48b1dd469a5b674042",
            "value": 50000
          }
        },
        "df2ea23a56744f84922a3da9d7376631": {
          "model_module": "@jupyter-widgets/controls",
          "model_name": "HTMLModel",
          "model_module_version": "1.5.0",
          "state": {
            "_dom_classes": [],
            "_model_module": "@jupyter-widgets/controls",
            "_model_module_version": "1.5.0",
            "_model_name": "HTMLModel",
            "_view_count": null,
            "_view_module": "@jupyter-widgets/controls",
            "_view_module_version": "1.5.0",
            "_view_name": "HTMLView",
            "description": "",
            "description_tooltip": null,
            "layout": "IPY_MODEL_460db6affeda488ebf44a15330dca730",
            "placeholder": "​",
            "style": "IPY_MODEL_3af891aa6041458795d00f58e632aab2",
            "value": " 49984/50000 [00:11&lt;00:00, 6790.96 examples/s]"
          }
        },
        "f0d63af3c1aa4f27911d361dc6e4e12a": {
          "model_module": "@jupyter-widgets/base",
          "model_name": "LayoutModel",
          "model_module_version": "1.2.0",
          "state": {
            "_model_module": "@jupyter-widgets/base",
            "_model_module_version": "1.2.0",
            "_model_name": "LayoutModel",
            "_view_count": null,
            "_view_module": "@jupyter-widgets/base",
            "_view_module_version": "1.2.0",
            "_view_name": "LayoutView",
            "align_content": null,
            "align_items": null,
            "align_self": null,
            "border": null,
            "bottom": null,
            "display": null,
            "flex": null,
            "flex_flow": null,
            "grid_area": null,
            "grid_auto_columns": null,
            "grid_auto_flow": null,
            "grid_auto_rows": null,
            "grid_column": null,
            "grid_gap": null,
            "grid_row": null,
            "grid_template_areas": null,
            "grid_template_columns": null,
            "grid_template_rows": null,
            "height": null,
            "justify_content": null,
            "justify_items": null,
            "left": null,
            "margin": null,
            "max_height": null,
            "max_width": null,
            "min_height": null,
            "min_width": null,
            "object_fit": null,
            "object_position": null,
            "order": null,
            "overflow": null,
            "overflow_x": null,
            "overflow_y": null,
            "padding": null,
            "right": null,
            "top": null,
            "visibility": null,
            "width": null
          }
        },
        "84fab1e2c7a14ffe815a50eff1b4be89": {
          "model_module": "@jupyter-widgets/base",
          "model_name": "LayoutModel",
          "model_module_version": "1.2.0",
          "state": {
            "_model_module": "@jupyter-widgets/base",
            "_model_module_version": "1.2.0",
            "_model_name": "LayoutModel",
            "_view_count": null,
            "_view_module": "@jupyter-widgets/base",
            "_view_module_version": "1.2.0",
            "_view_name": "LayoutView",
            "align_content": null,
            "align_items": null,
            "align_self": null,
            "border": null,
            "bottom": null,
            "display": null,
            "flex": null,
            "flex_flow": null,
            "grid_area": null,
            "grid_auto_columns": null,
            "grid_auto_flow": null,
            "grid_auto_rows": null,
            "grid_column": null,
            "grid_gap": null,
            "grid_row": null,
            "grid_template_areas": null,
            "grid_template_columns": null,
            "grid_template_rows": null,
            "height": null,
            "justify_content": null,
            "justify_items": null,
            "left": null,
            "margin": null,
            "max_height": null,
            "max_width": null,
            "min_height": null,
            "min_width": null,
            "object_fit": null,
            "object_position": null,
            "order": null,
            "overflow": null,
            "overflow_x": null,
            "overflow_y": null,
            "padding": null,
            "right": null,
            "top": null,
            "visibility": null,
            "width": null
          }
        },
        "ccfa5d4afd664fcc80b57b91c80107b6": {
          "model_module": "@jupyter-widgets/controls",
          "model_name": "DescriptionStyleModel",
          "model_module_version": "1.5.0",
          "state": {
            "_model_module": "@jupyter-widgets/controls",
            "_model_module_version": "1.5.0",
            "_model_name": "DescriptionStyleModel",
            "_view_count": null,
            "_view_module": "@jupyter-widgets/base",
            "_view_module_version": "1.2.0",
            "_view_name": "StyleView",
            "description_width": ""
          }
        },
        "eb649af48e3040bb893f21a88dd40eb1": {
          "model_module": "@jupyter-widgets/base",
          "model_name": "LayoutModel",
          "model_module_version": "1.2.0",
          "state": {
            "_model_module": "@jupyter-widgets/base",
            "_model_module_version": "1.2.0",
            "_model_name": "LayoutModel",
            "_view_count": null,
            "_view_module": "@jupyter-widgets/base",
            "_view_module_version": "1.2.0",
            "_view_name": "LayoutView",
            "align_content": null,
            "align_items": null,
            "align_self": null,
            "border": null,
            "bottom": null,
            "display": null,
            "flex": null,
            "flex_flow": null,
            "grid_area": null,
            "grid_auto_columns": null,
            "grid_auto_flow": null,
            "grid_auto_rows": null,
            "grid_column": null,
            "grid_gap": null,
            "grid_row": null,
            "grid_template_areas": null,
            "grid_template_columns": null,
            "grid_template_rows": null,
            "height": null,
            "justify_content": null,
            "justify_items": null,
            "left": null,
            "margin": null,
            "max_height": null,
            "max_width": null,
            "min_height": null,
            "min_width": null,
            "object_fit": null,
            "object_position": null,
            "order": null,
            "overflow": null,
            "overflow_x": null,
            "overflow_y": null,
            "padding": null,
            "right": null,
            "top": null,
            "visibility": null,
            "width": null
          }
        },
        "2d240e5193394a48b1dd469a5b674042": {
          "model_module": "@jupyter-widgets/controls",
          "model_name": "ProgressStyleModel",
          "model_module_version": "1.5.0",
          "state": {
            "_model_module": "@jupyter-widgets/controls",
            "_model_module_version": "1.5.0",
            "_model_name": "ProgressStyleModel",
            "_view_count": null,
            "_view_module": "@jupyter-widgets/base",
            "_view_module_version": "1.2.0",
            "_view_name": "StyleView",
            "bar_color": null,
            "description_width": ""
          }
        },
        "460db6affeda488ebf44a15330dca730": {
          "model_module": "@jupyter-widgets/base",
          "model_name": "LayoutModel",
          "model_module_version": "1.2.0",
          "state": {
            "_model_module": "@jupyter-widgets/base",
            "_model_module_version": "1.2.0",
            "_model_name": "LayoutModel",
            "_view_count": null,
            "_view_module": "@jupyter-widgets/base",
            "_view_module_version": "1.2.0",
            "_view_name": "LayoutView",
            "align_content": null,
            "align_items": null,
            "align_self": null,
            "border": null,
            "bottom": null,
            "display": null,
            "flex": null,
            "flex_flow": null,
            "grid_area": null,
            "grid_auto_columns": null,
            "grid_auto_flow": null,
            "grid_auto_rows": null,
            "grid_column": null,
            "grid_gap": null,
            "grid_row": null,
            "grid_template_areas": null,
            "grid_template_columns": null,
            "grid_template_rows": null,
            "height": null,
            "justify_content": null,
            "justify_items": null,
            "left": null,
            "margin": null,
            "max_height": null,
            "max_width": null,
            "min_height": null,
            "min_width": null,
            "object_fit": null,
            "object_position": null,
            "order": null,
            "overflow": null,
            "overflow_x": null,
            "overflow_y": null,
            "padding": null,
            "right": null,
            "top": null,
            "visibility": null,
            "width": null
          }
        },
        "3af891aa6041458795d00f58e632aab2": {
          "model_module": "@jupyter-widgets/controls",
          "model_name": "DescriptionStyleModel",
          "model_module_version": "1.5.0",
          "state": {
            "_model_module": "@jupyter-widgets/controls",
            "_model_module_version": "1.5.0",
            "_model_name": "DescriptionStyleModel",
            "_view_count": null,
            "_view_module": "@jupyter-widgets/base",
            "_view_module_version": "1.2.0",
            "_view_name": "StyleView",
            "description_width": ""
          }
        },
        "1c7e9f7fcf2346b78222ca4cf05dfae5": {
          "model_module": "@jupyter-widgets/controls",
          "model_name": "HBoxModel",
          "model_module_version": "1.5.0",
          "state": {
            "_dom_classes": [],
            "_model_module": "@jupyter-widgets/controls",
            "_model_module_version": "1.5.0",
            "_model_name": "HBoxModel",
            "_view_count": null,
            "_view_module": "@jupyter-widgets/controls",
            "_view_module_version": "1.5.0",
            "_view_name": "HBoxView",
            "box_style": "",
            "children": [
              "IPY_MODEL_0b33915b7031447799ec1c32bc751efb",
              "IPY_MODEL_a5926404dff64e358e71b550be99e9c1",
              "IPY_MODEL_f939ad35a0ac4fa59128a80c0e1a8f4f"
            ],
            "layout": "IPY_MODEL_226bff1d8653404893b4ddcb77c69dd7"
          }
        },
        "0b33915b7031447799ec1c32bc751efb": {
          "model_module": "@jupyter-widgets/controls",
          "model_name": "HTMLModel",
          "model_module_version": "1.5.0",
          "state": {
            "_dom_classes": [],
            "_model_module": "@jupyter-widgets/controls",
            "_model_module_version": "1.5.0",
            "_model_name": "HTMLModel",
            "_view_count": null,
            "_view_module": "@jupyter-widgets/controls",
            "_view_module_version": "1.5.0",
            "_view_name": "HTMLView",
            "description": "",
            "description_tooltip": null,
            "layout": "IPY_MODEL_b4bfd83f8932406d9e3ec2e56b527d8f",
            "placeholder": "​",
            "style": "IPY_MODEL_290e73772d8b4857b75b80700df4228d",
            "value": "100%"
          }
        },
        "a5926404dff64e358e71b550be99e9c1": {
          "model_module": "@jupyter-widgets/controls",
          "model_name": "FloatProgressModel",
          "model_module_version": "1.5.0",
          "state": {
            "_dom_classes": [],
            "_model_module": "@jupyter-widgets/controls",
            "_model_module_version": "1.5.0",
            "_model_name": "FloatProgressModel",
            "_view_count": null,
            "_view_module": "@jupyter-widgets/controls",
            "_view_module_version": "1.5.0",
            "_view_name": "ProgressView",
            "bar_style": "success",
            "description": "",
            "description_tooltip": null,
            "layout": "IPY_MODEL_9b2ec56687b54d77881d8bb03b1dcad2",
            "max": 3,
            "min": 0,
            "orientation": "horizontal",
            "style": "IPY_MODEL_322b77887bb74289aacab149d14b12c1",
            "value": 3
          }
        },
        "f939ad35a0ac4fa59128a80c0e1a8f4f": {
          "model_module": "@jupyter-widgets/controls",
          "model_name": "HTMLModel",
          "model_module_version": "1.5.0",
          "state": {
            "_dom_classes": [],
            "_model_module": "@jupyter-widgets/controls",
            "_model_module_version": "1.5.0",
            "_model_name": "HTMLModel",
            "_view_count": null,
            "_view_module": "@jupyter-widgets/controls",
            "_view_module_version": "1.5.0",
            "_view_name": "HTMLView",
            "description": "",
            "description_tooltip": null,
            "layout": "IPY_MODEL_77a5ca214da04019bed63c1241b9705f",
            "placeholder": "​",
            "style": "IPY_MODEL_06709d0cb2a84633b9bedce26ad21c9e",
            "value": " 3/3 [00:00&lt;00:00, 55.61it/s]"
          }
        },
        "226bff1d8653404893b4ddcb77c69dd7": {
          "model_module": "@jupyter-widgets/base",
          "model_name": "LayoutModel",
          "model_module_version": "1.2.0",
          "state": {
            "_model_module": "@jupyter-widgets/base",
            "_model_module_version": "1.2.0",
            "_model_name": "LayoutModel",
            "_view_count": null,
            "_view_module": "@jupyter-widgets/base",
            "_view_module_version": "1.2.0",
            "_view_name": "LayoutView",
            "align_content": null,
            "align_items": null,
            "align_self": null,
            "border": null,
            "bottom": null,
            "display": null,
            "flex": null,
            "flex_flow": null,
            "grid_area": null,
            "grid_auto_columns": null,
            "grid_auto_flow": null,
            "grid_auto_rows": null,
            "grid_column": null,
            "grid_gap": null,
            "grid_row": null,
            "grid_template_areas": null,
            "grid_template_columns": null,
            "grid_template_rows": null,
            "height": null,
            "justify_content": null,
            "justify_items": null,
            "left": null,
            "margin": null,
            "max_height": null,
            "max_width": null,
            "min_height": null,
            "min_width": null,
            "object_fit": null,
            "object_position": null,
            "order": null,
            "overflow": null,
            "overflow_x": null,
            "overflow_y": null,
            "padding": null,
            "right": null,
            "top": null,
            "visibility": null,
            "width": null
          }
        },
        "b4bfd83f8932406d9e3ec2e56b527d8f": {
          "model_module": "@jupyter-widgets/base",
          "model_name": "LayoutModel",
          "model_module_version": "1.2.0",
          "state": {
            "_model_module": "@jupyter-widgets/base",
            "_model_module_version": "1.2.0",
            "_model_name": "LayoutModel",
            "_view_count": null,
            "_view_module": "@jupyter-widgets/base",
            "_view_module_version": "1.2.0",
            "_view_name": "LayoutView",
            "align_content": null,
            "align_items": null,
            "align_self": null,
            "border": null,
            "bottom": null,
            "display": null,
            "flex": null,
            "flex_flow": null,
            "grid_area": null,
            "grid_auto_columns": null,
            "grid_auto_flow": null,
            "grid_auto_rows": null,
            "grid_column": null,
            "grid_gap": null,
            "grid_row": null,
            "grid_template_areas": null,
            "grid_template_columns": null,
            "grid_template_rows": null,
            "height": null,
            "justify_content": null,
            "justify_items": null,
            "left": null,
            "margin": null,
            "max_height": null,
            "max_width": null,
            "min_height": null,
            "min_width": null,
            "object_fit": null,
            "object_position": null,
            "order": null,
            "overflow": null,
            "overflow_x": null,
            "overflow_y": null,
            "padding": null,
            "right": null,
            "top": null,
            "visibility": null,
            "width": null
          }
        },
        "290e73772d8b4857b75b80700df4228d": {
          "model_module": "@jupyter-widgets/controls",
          "model_name": "DescriptionStyleModel",
          "model_module_version": "1.5.0",
          "state": {
            "_model_module": "@jupyter-widgets/controls",
            "_model_module_version": "1.5.0",
            "_model_name": "DescriptionStyleModel",
            "_view_count": null,
            "_view_module": "@jupyter-widgets/base",
            "_view_module_version": "1.2.0",
            "_view_name": "StyleView",
            "description_width": ""
          }
        },
        "9b2ec56687b54d77881d8bb03b1dcad2": {
          "model_module": "@jupyter-widgets/base",
          "model_name": "LayoutModel",
          "model_module_version": "1.2.0",
          "state": {
            "_model_module": "@jupyter-widgets/base",
            "_model_module_version": "1.2.0",
            "_model_name": "LayoutModel",
            "_view_count": null,
            "_view_module": "@jupyter-widgets/base",
            "_view_module_version": "1.2.0",
            "_view_name": "LayoutView",
            "align_content": null,
            "align_items": null,
            "align_self": null,
            "border": null,
            "bottom": null,
            "display": null,
            "flex": null,
            "flex_flow": null,
            "grid_area": null,
            "grid_auto_columns": null,
            "grid_auto_flow": null,
            "grid_auto_rows": null,
            "grid_column": null,
            "grid_gap": null,
            "grid_row": null,
            "grid_template_areas": null,
            "grid_template_columns": null,
            "grid_template_rows": null,
            "height": null,
            "justify_content": null,
            "justify_items": null,
            "left": null,
            "margin": null,
            "max_height": null,
            "max_width": null,
            "min_height": null,
            "min_width": null,
            "object_fit": null,
            "object_position": null,
            "order": null,
            "overflow": null,
            "overflow_x": null,
            "overflow_y": null,
            "padding": null,
            "right": null,
            "top": null,
            "visibility": null,
            "width": null
          }
        },
        "322b77887bb74289aacab149d14b12c1": {
          "model_module": "@jupyter-widgets/controls",
          "model_name": "ProgressStyleModel",
          "model_module_version": "1.5.0",
          "state": {
            "_model_module": "@jupyter-widgets/controls",
            "_model_module_version": "1.5.0",
            "_model_name": "ProgressStyleModel",
            "_view_count": null,
            "_view_module": "@jupyter-widgets/base",
            "_view_module_version": "1.2.0",
            "_view_name": "StyleView",
            "bar_color": null,
            "description_width": ""
          }
        },
        "77a5ca214da04019bed63c1241b9705f": {
          "model_module": "@jupyter-widgets/base",
          "model_name": "LayoutModel",
          "model_module_version": "1.2.0",
          "state": {
            "_model_module": "@jupyter-widgets/base",
            "_model_module_version": "1.2.0",
            "_model_name": "LayoutModel",
            "_view_count": null,
            "_view_module": "@jupyter-widgets/base",
            "_view_module_version": "1.2.0",
            "_view_name": "LayoutView",
            "align_content": null,
            "align_items": null,
            "align_self": null,
            "border": null,
            "bottom": null,
            "display": null,
            "flex": null,
            "flex_flow": null,
            "grid_area": null,
            "grid_auto_columns": null,
            "grid_auto_flow": null,
            "grid_auto_rows": null,
            "grid_column": null,
            "grid_gap": null,
            "grid_row": null,
            "grid_template_areas": null,
            "grid_template_columns": null,
            "grid_template_rows": null,
            "height": null,
            "justify_content": null,
            "justify_items": null,
            "left": null,
            "margin": null,
            "max_height": null,
            "max_width": null,
            "min_height": null,
            "min_width": null,
            "object_fit": null,
            "object_position": null,
            "order": null,
            "overflow": null,
            "overflow_x": null,
            "overflow_y": null,
            "padding": null,
            "right": null,
            "top": null,
            "visibility": null,
            "width": null
          }
        },
        "06709d0cb2a84633b9bedce26ad21c9e": {
          "model_module": "@jupyter-widgets/controls",
          "model_name": "DescriptionStyleModel",
          "model_module_version": "1.5.0",
          "state": {
            "_model_module": "@jupyter-widgets/controls",
            "_model_module_version": "1.5.0",
            "_model_name": "DescriptionStyleModel",
            "_view_count": null,
            "_view_module": "@jupyter-widgets/base",
            "_view_module_version": "1.2.0",
            "_view_name": "StyleView",
            "description_width": ""
          }
        }
      }
    }
  },
  "nbformat": 4,
  "nbformat_minor": 0
}